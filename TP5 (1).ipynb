{
 "cells": [
  {
   "cell_type": "markdown",
   "metadata": {
    "id": "kBLpTr7plguX"
   },
   "source": [
    "<img src=\"https://github.com/hernancontigiani/ceia_memorias_especializacion/raw/master/Figures/logoFIUBA.jpg\" width=\"500\" align=\"center\">\n",
    "\n",
    "\n",
    "# Procesamiento de lenguaje natural\n",
    "## Sentiment analysis con Embeddings + LSTM"
   ]
  },
  {
   "cell_type": "markdown",
   "metadata": {
    "id": "9W6nuajhlqZD"
   },
   "source": [
    "### Objetivo\n",
    "El objetivo es utilizar las críticas de películas para que el sistema determine si la evaluación es positiva o negativa (sentiment analysis como clasificador binario de texto)"
   ]
  },
  {
   "cell_type": "code",
   "execution_count": 491,
   "metadata": {
    "id": "6F9d3HetZ0Pc"
   },
   "outputs": [
    {
     "name": "stderr",
     "output_type": "stream",
     "text": [
      "El sistema no puede encontrar la ruta especificada.\n",
      "WARNING: Ignoring invalid distribution -pencv-python (c:\\users\\10\\anaconda3\\lib\\site-packages)\n",
      "WARNING: Ignoring invalid distribution -pencv-python (c:\\users\\10\\anaconda3\\lib\\site-packages)\n",
      "WARNING: Ignoring invalid distribution -pencv-python (c:\\users\\10\\anaconda3\\lib\\site-packages)\n",
      "WARNING: Ignoring invalid distribution -pencv-python (c:\\users\\10\\anaconda3\\lib\\site-packages)\n",
      "WARNING: Ignoring invalid distribution -pencv-python (c:\\users\\10\\anaconda3\\lib\\site-packages)\n",
      "WARNING: Ignoring invalid distribution -pencv-python (c:\\users\\10\\anaconda3\\lib\\site-packages)\n"
     ]
    }
   ],
   "source": [
    "!pip install --upgrade --no-cache-dir gdown --quiet"
   ]
  },
  {
   "cell_type": "code",
   "execution_count": 492,
   "metadata": {
    "id": "hCpOVzJdl8_p"
   },
   "outputs": [],
   "source": [
    "import numpy as np\n",
    "import random\n",
    "import io\n",
    "import pickle\n",
    "import pandas as pd\n",
    "\n",
    "import numpy as np\n",
    "import pandas as pd\n",
    "import matplotlib.pyplot as plt\n",
    "import seaborn as sns\n",
    "\n",
    "import torch\n",
    "import torch.nn.functional as F\n",
    "import torch.nn as nn\n",
    "from torch.utils.data import Dataset, DataLoader"
   ]
  },
  {
   "cell_type": "code",
   "execution_count": 493,
   "metadata": {
    "colab": {
     "base_uri": "https://localhost:8080/"
    },
    "id": "Tx8IaJwCVISW",
    "outputId": "305be4d6-a424-411b-e0c1-ff657bee0d9f"
   },
   "outputs": [
    {
     "name": "stdout",
     "output_type": "stream",
     "text": [
      "Requirement already satisfied: torchinfo in c:\\users\\10\\anaconda3\\lib\\site-packages (1.7.0)\n"
     ]
    },
    {
     "name": "stderr",
     "output_type": "stream",
     "text": [
      "El sistema no puede encontrar la ruta especificada.\n",
      "WARNING: Ignoring invalid distribution -pencv-python (c:\\users\\10\\anaconda3\\lib\\site-packages)\n",
      "WARNING: Ignoring invalid distribution -pencv-python (c:\\users\\10\\anaconda3\\lib\\site-packages)\n",
      "WARNING: Ignoring invalid distribution -pencv-python (c:\\users\\10\\anaconda3\\lib\\site-packages)\n",
      "WARNING: Ignoring invalid distribution -pencv-python (c:\\users\\10\\anaconda3\\lib\\site-packages)\n",
      "WARNING: Ignoring invalid distribution -pencv-python (c:\\users\\10\\anaconda3\\lib\\site-packages)\n",
      "WARNING: Ignoring invalid distribution -pencv-python (c:\\users\\10\\anaconda3\\lib\\site-packages)\n"
     ]
    }
   ],
   "source": [
    "# torchsummar actualmente tiene un problema con las LSTM, por eso\n",
    "# se utiliza torchinfo, un fork del proyecto original con el bug solucionado\n",
    "!pip3 install torchinfo\n",
    "from torchinfo import summary"
   ]
  },
  {
   "cell_type": "code",
   "execution_count": 494,
   "metadata": {
    "id": "tHvfdSpfVcBn"
   },
   "outputs": [],
   "source": [
    "import os\n",
    "import platform\n",
    "\n",
    "if os.access('torch_helpers.py', os.F_OK) is False:\n",
    "    if platform.system() == 'Windows':\n",
    "        !curl !wget https://raw.githubusercontent.com/FIUBA-Posgrado-Inteligencia-Artificial/procesamiento_lenguaje_natural/main/scripts/torch_helpers.py > torch_helpers.py\n",
    "    else:\n",
    "        !wget torch_helpers.py https://raw.githubusercontent.com/FIUBA-Posgrado-Inteligencia-Artificial/procesamiento_lenguaje_natural/main/scripts/torch_helpers.py"
   ]
  },
  {
   "cell_type": "code",
   "execution_count": 495,
   "metadata": {
    "colab": {
     "base_uri": "https://localhost:8080/"
    },
    "id": "s29vD6NO0Sdw",
    "outputId": "042b3114-6c35-42df-849f-6d1dcb0c18ab"
   },
   "outputs": [
    {
     "name": "stdout",
     "output_type": "stream",
     "text": [
      "Requirement already satisfied: torchmetrics in c:\\users\\10\\anaconda3\\lib\\site-packages (0.9.3)\n",
      "Requirement already satisfied: numpy>=1.17.2 in c:\\users\\10\\anaconda3\\lib\\site-packages (from torchmetrics) (1.23.1)\n",
      "Requirement already satisfied: torch>=1.3.1 in c:\\users\\10\\anaconda3\\lib\\site-packages (from torchmetrics) (1.11.0)\n",
      "Requirement already satisfied: packaging in c:\\users\\10\\anaconda3\\lib\\site-packages (from torchmetrics) (20.4)\n",
      "Requirement already satisfied: typing-extensions in c:\\users\\10\\anaconda3\\lib\\site-packages (from torch>=1.3.1->torchmetrics) (3.7.4.3)\n",
      "Requirement already satisfied: six in c:\\users\\10\\anaconda3\\lib\\site-packages (from packaging->torchmetrics) (1.15.0)\n",
      "Requirement already satisfied: pyparsing>=2.0.2 in c:\\users\\10\\anaconda3\\lib\\site-packages (from packaging->torchmetrics) (2.4.7)\n"
     ]
    },
    {
     "name": "stderr",
     "output_type": "stream",
     "text": [
      "El sistema no puede encontrar la ruta especificada.\n",
      "WARNING: Ignoring invalid distribution -pencv-python (c:\\users\\10\\anaconda3\\lib\\site-packages)\n",
      "WARNING: Ignoring invalid distribution -pencv-python (c:\\users\\10\\anaconda3\\lib\\site-packages)\n",
      "WARNING: Ignoring invalid distribution -pencv-python (c:\\users\\10\\anaconda3\\lib\\site-packages)\n",
      "WARNING: Ignoring invalid distribution -pencv-python (c:\\users\\10\\anaconda3\\lib\\site-packages)\n",
      "WARNING: Ignoring invalid distribution -pencv-python (c:\\users\\10\\anaconda3\\lib\\site-packages)\n",
      "WARNING: Ignoring invalid distribution -pencv-python (c:\\users\\10\\anaconda3\\lib\\site-packages)\n"
     ]
    }
   ],
   "source": [
    "!pip install torchmetrics"
   ]
  },
  {
   "cell_type": "code",
   "execution_count": 496,
   "metadata": {
    "id": "kMQMluufVe30"
   },
   "outputs": [],
   "source": [
    "from torch_helpers import binary_acc\n",
    "from torchmetrics.functional import f1_score\n",
    "\n",
    "def train(model, train_loader, valid_loader, optimizer, criterion, epochs=100):\n",
    "    # Defino listas para realizar graficas de los resultados\n",
    "    train_loss = []\n",
    "    train_accuracy = []\n",
    "    valid_loss = []\n",
    "    valid_accuracy = []\n",
    "\n",
    "    # Defino mi loop de entrenamiento\n",
    "\n",
    "    for epoch in range(epochs):\n",
    "\n",
    "        epoch_train_loss = 0.0\n",
    "        epoch_train_accuracy = 0.0\n",
    "\n",
    "        for train_data, train_target in train_loader:\n",
    "            # Seteo los gradientes en cero ya que, por defecto, PyTorch\n",
    "            # los va acumulando\n",
    "            optimizer.zero_grad()\n",
    "\n",
    "            output = model(train_data)\n",
    "\n",
    "            # Computo el error de la salida comparando contra las etiquetas\n",
    "            loss = criterion(output, train_target)\n",
    "\n",
    "            # Almaceno el error del batch para luego tener el error promedio de la epoca\n",
    "            epoch_train_loss += loss.item()\n",
    "\n",
    "            # Computo el nuevo set de gradientes a lo largo de toda la red\n",
    "            loss.backward()\n",
    "\n",
    "            # Realizo el paso de optimizacion actualizando los parametros de toda la red\n",
    "            optimizer.step()\n",
    "\n",
    "            # Calculo el accuracy del batch\n",
    "            #print(type(output))\n",
    "            #print(type(train_target))\n",
    "\n",
    "            #output = output.type(torch.int64)\n",
    "            #train_target = train_target.type(torch.int64)\n",
    "            accuracy = binary_acc(output, train_target)#f1_score(output, train_target).item() #f1_score(output, train_target) #binary_acc(output, train_target)\n",
    "            # Almaceno el accuracy del batch para luego tener el accuracy promedio de la epoca\n",
    "            epoch_train_accuracy += accuracy#.item()\n",
    "\n",
    "        # Calculo la media de error para la epoca de entrenamiento.\n",
    "        # La longitud de train_loader es igual a la cantidad de batches dentro de una epoca.\n",
    "        epoch_train_loss = epoch_train_loss / len(train_loader)\n",
    "        train_loss.append(epoch_train_loss)\n",
    "        epoch_train_accuracy = epoch_train_accuracy / len(train_loader)        \n",
    "        train_accuracy.append(epoch_train_accuracy)\n",
    "\n",
    "        # Realizo el paso de validación computando error y accuracy, y\n",
    "        # almacenando los valores para imprimirlos y graficarlos\n",
    "        valid_data, valid_target = iter(valid_loader).next()\n",
    "        output = model(valid_data)\n",
    "        \n",
    "        epoch_valid_loss = criterion(output, valid_target).item()\n",
    "        valid_loss.append(epoch_valid_loss)\n",
    "\n",
    "        # Calculo el accuracy de la epoch\n",
    "        #valid_target = valid_target.type(torch.int64)\n",
    "        #output = output.type(torch.float64)\n",
    "        epoch_valid_accuracy = binary_acc(output, valid_target).item()#f1_score(output, valid_target).item()\n",
    "        valid_accuracy.append(epoch_valid_accuracy)\n",
    "\n",
    "        print(f\"Epoch: {epoch+1}/{epochs} - Train loss {epoch_train_loss:.3f} - Train accuracy {epoch_train_accuracy:.3f} - Valid Loss {epoch_valid_loss:.3f} - Valid accuracy {epoch_valid_accuracy:.3f}\")\n",
    "\n",
    "    history = {\n",
    "        \"loss\": train_loss,\n",
    "        \"accuracy\": train_accuracy,\n",
    "        \"val_loss\": valid_loss,\n",
    "        \"val_accuracy\": valid_accuracy,\n",
    "    }\n",
    "    return history"
   ]
  },
  {
   "cell_type": "markdown",
   "metadata": {
    "id": "8UPeRkrAmbF3"
   },
   "source": [
    "### Datos\n",
    "Utilizaremos como dataset críticas de películas de IMDB puntuadas deforma positiva o negativa.\\\n",
    "Referencia del dataset: [LINK](https://www.kaggle.com/lakshmi25npathi/imdb-dataset-of-50k-movie-reviews)"
   ]
  },
  {
   "cell_type": "code",
   "execution_count": 497,
   "metadata": {
    "colab": {
     "base_uri": "https://localhost:8080/"
    },
    "id": "C7jLvTU3lSyL",
    "outputId": "a73473c0-0f85-4ad5-96d3-d963086b4dea"
   },
   "outputs": [
    {
     "name": "stdout",
     "output_type": "stream",
     "text": [
      "El dataset ya se encuentra descargado\n"
     ]
    }
   ],
   "source": [
    "# Descargar la carpeta de dataset\n",
    "import os\n",
    "import gdown\n",
    "if os.access('clothing_ecommerce_reviews.csv', os.F_OK) is False:\n",
    "    url = 'https://drive.google.com/uc?id=1k2Dz4oY5uxI3JEaT6m-L2T2HvLkECYIP'\n",
    "    output = 'clothing_ecommerce_reviews.csv'\n",
    "    gdown.download(url, output, quiet=False)\n",
    "else:\n",
    "    print(\"El dataset ya se encuentra descargado\")"
   ]
  },
  {
   "cell_type": "code",
   "execution_count": 498,
   "metadata": {
    "id": "o-SV1P3dnD1J"
   },
   "outputs": [],
   "source": [
    "# Armar el dataset\n",
    "df_ = pd.read_csv('clothing_ecommerce_reviews.csv')\n",
    "df = df_[[\"Review Text\", \"Rating\"]]"
   ]
  },
  {
   "cell_type": "markdown",
   "metadata": {
    "id": "q-OwSePKm-FK"
   },
   "source": [
    "### 1 - Limpieza de datos\n",
    "- En los datos se observo que en la columna \"review\" hay código HTML de salto de línea.\n",
    "- Tranformar la columna snetiment a 0 y 1\n",
    "\n"
   ]
  },
  {
   "cell_type": "code",
   "execution_count": 499,
   "metadata": {
    "colab": {
     "base_uri": "https://localhost:8080/",
     "height": 279
    },
    "id": "nDc6ZU7A97VK",
    "outputId": "1e371951-8082-47b3-cd2e-1c14f238c9c2"
   },
   "outputs": [
    {
     "data": {
      "image/png": "[encoded data removed]",
      "text/plain": [
       "<Figure size 432x288 with 1 Axes>"
      ]
     },
     "metadata": {
      "needs_background": "light"
     },
     "output_type": "display_data"
    }
   ],
   "source": [
    "sns.countplot(x='Rating', data=df)\n",
    "plt.show()"
   ]
  },
  {
   "cell_type": "code",
   "execution_count": 500,
   "metadata": {
    "colab": {
     "base_uri": "https://localhost:8080/",
     "height": 417
    },
    "id": "-hc7-AmYnPC3",
    "outputId": "15ef7834-20bf-4381-e069-e19249411a57"
   },
   "outputs": [
    {
     "name": "stderr",
     "output_type": "stream",
     "text": [
      "C:\\Users\\10\\anaconda3\\lib\\site-packages\\pandas\\core\\series.py:4563: SettingWithCopyWarning: \n",
      "A value is trying to be set on a copy of a slice from a DataFrame\n",
      "\n",
      "See the caveats in the documentation: https://pandas.pydata.org/pandas-docs/stable/user_guide/indexing.html#returning-a-view-versus-a-copy\n",
      "  return super().replace(\n",
      "<ipython-input-500-0bd4d06951fd>:9: SettingWithCopyWarning: \n",
      "A value is trying to be set on a copy of a slice from a DataFrame.\n",
      "Try using .loc[row_indexer,col_indexer] = value instead\n",
      "\n",
      "See the caveats in the documentation: https://pandas.pydata.org/pandas-docs/stable/user_guide/indexing.html#returning-a-view-versus-a-copy\n",
      "  df[\"Rating\"] = df[\"Rating\"] -1\n"
     ]
    },
    {
     "data": {
      "text/html": [
       "<div>\n",
       "<style scoped>\n",
       "    .dataframe tbody tr th:only-of-type {\n",
       "        vertical-align: middle;\n",
       "    }\n",
       "\n",
       "    .dataframe tbody tr th {\n",
       "        vertical-align: top;\n",
       "    }\n",
       "\n",
       "    .dataframe thead th {\n",
       "        text-align: right;\n",
       "    }\n",
       "</style>\n",
       "<table border=\"1\" class=\"dataframe\">\n",
       "  <thead>\n",
       "    <tr style=\"text-align: right;\">\n",
       "      <th></th>\n",
       "      <th>Review Text</th>\n",
       "      <th>Rating</th>\n",
       "    </tr>\n",
       "  </thead>\n",
       "  <tbody>\n",
       "    <tr>\n",
       "      <th>0</th>\n",
       "      <td>Absolutely wonderful - silky and sexy and comf...</td>\n",
       "      <td>1</td>\n",
       "    </tr>\n",
       "    <tr>\n",
       "      <th>1</th>\n",
       "      <td>Love this dress!  it's sooo pretty.  i happene...</td>\n",
       "      <td>1</td>\n",
       "    </tr>\n",
       "    <tr>\n",
       "      <th>2</th>\n",
       "      <td>I had such high hopes for this dress and reall...</td>\n",
       "      <td>0</td>\n",
       "    </tr>\n",
       "    <tr>\n",
       "      <th>3</th>\n",
       "      <td>I love, love, love this jumpsuit. it's fun, fl...</td>\n",
       "      <td>1</td>\n",
       "    </tr>\n",
       "    <tr>\n",
       "      <th>4</th>\n",
       "      <td>This shirt is very flattering to all due to th...</td>\n",
       "      <td>1</td>\n",
       "    </tr>\n",
       "  </tbody>\n",
       "</table>\n",
       "</div>"
      ],
      "text/plain": [
       "                                         Review Text  Rating\n",
       "0  Absolutely wonderful - silky and sexy and comf...       1\n",
       "1  Love this dress!  it's sooo pretty.  i happene...       1\n",
       "2  I had such high hopes for this dress and reall...       0\n",
       "3  I love, love, love this jumpsuit. it's fun, fl...       1\n",
       "4  This shirt is very flattering to all due to th...       1"
      ]
     },
     "execution_count": 500,
     "metadata": {},
     "output_type": "execute_result"
    }
   ],
   "source": [
    "# En los datos se observó código de HTML de salto de línea <br />\n",
    "import re\n",
    "\n",
    "\n",
    "df[\"Rating\"].replace({2: 1}, inplace=True)\n",
    "df[\"Rating\"].replace({3: 1}, inplace=True)\n",
    "df[\"Rating\"].replace({4: 2}, inplace=True)\n",
    "df[\"Rating\"].replace({5: 2}, inplace=True)\n",
    "df[\"Rating\"] = df[\"Rating\"] -1\n",
    "df_reviews = df.copy()\n",
    "df_reviews.head()"
   ]
  },
  {
   "cell_type": "code",
   "execution_count": 501,
   "metadata": {
    "colab": {
     "base_uri": "https://localhost:8080/"
    },
    "id": "sZtvASVOn3ty",
    "outputId": "7484ecd8-5c58-4234-eef9-3616475a7dbc"
   },
   "outputs": [
    {
     "data": {
      "text/plain": [
       "1    18208\n",
       "0     5278\n",
       "Name: Rating, dtype: int64"
      ]
     },
     "execution_count": 501,
     "metadata": {},
     "output_type": "execute_result"
    }
   ],
   "source": [
    "# Observar como está distribuido el dataset respecto a la columna Rating\n",
    "# es decir, observar que tan balanceado se encuentra respecot a cada clase\n",
    "df_reviews['Rating'].value_counts()"
   ]
  },
  {
   "cell_type": "code",
   "execution_count": 502,
   "metadata": {
    "colab": {
     "base_uri": "https://localhost:8080/",
     "height": 279
    },
    "id": "v7QJ2poZn9b-",
    "outputId": "94837fc7-e166-4776-9ac9-0329bc0ba2c1"
   },
   "outputs": [
    {
     "data": {
      "image/png": "[encoded data removed]",
      "text/plain": [
       "<Figure size 432x288 with 1 Axes>"
      ]
     },
     "metadata": {
      "needs_background": "light"
     },
     "output_type": "display_data"
    }
   ],
   "source": [
    "# Observar como está distribuido el dataset\n",
    "sns.countplot(x='Rating', data=df_reviews)\n",
    "plt.show()"
   ]
  },
  {
   "cell_type": "markdown",
   "metadata": {
    "id": "juVSYR89x_2v"
   },
   "source": [
    "Se puede observar que el dataset está perfectamente balanceado"
   ]
  },
  {
   "cell_type": "code",
   "execution_count": 503,
   "metadata": {
    "colab": {
     "base_uri": "https://localhost:8080/"
    },
    "id": "gVJ_RVi4o1h3",
    "outputId": "ad2b164f-e9e7-4e59-9ee8-3a7d2ea37403"
   },
   "outputs": [
    {
     "data": {
      "text/plain": [
       "(23486,)"
      ]
     },
     "execution_count": 503,
     "metadata": {},
     "output_type": "execute_result"
    }
   ],
   "source": [
    "# Tomar la columna de las review y almacenarlo todo en un vector numpy de reviews\n",
    "text_sequences = df_reviews['Review Text'].values\n",
    "text_sequences.shape"
   ]
  },
  {
   "cell_type": "code",
   "execution_count": 504,
   "metadata": {
    "colab": {
     "base_uri": "https://localhost:8080/"
    },
    "id": "4nT5Un_co65Q",
    "outputId": "50e5de6e-6299-450a-fe43-a27fa2eea1eb"
   },
   "outputs": [
    {
     "data": {
      "text/plain": [
       "23486"
      ]
     },
     "execution_count": 504,
     "metadata": {},
     "output_type": "execute_result"
    }
   ],
   "source": [
    "# Cuantas reviews (rows) hay para evaluar?\n",
    "len(text_sequences)"
   ]
  },
  {
   "cell_type": "code",
   "execution_count": 505,
   "metadata": {
    "id": "qFEDS_AbkoPo"
   },
   "outputs": [],
   "source": [
    "cont = 0\n",
    "for k in text_sequences:\n",
    "  if type(k) != str :\n",
    "    text_sequences[cont] = \" \"#str(k)\n",
    "  cont = cont + 1"
   ]
  },
  {
   "cell_type": "code",
   "execution_count": 506,
   "metadata": {
    "colab": {
     "base_uri": "https://localhost:8080/",
     "height": 36
    },
    "id": "tFdSj1m2mZ63",
    "outputId": "1380c514-98a6-495f-dc8c-54c1063cdb29"
   },
   "outputs": [
    {
     "data": {
      "text/plain": [
       "' '"
      ]
     },
     "execution_count": 506,
     "metadata": {},
     "output_type": "execute_result"
    }
   ],
   "source": [
    "text_sequences[92]"
   ]
  },
  {
   "cell_type": "code",
   "execution_count": 507,
   "metadata": {
    "id": "HP5uN9tqpHu_"
   },
   "outputs": [],
   "source": [
    "# Concatenar todas las reviews para armar el corpus\n",
    "corpus = ' '.join(text_sequences)"
   ]
  },
  {
   "cell_type": "code",
   "execution_count": 508,
   "metadata": {
    "colab": {
     "base_uri": "https://localhost:8080/"
    },
    "id": "FEzmePgdpf74",
    "outputId": "7dd7977a-3b5b-4d6a-b53a-e71cf1be276c"
   },
   "outputs": [
    {
     "data": {
      "text/plain": [
       "7013333"
      ]
     },
     "execution_count": 508,
     "metadata": {},
     "output_type": "execute_result"
    }
   ],
   "source": [
    "# ¿Cuál es la longitud de ese corpus?\n",
    "len(corpus)"
   ]
  },
  {
   "cell_type": "code",
   "execution_count": 509,
   "metadata": {
    "id": "MYeJLdDmpvOe"
   },
   "outputs": [],
   "source": [
    "# Utilizar \"text_to_word_sequence\" para separar las palabras en tokens\n",
    "# recordar que text_to_word_sequence automaticamente quita los signos de puntuacion y pasa el texto a lowercase\n",
    "from torch_helpers import text_to_word_sequence\n",
    "tokens = text_to_word_sequence(corpus)"
   ]
  },
  {
   "cell_type": "code",
   "execution_count": 510,
   "metadata": {
    "colab": {
     "base_uri": "https://localhost:8080/"
    },
    "id": "M6L-fnWAp_lA",
    "outputId": "a1bdc818-b059-44e8-db2c-8a0d0b17a1fd"
   },
   "outputs": [
    {
     "data": {
      "text/plain": [
       "['absolutely',\n",
       " 'wonderful',\n",
       " 'silky',\n",
       " 'and',\n",
       " 'sexy',\n",
       " 'and',\n",
       " 'comfortable',\n",
       " 'love',\n",
       " 'this',\n",
       " 'dress',\n",
       " \"it's\",\n",
       " 'sooo',\n",
       " 'pretty',\n",
       " 'i',\n",
       " 'happened',\n",
       " 'to',\n",
       " 'find',\n",
       " 'it',\n",
       " 'in',\n",
       " 'a']"
      ]
     },
     "execution_count": 510,
     "metadata": {},
     "output_type": "execute_result"
    }
   ],
   "source": [
    "# Dar un vistazo a los primeros 20 tokens/palabras\n",
    "tokens[:20]"
   ]
  },
  {
   "cell_type": "code",
   "execution_count": 511,
   "metadata": {
    "colab": {
     "base_uri": "https://localhost:8080/"
    },
    "id": "-8QgwwMUqG0d",
    "outputId": "c7aad9a2-a729-454c-c1d8-d4af01f06a7f"
   },
   "outputs": [
    {
     "data": {
      "text/plain": [
       "1372203"
      ]
     },
     "execution_count": 511,
     "metadata": {},
     "output_type": "execute_result"
    }
   ],
   "source": [
    "# ¿Cuántos tokens/palabras hay?\n",
    "len(tokens)"
   ]
  },
  {
   "cell_type": "code",
   "execution_count": 512,
   "metadata": {
    "id": "TFukNZdOsZ8_"
   },
   "outputs": [],
   "source": [
    "# Tokenizar las palabras con el Tokenizer de Keras\n",
    "# Definir una máxima cantidad de palabras a utilizar:\n",
    "# - num_words --> the maximum number of words to keep, based on word frequency.\n",
    "# - Only the most common num_words-1 words will be kept.\n",
    "from keras.preprocessing.text import Tokenizer\n",
    "num_words = 2000\n",
    "vocab_size = num_words\n",
    "tok = Tokenizer(num_words=2000) \n",
    "tok.fit_on_texts(tokens)"
   ]
  },
  {
   "cell_type": "code",
   "execution_count": 513,
   "metadata": {
    "colab": {
     "base_uri": "https://localhost:8080/"
    },
    "id": "JnR1tlqZy94X",
    "outputId": "a4d5b234-9185-4706-ad1c-8f9409cb425d"
   },
   "outputs": [
    {
     "data": {
      "text/plain": [
       "14847"
      ]
     },
     "execution_count": 513,
     "metadata": {},
     "output_type": "execute_result"
    }
   ],
   "source": [
    "# Obtener el diccionario de palabra (word) a índice\n",
    "# y observar la cantidad total del vocabulario\n",
    "word_index = tok.word_index\n",
    "len(word_index)"
   ]
  },
  {
   "cell_type": "code",
   "execution_count": 514,
   "metadata": {
    "id": "AvWzzSretQXf"
   },
   "outputs": [],
   "source": [
    "# Convertir las palabras/tokens a números\n",
    "sequences = tok.texts_to_sequences(text_sequences)"
   ]
  },
  {
   "cell_type": "code",
   "execution_count": 515,
   "metadata": {
    "colab": {
     "base_uri": "https://localhost:8080/"
    },
    "id": "hfedPDOQD64v",
    "outputId": "38da38f5-99d8-49f2-997e-43e4bbfafe0a"
   },
   "outputs": [
    {
     "data": {
      "text/plain": [
       "[253, 532, 917, 3, 662, 3, 68]"
      ]
     },
     "execution_count": 515,
     "metadata": {},
     "output_type": "execute_result"
    }
   ],
   "source": [
    "sequences[0][:10]"
   ]
  },
  {
   "cell_type": "code",
   "execution_count": 516,
   "metadata": {
    "colab": {
     "base_uri": "https://localhost:8080/"
    },
    "id": "za73M5SRtbrP",
    "outputId": "cd6a24cd-2831-461d-bc32-85b5fde9f83a"
   },
   "outputs": [
    {
     "data": {
      "text/plain": [
       "115"
      ]
     },
     "execution_count": 516,
     "metadata": {},
     "output_type": "execute_result"
    }
   ],
   "source": [
    "# Determinar cual es la oración más larga\n",
    "max(len(s) for s in sequences)"
   ]
  },
  {
   "cell_type": "code",
   "execution_count": 517,
   "metadata": {
    "id": "oCkO9Wc9tls1"
   },
   "outputs": [],
   "source": [
    "# Realizar padding de las sentencias al mismo tamaño\n",
    "# tomando de referencia la máxima sentencia\n",
    "from torch_helpers import pad_sequences\n",
    "maxlen = 200\n",
    "\n",
    "# Al realizar padding obtener la variable \"X\" (input)\n",
    "X = pad_sequences(sequences, padding='pre', maxlen=maxlen)"
   ]
  },
  {
   "cell_type": "code",
   "execution_count": 518,
   "metadata": {
    "colab": {
     "base_uri": "https://localhost:8080/"
    },
    "id": "kGHHabVdt_aa",
    "outputId": "db9972e2-0a10-4618-853c-de9b94b03e66"
   },
   "outputs": [
    {
     "data": {
      "text/plain": [
       "(23486, 200)"
      ]
     },
     "execution_count": 518,
     "metadata": {},
     "output_type": "execute_result"
    }
   ],
   "source": [
    "# Observar las dimensiones de la variable input\n",
    "X.shape"
   ]
  },
  {
   "cell_type": "code",
   "execution_count": 519,
   "metadata": {
    "colab": {
     "base_uri": "https://localhost:8080/"
    },
    "id": "llVM-tzQo9_F",
    "outputId": "404345a2-609c-4e3e-9294-513a97a5f193"
   },
   "outputs": [
    {
     "name": "stdout",
     "output_type": "stream",
     "text": [
      "(23486,)\n"
     ]
    }
   ],
   "source": [
    "# Tomar la columna rating y alcemacenarla en una variable \"y\"\n",
    "# Su shape debe ser equivalente la cantidad de rows del corpus\n",
    "y = df_reviews['Rating'].values\n",
    "print(y.shape)"
   ]
  },
  {
   "cell_type": "code",
   "execution_count": 520,
   "metadata": {
    "colab": {
     "base_uri": "https://localhost:8080/"
    },
    "id": "wn31dW4TV-sW",
    "outputId": "ffd6eac8-ae15-4551-a53b-bdcfb789a204"
   },
   "outputs": [
    {
     "name": "stdout",
     "output_type": "stream",
     "text": [
      "input_size: 200\n",
      "Output dim 1\n"
     ]
    }
   ],
   "source": [
    "class Data(Dataset):\n",
    "    def __init__(self, x, y):\n",
    "        # Convertir los arrays de numpy a tensores. \n",
    "        # pytorch espera en general entradas 32bits\n",
    "        self.x = torch.from_numpy(x.astype(np.int32))\n",
    "        # la loss function esperan la salida float\n",
    "        self.y = torch.from_numpy(y.astype(np.int32)).float().view(-1, 1)\n",
    "\n",
    "        self.len = self.y.shape[0]\n",
    "\n",
    "    def __getitem__(self,index):\n",
    "        return self.x[index], self.y[index]\n",
    "\n",
    "    def __len__(self):\n",
    "        return self.len\n",
    "\n",
    "data_set = Data(X, y)\n",
    "\n",
    "input_size = data_set.x.shape[1]\n",
    "print(\"input_size:\", input_size)\n",
    "\n",
    "output_dim = data_set.y.shape[1]\n",
    "print(\"Output dim\", output_dim)"
   ]
  },
  {
   "cell_type": "code",
   "execution_count": 521,
   "metadata": {
    "colab": {
     "base_uri": "https://localhost:8080/"
    },
    "id": "jvXXvuH8WZpH",
    "outputId": "354694b0-5cad-4bf7-8d4b-781e9532a23e"
   },
   "outputs": [
    {
     "name": "stdout",
     "output_type": "stream",
     "text": [
      "Tamaño del conjunto de entrenamiento: 7516\n",
      "Tamaño del conjunto de validacion: 1878\n"
     ]
    }
   ],
   "source": [
    "# Utilizamos \"random_split\" para crear los datos de train y test\n",
    "# partir del conjunto de datos_set\n",
    "# Fijamos un \"seed\" constante para que siempre el dataset se parta de la misma forma\n",
    "# para poder repetir los ensayos\n",
    "torch.manual_seed(42)\n",
    "data_set_reduced_size = int(data_set.len * 0.4)\n",
    "valid_set_size = int(data_set_reduced_size * 0.2)\n",
    "train_set_size = data_set_reduced_size - valid_set_size\n",
    "data_set_reduced, _ = torch.utils.data.random_split(data_set, [data_set_reduced_size, data_set.len - data_set_reduced_size])\n",
    "train_set, valid_set = torch.utils.data.random_split(data_set_reduced, [train_set_size, data_set_reduced_size - train_set_size])\n",
    "\n",
    "print(\"Tamaño del conjunto de entrenamiento:\", len(train_set))\n",
    "print(\"Tamaño del conjunto de validacion:\", len(valid_set))\n",
    "\n",
    "train_loader = torch.utils.data.DataLoader(train_set, batch_size=32, shuffle=True)\n",
    "valid_loader = torch.utils.data.DataLoader(valid_set, batch_size=32, shuffle=True)"
   ]
  },
  {
   "cell_type": "markdown",
   "metadata": {
    "id": "NpbQHExL6OTu"
   },
   "source": [
    "### 2 - Entrenar el modelo con Embeddings + LSTM"
   ]
  },
  {
   "cell_type": "markdown",
   "metadata": {
    "id": "vkkl3FTL6Uhk"
   },
   "source": [
    "Embeddings Fasttext + LSTM"
   ]
  },
  {
   "cell_type": "code",
   "execution_count": 522,
   "metadata": {
    "colab": {
     "base_uri": "https://localhost:8080/"
    },
    "id": "tIgZkwiNprmG",
    "outputId": "8468bc14-88e4-43b7-981c-ce9384049eb6"
   },
   "outputs": [
    {
     "name": "stdout",
     "output_type": "stream",
     "text": [
      "Los embeddings fasttext.pkl ya están descargados\n"
     ]
    }
   ],
   "source": [
    "# Descargar los embeddings desde un gogle drive (es la forma más rápida)\n",
    "# NOTA: No hay garantía de que estos links perduren, en caso de que no estén\n",
    "# disponibles descargar de la página oficial como se explica en el siguiente bloque\n",
    "import os\n",
    "import gdown\n",
    "if os.access('fasttext.pkl', os.F_OK) is False:\n",
    "    url = 'https://drive.google.com/uc?id=1KU5qmAYh3LATMvVgocFDfW-PK3prm1WU&export=download'\n",
    "    output = 'fasttext.pkl'\n",
    "    gdown.download(url, output, quiet=False)\n",
    "else:\n",
    "    print(\"Los embeddings fasttext.pkl ya están descargados\")"
   ]
  },
  {
   "cell_type": "code",
   "execution_count": 523,
   "metadata": {
    "id": "QMbkn_KppuDI"
   },
   "outputs": [],
   "source": [
    "import logging\n",
    "import os\n",
    "from pathlib import Path\n",
    "from io import StringIO\n",
    "import pickle\n",
    "\n",
    "class WordsEmbeddings(object):\n",
    "    logger = logging.getLogger(__name__)\n",
    "\n",
    "    def __init__(self):\n",
    "        # load the embeddings\n",
    "        words_embedding_pkl = Path(self.PKL_PATH)\n",
    "        if not words_embedding_pkl.is_file():\n",
    "            words_embedding_txt = Path(self.WORD_TO_VEC_MODEL_TXT_PATH)\n",
    "            assert words_embedding_txt.is_file(), 'Words embedding not available'\n",
    "            embeddings = self.convert_model_to_pickle()\n",
    "        else:\n",
    "            embeddings = self.load_model_from_pickle()\n",
    "        self.embeddings = embeddings\n",
    "        # build the vocabulary hashmap\n",
    "        index = np.arange(self.embeddings.shape[0])\n",
    "        # Dicctionarios para traducir de embedding a IDX de la palabra\n",
    "        self.word2idx = dict(zip(self.embeddings['word'], index))\n",
    "        self.idx2word = dict(zip(index, self.embeddings['word']))\n",
    "\n",
    "    def get_words_embeddings(self, words):\n",
    "        words_idxs = self.words2idxs(words)\n",
    "        return self.embeddings[words_idxs]['embedding']\n",
    "\n",
    "    def words2idxs(self, words):\n",
    "        return np.array([self.word2idx.get(word, -1) for word in words])\n",
    "\n",
    "    def idxs2words(self, idxs):\n",
    "        return np.array([self.idx2word.get(idx, '-1') for idx in idxs])\n",
    "\n",
    "    def load_model_from_pickle(self):\n",
    "        self.logger.debug(\n",
    "            'loading words embeddings from pickle {}'.format(\n",
    "                self.PKL_PATH\n",
    "            )\n",
    "        )\n",
    "        max_bytes = 2**28 - 1 # 256MB\n",
    "        bytes_in = bytearray(0)\n",
    "        input_size = os.path.getsize(self.PKL_PATH)\n",
    "        with open(self.PKL_PATH, 'rb') as f_in:\n",
    "            for _ in range(0, input_size, max_bytes):\n",
    "                bytes_in += f_in.read(max_bytes)\n",
    "        embeddings = pickle.loads(bytes_in)\n",
    "        self.logger.debug('words embeddings loaded')\n",
    "        return embeddings\n",
    "\n",
    "    def convert_model_to_pickle(self):\n",
    "        # create a numpy strctured array:\n",
    "        # word     embedding\n",
    "        # U50      np.float32[]\n",
    "        # word_1   a, b, c\n",
    "        # word_2   d, e, f\n",
    "        # ...\n",
    "        # word_n   g, h, i\n",
    "        self.logger.debug(\n",
    "            'converting and loading words embeddings from text file {}'.format(\n",
    "                self.WORD_TO_VEC_MODEL_TXT_PATH\n",
    "            )\n",
    "        )\n",
    "        structure = [('word', np.dtype('U' + str(self.WORD_MAX_SIZE))),\n",
    "                     ('embedding', np.float32, (self.N_FEATURES,))]\n",
    "        structure = np.dtype(structure)\n",
    "        # load numpy array from disk using a generator\n",
    "        with open(self.WORD_TO_VEC_MODEL_TXT_PATH, encoding=\"utf8\") as words_embeddings_txt:\n",
    "            embeddings_gen = (\n",
    "                (line.split()[0], line.split()[1:]) for line in words_embeddings_txt\n",
    "                if len(line.split()[1:]) == self.N_FEATURES\n",
    "            )\n",
    "            embeddings = np.fromiter(embeddings_gen, structure)\n",
    "        # add a null embedding\n",
    "        null_embedding = np.array(\n",
    "            [('null_embedding', np.zeros((self.N_FEATURES,), dtype=np.float32))],\n",
    "            dtype=structure\n",
    "        )\n",
    "        embeddings = np.concatenate([embeddings, null_embedding])\n",
    "        # dump numpy array to disk using pickle\n",
    "        max_bytes = 2**28 - 1 # # 256MB\n",
    "        bytes_out = pickle.dumps(embeddings, protocol=pickle.HIGHEST_PROTOCOL)\n",
    "        with open(self.PKL_PATH, 'wb') as f_out:\n",
    "            for idx in range(0, len(bytes_out), max_bytes):\n",
    "                f_out.write(bytes_out[idx:idx+max_bytes])\n",
    "        self.logger.debug('words embeddings loaded')\n",
    "        return embeddings\n",
    "\n",
    "\n",
    "class GloveEmbeddings(WordsEmbeddings):\n",
    "    WORD_TO_VEC_MODEL_TXT_PATH = 'glove.twitter.27B.50d.txt'\n",
    "    PKL_PATH = 'gloveembedding.pkl'\n",
    "    N_FEATURES = 50\n",
    "    WORD_MAX_SIZE = 60\n",
    "\n",
    "\n",
    "class FasttextEmbeddings(WordsEmbeddings):\n",
    "    WORD_TO_VEC_MODEL_TXT_PATH = 'cc.en.300.vec'\n",
    "    PKL_PATH = 'fasttext.pkl'\n",
    "    N_FEATURES = 300\n",
    "    WORD_MAX_SIZE = 60"
   ]
  },
  {
   "cell_type": "code",
   "execution_count": 524,
   "metadata": {
    "id": "Vo3STvSgp938"
   },
   "outputs": [],
   "source": [
    "model_fasttext = FasttextEmbeddings()"
   ]
  },
  {
   "cell_type": "code",
   "execution_count": 525,
   "metadata": {
    "colab": {
     "base_uri": "https://localhost:8080/"
    },
    "id": "j2ECgkKCzSFt",
    "outputId": "cfce22bb-a7ea-4021-cc6c-28fecb84a6ab"
   },
   "outputs": [
    {
     "name": "stdout",
     "output_type": "stream",
     "text": [
      "preparing embedding matrix...\n",
      "number of null word embeddings: 2\n"
     ]
    }
   ],
   "source": [
    "# Crear la Embedding matrix\n",
    "\n",
    "print('preparing embedding matrix...')\n",
    "embed_dim = 300 # fasttext\n",
    "words_not_found = []\n",
    "\n",
    "# word_index provieen del tokenizer\n",
    "\n",
    "nb_words = min(num_words, len(word_index)) # vocab_size\n",
    "embedding_matrix = np.zeros((nb_words, embed_dim))\n",
    "for word, i in word_index.items():\n",
    "    if i >= nb_words:\n",
    "        continue\n",
    "    embedding_vector = model_fasttext.get_words_embeddings(word)[0]\n",
    "    if (embedding_vector is not None) and len(embedding_vector) > 0:\n",
    "        embedding_matrix[i] = embedding_vector\n",
    "    else:\n",
    "        # words not found in embedding index will be all-zeros.\n",
    "        words_not_found.append(word)\n",
    "        print(word)\n",
    "\n",
    "print('number of null word embeddings:', np.sum(np.sum(embedding_matrix, axis=1) == 0))"
   ]
  },
  {
   "cell_type": "code",
   "execution_count": 526,
   "metadata": {
    "colab": {
     "base_uri": "https://localhost:8080/"
    },
    "id": "NWnjIy4yk4IK",
    "outputId": "62b591d4-cccb-4125-cc4e-49a26cd7e96f"
   },
   "outputs": [
    {
     "data": {
      "text/plain": [
       "==========================================================================================\n",
       "Layer (type:depth-idx)                   Output Shape              Param #\n",
       "==========================================================================================\n",
       "Model2                                   [1, 1]                    --\n",
       "├─Embedding: 1-1                         [1, 200, 300]             (600,000)\n",
       "├─LSTM: 1-2                              [1, 200, 64]              226,816\n",
       "├─Linear: 1-3                            [1, 128]                  8,320\n",
       "├─ReLU: 1-4                              [1, 128]                  --\n",
       "├─Dropout: 1-5                           [1, 128]                  --\n",
       "├─Linear: 1-6                            [1, 1]                    129\n",
       "├─Sigmoid: 1-7                           [1, 1]                    --\n",
       "==========================================================================================\n",
       "Total params: 835,265\n",
       "Trainable params: 235,265\n",
       "Non-trainable params: 600,000\n",
       "Total mult-adds (M): 45.97\n",
       "==========================================================================================\n",
       "Input size (MB): 0.00\n",
       "Forward/backward pass size (MB): 0.58\n",
       "Params size (MB): 3.34\n",
       "Estimated Total Size (MB): 3.93\n",
       "=========================================================================================="
      ]
     },
     "execution_count": 526,
     "metadata": {},
     "output_type": "execute_result"
    }
   ],
   "source": [
    "class Model2(nn.Module):\n",
    "    def __init__(self, vocab_size, output_dim):\n",
    "        super().__init__()\n",
    "        # num_embeddings = vocab_size\n",
    "        # embedding_dim = 300 --> dimensión de los embeddings utilizados\n",
    "        self.lstm_size = 64\n",
    "        self.num_layers = 5\n",
    "        self.embedding_dim = embed_dim\n",
    "        self.embedding = nn.Embedding(num_embeddings=vocab_size, embedding_dim=self.embedding_dim, padding_idx=0)\n",
    "        self.embedding.weight.data.copy_(torch.from_numpy(embedding_matrix))\n",
    "        self.embedding.weight.requires_grad = False  # marcar como layer no entrenable (freeze)\n",
    "        self.lstm1 = nn.LSTM(input_size=self.embedding_dim, hidden_size=self.lstm_size, batch_first=True,\n",
    "                            num_layers=self.num_layers, dropout=0.3) # LSTM layer\n",
    "        self.fc1 = nn.Linear(in_features=self.lstm_size, out_features=128) # Fully connected layer\n",
    "        self.fc2 = nn.Linear(in_features=128, out_features=output_dim) # Fully connected layer\n",
    "        \n",
    "        self.relu = nn.ReLU()\n",
    "        self.dropout = nn.Dropout(0.2)\n",
    "        self.sigmoid = nn.Sigmoid()\n",
    "\n",
    "    def forward(self, x):\n",
    "        out = self.embedding(x)\n",
    "        lstm_output, (ht, ct) = self.lstm1(out)\n",
    "        out = self.relu(self.fc1(lstm_output[:,-1,:])) # take last output (last seq)\n",
    "        out = self.dropout(out)\n",
    "        out = self.sigmoid(self.fc2(out))\n",
    "        return out\n",
    "\n",
    "model2 = Model2(vocab_size=vocab_size, output_dim=output_dim)\n",
    "\n",
    "# Crear el optimizador la una función de error\n",
    "model2_optimizer = torch.optim.Adam(model2.parameters(), lr=0.001)\n",
    "model2_criterion = torch.nn.BCELoss()   # Para clasificación multiclase\n",
    "\n",
    "# Por defecto torchinfo testea el modelo con torch.FloatTensor\n",
    "summary(model2, input_size=(1, input_size), dtypes=['torch.IntTensor'], device=torch.device('cpu'))"
   ]
  },
  {
   "cell_type": "code",
   "execution_count": 580,
   "metadata": {
    "id": "RcuJXiJgmZdB"
   },
   "outputs": [
    {
     "name": "stdout",
     "output_type": "stream",
     "text": [
      "Epoch: 1/50 - Train loss 0.535 - Train accuracy 0.775 - Valid Loss 0.576 - Valid accuracy 0.750\n",
      "Epoch: 2/50 - Train loss 0.536 - Train accuracy 0.775 - Valid Loss 0.566 - Valid accuracy 0.750\n",
      "Epoch: 3/50 - Train loss 0.534 - Train accuracy 0.775 - Valid Loss 0.499 - Valid accuracy 0.812\n",
      "Epoch: 4/50 - Train loss 0.535 - Train accuracy 0.775 - Valid Loss 0.560 - Valid accuracy 0.750\n",
      "Epoch: 5/50 - Train loss 0.530 - Train accuracy 0.775 - Valid Loss 0.502 - Valid accuracy 0.812\n",
      "Epoch: 6/50 - Train loss 0.514 - Train accuracy 0.775 - Valid Loss 0.412 - Valid accuracy 0.844\n",
      "Epoch: 7/50 - Train loss 0.499 - Train accuracy 0.775 - Valid Loss 0.509 - Valid accuracy 0.750\n",
      "Epoch: 8/50 - Train loss 0.487 - Train accuracy 0.775 - Valid Loss 0.673 - Valid accuracy 0.562\n",
      "Epoch: 9/50 - Train loss 0.474 - Train accuracy 0.776 - Valid Loss 0.222 - Valid accuracy 0.938\n",
      "Epoch: 10/50 - Train loss 0.462 - Train accuracy 0.782 - Valid Loss 0.430 - Valid accuracy 0.844\n",
      "Epoch: 11/50 - Train loss 0.453 - Train accuracy 0.789 - Valid Loss 0.527 - Valid accuracy 0.719\n",
      "Epoch: 12/50 - Train loss 0.444 - Train accuracy 0.793 - Valid Loss 0.651 - Valid accuracy 0.625\n",
      "Epoch: 13/50 - Train loss 0.431 - Train accuracy 0.801 - Valid Loss 0.471 - Valid accuracy 0.844\n",
      "Epoch: 14/50 - Train loss 0.422 - Train accuracy 0.815 - Valid Loss 0.260 - Valid accuracy 0.906\n",
      "Epoch: 15/50 - Train loss 0.405 - Train accuracy 0.817 - Valid Loss 0.673 - Valid accuracy 0.750\n",
      "Epoch: 16/50 - Train loss 0.397 - Train accuracy 0.823 - Valid Loss 0.399 - Valid accuracy 0.875\n",
      "Epoch: 17/50 - Train loss 0.379 - Train accuracy 0.839 - Valid Loss 0.537 - Valid accuracy 0.750\n",
      "Epoch: 18/50 - Train loss 0.374 - Train accuracy 0.839 - Valid Loss 0.471 - Valid accuracy 0.844\n",
      "Epoch: 19/50 - Train loss 0.364 - Train accuracy 0.845 - Valid Loss 0.444 - Valid accuracy 0.875\n",
      "Epoch: 20/50 - Train loss 0.350 - Train accuracy 0.852 - Valid Loss 0.598 - Valid accuracy 0.781\n",
      "Epoch: 21/50 - Train loss 0.341 - Train accuracy 0.856 - Valid Loss 0.429 - Valid accuracy 0.750\n",
      "Epoch: 22/50 - Train loss 0.327 - Train accuracy 0.865 - Valid Loss 0.427 - Valid accuracy 0.781\n",
      "Epoch: 23/50 - Train loss 0.317 - Train accuracy 0.869 - Valid Loss 0.686 - Valid accuracy 0.719\n",
      "Epoch: 24/50 - Train loss 0.305 - Train accuracy 0.874 - Valid Loss 0.693 - Valid accuracy 0.812\n",
      "Epoch: 25/50 - Train loss 0.295 - Train accuracy 0.883 - Valid Loss 0.422 - Valid accuracy 0.875\n",
      "Epoch: 26/50 - Train loss 0.274 - Train accuracy 0.888 - Valid Loss 0.503 - Valid accuracy 0.812\n",
      "Epoch: 27/50 - Train loss 0.271 - Train accuracy 0.895 - Valid Loss 0.551 - Valid accuracy 0.781\n",
      "Epoch: 28/50 - Train loss 0.256 - Train accuracy 0.898 - Valid Loss 0.668 - Valid accuracy 0.781\n",
      "Epoch: 29/50 - Train loss 0.252 - Train accuracy 0.897 - Valid Loss 0.310 - Valid accuracy 0.844\n",
      "Epoch: 30/50 - Train loss 0.235 - Train accuracy 0.909 - Valid Loss 0.722 - Valid accuracy 0.781\n",
      "Epoch: 31/50 - Train loss 0.225 - Train accuracy 0.916 - Valid Loss 0.576 - Valid accuracy 0.781\n",
      "Epoch: 32/50 - Train loss 0.222 - Train accuracy 0.916 - Valid Loss 0.751 - Valid accuracy 0.719\n",
      "Epoch: 33/50 - Train loss 0.214 - Train accuracy 0.923 - Valid Loss 0.466 - Valid accuracy 0.812\n",
      "Epoch: 34/50 - Train loss 0.208 - Train accuracy 0.920 - Valid Loss 0.353 - Valid accuracy 0.875\n",
      "Epoch: 35/50 - Train loss 0.193 - Train accuracy 0.930 - Valid Loss 0.908 - Valid accuracy 0.750\n",
      "Epoch: 36/50 - Train loss 0.188 - Train accuracy 0.929 - Valid Loss 0.859 - Valid accuracy 0.781\n",
      "Epoch: 37/50 - Train loss 0.181 - Train accuracy 0.934 - Valid Loss 0.925 - Valid accuracy 0.812\n",
      "Epoch: 38/50 - Train loss 0.172 - Train accuracy 0.937 - Valid Loss 1.115 - Valid accuracy 0.719\n",
      "Epoch: 39/50 - Train loss 0.170 - Train accuracy 0.939 - Valid Loss 0.928 - Valid accuracy 0.750\n",
      "Epoch: 40/50 - Train loss 0.167 - Train accuracy 0.940 - Valid Loss 1.197 - Valid accuracy 0.750\n",
      "Epoch: 41/50 - Train loss 0.149 - Train accuracy 0.946 - Valid Loss 1.170 - Valid accuracy 0.625\n",
      "Epoch: 42/50 - Train loss 0.139 - Train accuracy 0.953 - Valid Loss 0.468 - Valid accuracy 0.750\n",
      "Epoch: 43/50 - Train loss 0.141 - Train accuracy 0.951 - Valid Loss 0.873 - Valid accuracy 0.781\n",
      "Epoch: 44/50 - Train loss 0.138 - Train accuracy 0.950 - Valid Loss 1.302 - Valid accuracy 0.625\n",
      "Epoch: 45/50 - Train loss 0.137 - Train accuracy 0.953 - Valid Loss 1.054 - Valid accuracy 0.656\n",
      "Epoch: 46/50 - Train loss 0.124 - Train accuracy 0.955 - Valid Loss 0.852 - Valid accuracy 0.781\n",
      "Epoch: 47/50 - Train loss 0.128 - Train accuracy 0.955 - Valid Loss 1.037 - Valid accuracy 0.719\n",
      "Epoch: 48/50 - Train loss 0.124 - Train accuracy 0.958 - Valid Loss 0.450 - Valid accuracy 0.844\n",
      "Epoch: 49/50 - Train loss 0.129 - Train accuracy 0.954 - Valid Loss 0.970 - Valid accuracy 0.688\n",
      "Epoch: 50/50 - Train loss 0.121 - Train accuracy 0.958 - Valid Loss 1.540 - Valid accuracy 0.656\n"
     ]
    }
   ],
   "source": [
    "history2 = train(model2,\n",
    "                train_loader,\n",
    "                valid_loader,\n",
    "                model2_optimizer,\n",
    "                model2_criterion,\n",
    "                epochs=50\n",
    "                )"
   ]
  },
  {
   "cell_type": "code",
   "execution_count": 581,
   "metadata": {},
   "outputs": [],
   "source": [
    "h = []\n",
    "for t in history2['accuracy']:\n",
    "    h.append(t.item())"
   ]
  },
  {
   "cell_type": "code",
   "execution_count": 582,
   "metadata": {
    "id": "lPgx-3CWmnT5",
    "scrolled": true
   },
   "outputs": [
    {
     "data": {
      "image/png": "[encoded data removed]",
      "text/plain": [
       "<Figure size 432x288 with 1 Axes>"
      ]
     },
     "metadata": {
      "needs_background": "light"
     },
     "output_type": "display_data"
    }
   ],
   "source": [
    "epoch_count = range(1, len(history2['accuracy']) + 1)\n",
    "sns.lineplot(x=epoch_count,  y=h, label='train')\n",
    "sns.lineplot(x=epoch_count,  y=history2['val_accuracy'], label='valid')\n",
    "plt.show()"
   ]
  },
  {
   "cell_type": "markdown",
   "metadata": {
    "id": "fGDesEf7sNrP"
   },
   "source": [
    "##Conclusión\n",
    "Tomamos ratings entre 1-3 como malos, ya que 1 lo mas negativo, 2 es algo malo pero que me hizo saber que existe algo malo y gracias por ello, 3 es una puntuación mediocre, por lo que 4 y 5 son los mejores resultados para este caso.\n",
    "\n",
    "La mejor cantidad de epochs bajo esta arquitectura son no mas de 30, ya que para la epoch 50 el modelo sobre entrenó:\n",
    "\n",
    "Epoch: 50/50 - Train loss 0.121 - Train accuracy 0.958 - Valid Loss 1.540 - Valid accuracy 0.656\n",
    "vs\n",
    "Epoch: 30/50 - Train loss 0.235 - Train accuracy 0.909 - Valid Loss 0.722 - Valid accuracy 0.781\n",
    "\n"
   ]
  },
  {
   "cell_type": "code",
   "execution_count": null,
   "metadata": {},
   "outputs": [],
   "source": []
  },
  {
   "cell_type": "code",
   "execution_count": null,
   "metadata": {},
   "outputs": [],
   "source": []
  }
 ],
 "metadata": {
  "accelerator": "GPU",
  "colab": {
   "collapsed_sections": [],
   "name": "TP5.ipynb",
   "provenance": []
  },
  "kernelspec": {
   "display_name": "Python 3",
   "language": "python",
   "name": "python3"
  },
  "language_info": {
   "codemirror_mode": {
    "name": "ipython",
    "version": 3
   },
   "file_extension": ".py",
   "mimetype": "text/x-python",
   "name": "python",
   "nbconvert_exporter": "python",
   "pygments_lexer": "ipython3",
   "version": "3.8.5"
  }
 },
 "nbformat": 4,
 "nbformat_minor": 1
}
