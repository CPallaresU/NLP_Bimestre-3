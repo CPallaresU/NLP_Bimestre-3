{
  "nbformat": 4,
  "nbformat_minor": 0,
  "metadata": {
    "colab": {
      "name": "RNN_4ta_Clase.ipynb",
      "provenance": [],
      "collapsed_sections": []
    },
    "kernelspec": {
      "name": "python3",
      "display_name": "Python 3"
    },
    "language_info": {
      "name": "python"
    },
    "accelerator": "GPU"
  },
  "cells": [
    {
      "cell_type": "code",
      "metadata": {
        "id": "Y-QdFbHZYj7C"
      },
      "source": [
        "import random\n",
        "import io\n",
        "import pickle\n",
        "\n",
        "import numpy as np\n",
        "import pandas as pd\n",
        "\n",
        "from tensorflow import keras\n",
        "from tensorflow.keras import layers\n",
        "from keras.utils.np_utils import to_categorical\n",
        "from keras.models import Sequential\n",
        "from keras.layers import Dense, LSTM, Embedding, Dropout"
      ],
      "execution_count": 1,
      "outputs": []
    },
    {
      "cell_type": "markdown",
      "metadata": {
        "id": "xTvXlEKQZdqx"
      },
      "source": [
        "### Datos\n",
        "Utilizaremos como dataset canciones de bandas de habla inglés."
      ]
    },
    {
      "cell_type": "code",
      "metadata": {
        "id": "Gb39v3PaZmRH",
        "colab": {
          "base_uri": "https://localhost:8080/",
          "height": 261
        },
        "outputId": "f46ea3e8-ed0f-478c-fb5c-b2a216d00318"
      },
      "source": [
        "# Armar el dataset utilizando salto de línea para separar las oraciones/docs\n",
        "df = pd.read_csv('the_call_of_cthulhu.txt', sep='/n', header=None)\n",
        "df.head()"
      ],
      "execution_count": 2,
      "outputs": [
        {
          "output_type": "stream",
          "name": "stderr",
          "text": [
            "/usr/local/lib/python3.7/dist-packages/pandas/util/_decorators.py:311: ParserWarning: Falling back to the 'python' engine because the 'c' engine does not support regex separators (separators > 1 char and different from '\\s+' are interpreted as regex); you can avoid this warning by specifying engine='python'.\n",
            "  return func(*args, **kwargs)\n"
          ]
        },
        {
          "output_type": "execute_result",
          "data": {
            "text/plain": [
              "                                                   0\n",
              "0                                THE CALL OF CTHULHU\n",
              "1                                                 By\n",
              "2                                     H.P. LOVECRAFT\n",
              "3                                THE CALL OF CTHULHU\n",
              "4  Of such great powers or beings there may be co..."
            ],
            "text/html": [
              "\n",
              "  <div id=\"df-ce26bf38-fc5e-449d-a366-74112319a5ac\">\n",
              "    <div class=\"colab-df-container\">\n",
              "      <div>\n",
              "<style scoped>\n",
              "    .dataframe tbody tr th:only-of-type {\n",
              "        vertical-align: middle;\n",
              "    }\n",
              "\n",
              "    .dataframe tbody tr th {\n",
              "        vertical-align: top;\n",
              "    }\n",
              "\n",
              "    .dataframe thead th {\n",
              "        text-align: right;\n",
              "    }\n",
              "</style>\n",
              "<table border=\"1\" class=\"dataframe\">\n",
              "  <thead>\n",
              "    <tr style=\"text-align: right;\">\n",
              "      <th></th>\n",
              "      <th>0</th>\n",
              "    </tr>\n",
              "  </thead>\n",
              "  <tbody>\n",
              "    <tr>\n",
              "      <th>0</th>\n",
              "      <td>THE CALL OF CTHULHU</td>\n",
              "    </tr>\n",
              "    <tr>\n",
              "      <th>1</th>\n",
              "      <td>By</td>\n",
              "    </tr>\n",
              "    <tr>\n",
              "      <th>2</th>\n",
              "      <td>H.P. LOVECRAFT</td>\n",
              "    </tr>\n",
              "    <tr>\n",
              "      <th>3</th>\n",
              "      <td>THE CALL OF CTHULHU</td>\n",
              "    </tr>\n",
              "    <tr>\n",
              "      <th>4</th>\n",
              "      <td>Of such great powers or beings there may be co...</td>\n",
              "    </tr>\n",
              "  </tbody>\n",
              "</table>\n",
              "</div>\n",
              "      <button class=\"colab-df-convert\" onclick=\"convertToInteractive('df-ce26bf38-fc5e-449d-a366-74112319a5ac')\"\n",
              "              title=\"Convert this dataframe to an interactive table.\"\n",
              "              style=\"display:none;\">\n",
              "        \n",
              "  <svg xmlns=\"http://www.w3.org/2000/svg\" height=\"24px\"viewBox=\"0 0 24 24\"\n",
              "       width=\"24px\">\n",
              "    <path d=\"M0 0h24v24H0V0z\" fill=\"none\"/>\n",
              "    <path d=\"M18.56 5.44l.94 2.06.94-2.06 2.06-.94-2.06-.94-.94-2.06-.94 2.06-2.06.94zm-11 1L8.5 8.5l.94-2.06 2.06-.94-2.06-.94L8.5 2.5l-.94 2.06-2.06.94zm10 10l.94 2.06.94-2.06 2.06-.94-2.06-.94-.94-2.06-.94 2.06-2.06.94z\"/><path d=\"M17.41 7.96l-1.37-1.37c-.4-.4-.92-.59-1.43-.59-.52 0-1.04.2-1.43.59L10.3 9.45l-7.72 7.72c-.78.78-.78 2.05 0 2.83L4 21.41c.39.39.9.59 1.41.59.51 0 1.02-.2 1.41-.59l7.78-7.78 2.81-2.81c.8-.78.8-2.07 0-2.86zM5.41 20L4 18.59l7.72-7.72 1.47 1.35L5.41 20z\"/>\n",
              "  </svg>\n",
              "      </button>\n",
              "      \n",
              "  <style>\n",
              "    .colab-df-container {\n",
              "      display:flex;\n",
              "      flex-wrap:wrap;\n",
              "      gap: 12px;\n",
              "    }\n",
              "\n",
              "    .colab-df-convert {\n",
              "      background-color: #E8F0FE;\n",
              "      border: none;\n",
              "      border-radius: 50%;\n",
              "      cursor: pointer;\n",
              "      display: none;\n",
              "      fill: #1967D2;\n",
              "      height: 32px;\n",
              "      padding: 0 0 0 0;\n",
              "      width: 32px;\n",
              "    }\n",
              "\n",
              "    .colab-df-convert:hover {\n",
              "      background-color: #E2EBFA;\n",
              "      box-shadow: 0px 1px 2px rgba(60, 64, 67, 0.3), 0px 1px 3px 1px rgba(60, 64, 67, 0.15);\n",
              "      fill: #174EA6;\n",
              "    }\n",
              "\n",
              "    [theme=dark] .colab-df-convert {\n",
              "      background-color: #3B4455;\n",
              "      fill: #D2E3FC;\n",
              "    }\n",
              "\n",
              "    [theme=dark] .colab-df-convert:hover {\n",
              "      background-color: #434B5C;\n",
              "      box-shadow: 0px 1px 3px 1px rgba(0, 0, 0, 0.15);\n",
              "      filter: drop-shadow(0px 1px 2px rgba(0, 0, 0, 0.3));\n",
              "      fill: #FFFFFF;\n",
              "    }\n",
              "  </style>\n",
              "\n",
              "      <script>\n",
              "        const buttonEl =\n",
              "          document.querySelector('#df-ce26bf38-fc5e-449d-a366-74112319a5ac button.colab-df-convert');\n",
              "        buttonEl.style.display =\n",
              "          google.colab.kernel.accessAllowed ? 'block' : 'none';\n",
              "\n",
              "        async function convertToInteractive(key) {\n",
              "          const element = document.querySelector('#df-ce26bf38-fc5e-449d-a366-74112319a5ac');\n",
              "          const dataTable =\n",
              "            await google.colab.kernel.invokeFunction('convertToInteractive',\n",
              "                                                     [key], {});\n",
              "          if (!dataTable) return;\n",
              "\n",
              "          const docLinkHtml = 'Like what you see? Visit the ' +\n",
              "            '<a target=\"_blank\" href=https://colab.research.google.com/notebooks/data_table.ipynb>data table notebook</a>'\n",
              "            + ' to learn more about interactive tables.';\n",
              "          element.innerHTML = '';\n",
              "          dataTable['output_type'] = 'display_data';\n",
              "          await google.colab.output.renderOutput(dataTable, element);\n",
              "          const docLink = document.createElement('div');\n",
              "          docLink.innerHTML = docLinkHtml;\n",
              "          element.appendChild(docLink);\n",
              "        }\n",
              "      </script>\n",
              "    </div>\n",
              "  </div>\n",
              "  "
            ]
          },
          "metadata": {},
          "execution_count": 2
        }
      ]
    },
    {
      "cell_type": "code",
      "metadata": {
        "id": "riT898QlZnmF",
        "colab": {
          "base_uri": "https://localhost:8080/"
        },
        "outputId": "4451e6e5-d8c9-4a36-cef2-68d0654077c8"
      },
      "source": [
        "print(\"Cantidad de documentos:\", df.shape[0])"
      ],
      "execution_count": 3,
      "outputs": [
        {
          "output_type": "stream",
          "name": "stdout",
          "text": [
            "Cantidad de documentos: 953\n"
          ]
        }
      ]
    },
    {
      "cell_type": "markdown",
      "metadata": {
        "id": "RDoouHp7Zp6D"
      },
      "source": [
        "### 1 - Ejemplo de Preprocesamiento\n",
        "- Hay que transformar las oraciones en tokens.\n",
        "- Dichas oraciones hay que ajustarlas al tamaño fijo de nuestra sentencia de entrada al modelo.\n",
        "- Hay que separar las palabras objetivos (target) que el modelo debe predecir en cada sentencia armada."
      ]
    },
    {
      "cell_type": "code",
      "metadata": {
        "id": "m5FeTaGvbDbw"
      },
      "source": [
        "from keras.preprocessing.text import Tokenizer # equivalente a ltokenizer de nltk\n",
        "from keras.preprocessing.text import text_to_word_sequence # equivalente a word_teokenize de nltk\n",
        "from keras.preprocessing.sequence import pad_sequences # se utilizará para padding\n",
        "\n",
        "# largo de la secuencia, incluye seq input + word output\n",
        "train_len = 4"
      ],
      "execution_count": 4,
      "outputs": []
    },
    {
      "cell_type": "code",
      "metadata": {
        "id": "Zf3O7eK6ZpP8",
        "colab": {
          "base_uri": "https://localhost:8080/",
          "height": 36
        },
        "outputId": "65251c45-de60-40ef-c007-31231ffe23e0"
      },
      "source": [
        "# Ejemplo de como transformar una oración a tokens usando keras\n",
        "text = df.loc[0,0]\n",
        "text"
      ],
      "execution_count": 5,
      "outputs": [
        {
          "output_type": "execute_result",
          "data": {
            "text/plain": [
              "'THE CALL OF CTHULHU'"
            ],
            "application/vnd.google.colaboratory.intrinsic+json": {
              "type": "string"
            }
          },
          "metadata": {},
          "execution_count": 5
        }
      ]
    },
    {
      "cell_type": "code",
      "metadata": {
        "id": "AOv67Sj7aeFH",
        "colab": {
          "base_uri": "https://localhost:8080/"
        },
        "outputId": "e7c0c3e2-30ce-4ef6-ab82-8b7a9eb85847"
      },
      "source": [
        "tokens = text_to_word_sequence(text) # entran oraciones -> salen vectores de N posiciones (tokens)\n",
        "tokens"
      ],
      "execution_count": 6,
      "outputs": [
        {
          "output_type": "execute_result",
          "data": {
            "text/plain": [
              "['the', 'call', 'of', 'cthulhu']"
            ]
          },
          "metadata": {},
          "execution_count": 6
        }
      ]
    },
    {
      "cell_type": "markdown",
      "metadata": {
        "id": "ZrlyqkoiaymK"
      },
      "source": [
        "1.1 - Transformar las oraciones en secuencias (tokens) de palabras"
      ]
    },
    {
      "cell_type": "code",
      "metadata": {
        "id": "XH_L14Wjaowe"
      },
      "source": [
        "# Recorrer todas las filas y transformar las oraciones\n",
        "# en secuencias de palabras\n",
        "sentence_tokens = []\n",
        "for _, row in df[:None].iterrows():\n",
        "    sentence_tokens.append(text_to_word_sequence(row[0]))"
      ],
      "execution_count": 7,
      "outputs": []
    },
    {
      "cell_type": "code",
      "metadata": {
        "id": "KASzU4CdaxbZ",
        "colab": {
          "base_uri": "https://localhost:8080/"
        },
        "outputId": "90d12b7e-77d5-4106-bbb6-b881ad40d2b3"
      },
      "source": [
        "# Demos un vistazo\n",
        "sentence_tokens[:2]"
      ],
      "execution_count": 8,
      "outputs": [
        {
          "output_type": "execute_result",
          "data": {
            "text/plain": [
              "[['the', 'call', 'of', 'cthulhu'], ['by']]"
            ]
          },
          "metadata": {},
          "execution_count": 8
        }
      ]
    },
    {
      "cell_type": "code",
      "metadata": {
        "id": "A659lswTbIIB"
      },
      "source": [
        "# Código para hacer el desfazaje de las palabras\n",
        "# según el train_len\n",
        "text_sequences = []\n",
        "\n",
        "for i in range(train_len, len(tokens)):\n",
        "  seq = tokens[i-train_len:i]\n",
        "  text_sequences.append(seq)"
      ],
      "execution_count": 9,
      "outputs": []
    },
    {
      "cell_type": "code",
      "metadata": {
        "id": "01JEoPPnbgRF",
        "colab": {
          "base_uri": "https://localhost:8080/"
        },
        "outputId": "5b43109b-925b-4724-e5f1-d6acc2b8f0de"
      },
      "source": [
        "# Demos un vistazo a nuestros vectores para entrenar el modelo\n",
        "text_sequences "
      ],
      "execution_count": 10,
      "outputs": [
        {
          "output_type": "execute_result",
          "data": {
            "text/plain": [
              "[]"
            ]
          },
          "metadata": {},
          "execution_count": 10
        }
      ]
    },
    {
      "cell_type": "markdown",
      "metadata": {
        "id": "4B0gHnKVa4W_"
      },
      "source": [
        "1.2 - Crear los vectores de palabras (word2vec)\n",
        "\n",
        "Ahora necesitamos pasarlos a números para que lo entienda la red y separar input de output.\n",
        "- El Input seran integers (word2vec)\n",
        "- Mientras que el output será one hot encodeado (labels) del tamaño del vocabulario"
      ]
    },
    {
      "cell_type": "code",
      "metadata": {
        "id": "fkPNvXeQcS0U"
      },
      "source": [
        "tok = Tokenizer() \n",
        "\n",
        "# El tokeinzer \"aprende\" las palabras que se usaran\n",
        "# Se construye (fit) una vez por proyecto, se aplica N veces (tal cual un encoder)\n",
        "tok.fit_on_texts(text_sequences) \n",
        "\n",
        "# Convertimos las palabras a números\n",
        "# entran palabras -> salen números\n",
        "sequences = tok.texts_to_sequences(text_sequences)"
      ],
      "execution_count": 11,
      "outputs": []
    },
    {
      "cell_type": "code",
      "metadata": {
        "id": "4SIc44IocyQb",
        "colab": {
          "base_uri": "https://localhost:8080/"
        },
        "outputId": "6abd791e-0483-465d-f698-372dea6ba6f9"
      },
      "source": [
        "# Ahora sequences tiene los números \"ID\", largo 4\n",
        "sequences"
      ],
      "execution_count": 12,
      "outputs": [
        {
          "output_type": "execute_result",
          "data": {
            "text/plain": [
              "[]"
            ]
          },
          "metadata": {},
          "execution_count": 12
        }
      ]
    },
    {
      "cell_type": "code",
      "metadata": {
        "id": "3ro81yCQc1oX",
        "colab": {
          "base_uri": "https://localhost:8080/"
        },
        "outputId": "4756a1d0-1465-41b4-b06a-625a0228871c"
      },
      "source": [
        "# Cantidad de casos (doc) de entrada\n",
        "print(tok.document_count)"
      ],
      "execution_count": 13,
      "outputs": [
        {
          "output_type": "stream",
          "name": "stdout",
          "text": [
            "0\n"
          ]
        }
      ]
    },
    {
      "cell_type": "code",
      "metadata": {
        "id": "nzAWNfroc4u1",
        "colab": {
          "base_uri": "https://localhost:8080/"
        },
        "outputId": "be9b5838-d2c5-4420-f4b4-5a1649291f27"
      },
      "source": [
        "# Cantidad de veces que aparece cada palabra\n",
        "print(len(tok.word_counts))"
      ],
      "execution_count": 14,
      "outputs": [
        {
          "output_type": "stream",
          "name": "stdout",
          "text": [
            "0\n"
          ]
        }
      ]
    },
    {
      "cell_type": "code",
      "metadata": {
        "id": "spTBxmFQc6h8",
        "colab": {
          "base_uri": "https://localhost:8080/"
        },
        "outputId": "7fa8f8af-aa9e-4569-c185-1201b75c6757"
      },
      "source": [
        "# El índice para cada palabra\n",
        "# El sistema las ordena de las más populares a las menos populares\n",
        "print(tok.word_index)"
      ],
      "execution_count": 15,
      "outputs": [
        {
          "output_type": "stream",
          "name": "stdout",
          "text": [
            "{}\n"
          ]
        }
      ]
    },
    {
      "cell_type": "code",
      "metadata": {
        "id": "nUDkjy80c77h",
        "colab": {
          "base_uri": "https://localhost:8080/"
        },
        "outputId": "e743e17b-3a7c-43b0-ec85-602104e2728f"
      },
      "source": [
        "# Cantidad de veces quea aparece cada palabra en cada \"documento\"\n",
        "# (1 documento = 1 caso de entrada)\n",
        "print(tok.word_docs)"
      ],
      "execution_count": 16,
      "outputs": [
        {
          "output_type": "stream",
          "name": "stdout",
          "text": [
            "defaultdict(<class 'int'>, {})\n"
          ]
        }
      ]
    },
    {
      "cell_type": "markdown",
      "metadata": {
        "id": "ohS5Tao1d2KB"
      },
      "source": [
        "### 2 - Preprocesamiento completo\n",
        "Debemos realizar los mismos pasos que en el ejemplo anterior, pero antes de eso debemos transformar ese dataset de filas de oraciones en un texto completo continuo para poder extraer el vocabulario."
      ]
    },
    {
      "cell_type": "code",
      "metadata": {
        "id": "63Z2-Se2t27r",
        "colab": {
          "base_uri": "https://localhost:8080/"
        },
        "outputId": "f320e3ee-0f42-4947-a308-31d0ce3b4c86"
      },
      "source": [
        "# Vistazo a las primeras filas\n",
        "df.loc[:15,0]"
      ],
      "execution_count": 17,
      "outputs": [
        {
          "output_type": "execute_result",
          "data": {
            "text/plain": [
              "0                                   THE CALL OF CTHULHU\n",
              "1                                                    By\n",
              "2                                        H.P. LOVECRAFT\n",
              "3                                   THE CALL OF CTHULHU\n",
              "4     Of such great powers or beings there may be co...\n",
              "5     survival of a hugely remote period when... con...\n",
              "6     perhaps, in shapes and forms long since withdr...\n",
              "7     advancing humanity... forms of which poetry an...\n",
              "8     flying memory and called them gods, monsters, ...\n",
              "9                     and kinds... — Algernon Blackwood\n",
              "10                           PART I. THE HORROR IN CLAY\n",
              "11    The most merciful thing in the world, I think,...\n",
              "12    mind to correlate all its contents. We live on...\n",
              "13    midst of black seas of infinity, and it was no...\n",
              "14    The sciences, each straining in its own direct...\n",
              "15    little; but some day the piecing together of d...\n",
              "Name: 0, dtype: object"
            ]
          },
          "metadata": {},
          "execution_count": 17
        }
      ]
    },
    {
      "cell_type": "code",
      "metadata": {
        "id": "kILsSoxTuHEr",
        "colab": {
          "base_uri": "https://localhost:8080/",
          "height": 140
        },
        "outputId": "ef3a16c7-c5de-4249-b778-62f299869c40"
      },
      "source": [
        "# Concatenamos todos los rows en un solo valor\n",
        "corpus = df.apply(lambda row: ' '.join(row.values.astype(str)), axis=0)[0]\n",
        "corpus"
      ],
      "execution_count": 18,
      "outputs": [
        {
          "output_type": "execute_result",
          "data": {
            "text/plain": [
              "'THE CALL OF CTHULHU By H.P. LOVECRAFT THE CALL OF CTHULHU Of such great powers or beings there may be conceivably a survival... a survival of a hugely remote period when... consciousness was manifested, perhaps, in shapes and forms long since withdrawn before the tide of advancing humanity... forms of which poetry and legend alone have caught a flying memory and called them gods, monsters, mythical beings of all sorts and kinds... — Algernon Blackwood PART I. THE HORROR IN CLAY The most merciful thing in the world, I think, is the inability of the human mind to correlate all its contents. We live on a placid island of ignorance in the midst of black seas of infinity, and it was not meant that we should voyage far. The sciences, each straining in its own direction, have hitherto harmed us little; but some day the piecing together of dissociated knowledge will open up such terrifying vistas of reality, and of our frightful position therein, that we shall either go mad from the revelation or flee from the light into the peace and safety of a new dark age. Theosophists have guessed at the awesome grandeur of the cosmic cycle wherein our world and human race form transient incidents. They have hinted at strange survivals in terms which would freeze the blood if not masked by a bland optimism. But it is not from them that there came the single glimpse of forbidden eons which chills me when I think of it and maddens me when I dream of it. That glimpse, like all dread glimpses of truth, flashed out from an accidental piecing together of separated things—in this case an old newspaper item and the notes of a dead professor. I hope that no one else will accomplish this piecing out; certainly, if I live, I shall never knowingly supply a link in so hideous a chain. I think that the professor, too intended to keep silent regarding the part he knew, and that he would have destroyed his notes had not sudden death seized him. My knowledge of the thing began in the winter of 1926-27 with the death of my great-uncle, George Gammell Angell, Professor Emeritus of Semitic Languages in Brown University, Providence, Rhode Island. Professor Angell was widely known as an authority on ancient inscriptions, and had frequently been resorted to by the heads of prominent museums; so that his passing at the age of ninety-two may be recalled by many. Locally, interest was intensified by the obscurity of the cause of death. The professor had been stricken whilst returning from the Newport boat; falling suddenly; as witnesses said, after having been jostled by a nautical-looking negro who had come from one of the queer dark courts on the precipitous hillside which formed a short cut from the waterfront to the deceased\\'s home in Williams Street. Physicians were unable to find any visible disorder, but concluded after perplexed debate that some obscure lesion of the heart, induced by the brisk ascent of so steep a hill by so elderly a man, was responsible for the end. At the time I saw no reason to dissent from this dictum, but latterly I am inclined to wonder—and more than wonder. As my great-uncle\\'s heir and executor, for he died a childless widower, I was expected to go over his papers with some thoroughness; and for that purpose moved his entire set of files and boxes to my quarters in Boston. Much of the material which I correlated will be later published by the American Archaeological Society, but there was one box which I found exceedingly puzzling, and which I felt much averse from showing to other eyes. It had been locked and I did not find the key till it occurred to me to examine the personal ring which the professor carried in his pocket. Then, indeed, I succeeded in opening it, but when I did so seemed only to be confronted by a greater and more closely locked barrier. For what could be the meaning of the queer clay bas-relief and the disjointed jottings, ramblings, and cuttings which I found? Had my uncle, in his latter years become credulous of the most superficial impostures? I resolved to search out the eccentric sculptor responsible for this apparent disturbance of an old man\\'s peace of mind. The bas-relief was a rough rectangle less than an inch thick and about five by six inches in area; obviously of modern origin. Its designs, however, were far from modern in atmosphere and suggestion; for, although the vagaries of cubism and futurism are many and wild, they do not often reproduce that cryptic regularity which lurks in prehistoric writing. And writing of some kind the bulk of these designs seemed certainly to be; though my memory, despite much the papers and collections of my uncle, failed in any way to identify this particular species, or even hint at its remotest affiliations. Above these apparent hieroglyphics was a figure of evident pictorial intent, though its impressionistic execution forbade a very clear idea of its nature. It seemed to be a sort of monster, or symbol representing a monster, of a form which only a diseased fancy could conceive. If I say that my somewhat extravagant imagination yielded simultaneous pictures of an octopus, a dragon, and a human caricature, I shall not be unfaithful to the spirit of the thing. A pulpy, tentacled head surmounted a grotesque and scaly body with rudimentary wings; but it was the general outline of the whole which made it most shockingly frightful. Behind the figure was a vague suggestions of a Cyclopean architectural background. The writing accompanying this oddity was, aside from a stack of press cuttings, in Professor Angell\\'s most recent hand; and made no pretense to literary style. What seemed to be the main document was headed \"CTHULHU CULT\" in characters painstakingly printed to avoid the erroneous reading of a word so unheard-of. This manuscript was divided into two sections, the first of which was headed \"1925—Dream and Dream Work of H.A. Wilcox, 7 Thomas St., Providence, R. I.\", and the second, \"Narrative of Inspector John R. Legrasse, 121 Bienville St., New Orleans, La., at 1908 A. A. S. Mtg.— Notes on Same, & Prof. Webb\\'s Acct.\" The other manuscript papers were brief notes, some of them accounts of the queer dreams of different persons, some of them citations from theosophical books and magazines (notably W. ScottElliot\\'s Atlantis and the Lost Lemuria), and the rest comments on longsurviving secret societies and hidden cults, with references to passages in such mythological and anthropological source-books as Frazer\\'s Golden Bough and Miss Murray\\'s Witch-Cult in Western Europe. The cuttings largely alluded to outré mental illness and outbreaks of group folly or mania in the spring of 1925. The first half of the principal manuscript told a very particular tale. It appears that on March 1st, 1925, a thin, dark young man of neurotic and excited aspect had called upon Professor Angell bearing the singular clay bas-relief, which was then exceedingly damp and fresh. His card bore the name of Henry Anthony Wilcox, and my uncle had recognized him as the youngest son of an excellent family slightly known to him, who had latterly been studying sculpture at the Rhode Island School of Design and living alone at the Fleurde-Lys Building near that institution. Wilcox was a precocious youth of known genius but great eccentricity, and had from childhood excited attention through the strange stories and odd dreams he was in the habit of relating. He called himself \"psychically hypersensitive\", but the staid folk of the ancient commercial city dismissed him as merely \"queer.\" Never mingling much with his kind, he had dropped gradually from social visibility, and was now known only to a small group of esthetes from other towns. Even the Providence Art Club, anxious to preserve its conservatism, had found him quite hopeless. On the occasion of the visit, ran the professor\\'s manuscript, the sculptor abruptly asked for the benefit of his host\\'s archeological knowledge in identifying the hieroglyphics of the bas-relief. He spoke in a dreamy, stilted manner which suggested pose and alienated sympathy; and my uncle showed some sharpness in replying, for the conspicuous freshness of the tablet implied kinship with anything but archeology. Young Wilcox\\'s rejoinder, which impressed my uncle enough to make him recall and record it verbatim, was of a fantastically poetic cast which must have typified his whole conversation, and which I have since found highly characteristic of him. He said, \"It is new, indeed, for I made it last night in a dream of strange cities; and dreams are older than brooding Tyre, or the contemplative Sphinx, or garden-girdled Babylon.\" It was then that he began that rambling tale which suddenly played upon a sleeping memory and won the fevered interest of my uncle. There had been a slight earthquake tremor the night before, the most considerable felt in New England for some years; and Wilcox\\'s imagination had been keenly affected. Upon retiring, he had had an unprecedented dream of great Cyclopean cities of Titan blocks and sky-flung monoliths, all dripping with green ooze and sinister with latent horror. Hieroglyphics had covered the walls and pillars, and from some undetermined point below had come a voice that was not a voice; a chaotic sensation which only fancy could transmute into sound, but which he attempted to render by the almost unpronounceable jumble of letters: \"Cthulhu fhtagn.\" This verbal jumble was the key to the recollection which excited and disturbed Professor Angell. He questioned the sculptor with scientific minuteness; and studied with frantic intensity the bas-relief on which the youth had found himself working, chilled and clad only in his night clothes, when waking had stolen bewilderingly over him. My uncle blamed his old age, Wilcox afterwards said, for his slowness in recognizing both hieroglyphics and pictorial design. Many of his questions seemed highly out of place to his visitor, especially those which tried to connect the latter with strange cults or societies; and Wilcox could not understand the repeated promises of silence which he was offered in exchange for an admission of membership in some widespread mystical or paganly religious body. When Professor Angell became convinced that the sculptor was indeed ignorant of any cult or system of cryptic lore, he besieged his visitor with demands for future reports of dreams. This bore regular fruit, for after the first interview the manuscript records daily calls of the young man, during which he related startling fragments of nocturnal imagery whose burden was always some terrible Cyclopean vista of dark and dripping stone, with a subterrene voice or intelligence shouting monotonously in enigmatical sense-impacts uninscribable save as gibberish. The two sounds frequently repeated are those rendered by the letters \"Cthulhu\" and \"R\\'lyeh.\" On March 23, the manuscript continued, Wilcox failed to appear; and inquiries at his quarters revealed that he had been stricken with an obscure sort of fever and taken to the home of his family in Waterman Street. He had cried out in the night, arousing several other artists in the building, and had manifested since then only alternations of unconsciousness and delirium. My uncle at once telephoned the family, and from that time forward kept close watch of the case; calling often at the Thayer Street office of Dr. Tobey, whom he learned to be in charge. The youth\\'s febrile mind, apparently, was dwelling on strange things; and the doctor shuddered now and then as he spoke of them. They included not only a repetition of what he had formerly dreamed, but touched wildly on a gigantic thing \"miles high\" which walked or lumbered about. He at no time fully described this object but occasional frantic words, as repeated by Dr. Tobey, convinced the professor that it must be identical with the nameless monstrosity he had sought to depict in his dream-sculpture. Reference to this object, the doctor added, was invariably a prelude to the young man\\'s subsidence into lethargy. His temperature, oddly enough, was not greatly above normal; but the whole condition was otherwise such as to suggest true fever rather than mental disorder. On April 2 at about 3 P.M. every trace of Wilcox\\'s malady suddenly ceased. He sat upright in bed, astonished to find himself at home and completely ignorant of what had happened in dream or reality since the night of March 22. Pronounced well by his physician, he returned to his quarters in three days; but to Professor Angell he was of no further assistance. All traces of strange dreaming had vanished with his recovery, and my uncle kept no record of his night-thoughts after a week of pointless and irrelevant accounts of thoroughly usual visions. Here the first part of the manuscript ended, but references to certain of the scattered notes gave me much material for thought—so much, in fact, that only the ingrained skepticism then forming my philosophy can account for my continued distrust of the artist. The notes in question were those descriptive of the dreams of various persons covering the same period as that in which young Wilcox had had his strange visitations. My uncle, it seems, had quickly instituted a prodigiously far-flung body of inquires amongst nearly all the friends whom he could question without impertinence, asking for nightly reports of their dreams, and the dates of any notable visions for some time past. The reception of his request seems to have varied; but he must, at the very least, have received more responses than any ordinary man could have handled without a secretary. This original correspondence was not preserved, but his notes formed a thorough and really significant digest. Average people in society and business—New England\\'s traditional \"salt of the earth\" —gave an almost completely negative result, though scattered cases of uneasy but formless nocturnal impressions appear here and there, always between March 23 and and April 2—the period of young Wilcox\\'s delirium. Scientific men were little more affected, though four cases of vague description suggest fugitive glimpses of strange landscapes, and in one case there is mentioned a dread of something abnormal. It was from the artists and poets that the pertinent answers came, and I know that panic would have broken loose had they been able to compare notes. As it was, lacking their original letters, I half suspected the compiler of having asked leading questions, or of having edited the correspondence in corroboration of what he had latently resolved to see. That is why I continued to feel that Wilcox, somehow cognizant of the old data which my uncle had possessed, had been imposing on the veteran scientist. These responses from esthetes told disturbing tale. From February 28 to April 2 a large proportion of them had dreamed very bizarre things, the intensity of the dreams being immeasurably the stronger during the period of the sculptor\\'s delirium. Over a fourth of those who reported anything, reported scenes and half-sounds not unlike those which Wilcox had described; and some of the dreamers confessed acute fear of the gigantic nameless thing visible toward the last. One case, which the note describes with emphasis, was very sad. The subject, a widely known architect with leanings toward theosophy and occultism, went violently insane on the date of young Wilcox\\'s seizure, and expired several months later after incessant screamings to be saved from some escaped denizen of hell. Had my uncle referred to these cases by name instead of merely by number, I should have attempted some corroboration and personal investigation; but as it was, I succeeded in tracing down only a few. All of these, however, bore out the notes in full. I have often wondered if all the the objects of the professor\\'s questioning felt as puzzled as did this fraction. It is well that no explanation shall ever reach them. The press cuttings, as I have intimated, touched on cases of panic, mania, and eccentricity during the given period. Professor Angell must have employed a cutting bureau, for the number of extracts was tremendous, and the sources scattered throughout the globe. Here was a nocturnal suicide in London, where a lone sleeper had leaped from a window after a shocking cry. Here likewise a rambling letter to the editor of a paper in South America, where a fanatic deduces a dire future from visions he has seen. A dispatch from California describes a theosophist colony as donning white robes en masse for some \"glorious fulfillment\" which never arrives, whilst items from India speak guardedly of serious native unrest toward the end of March 22-23. The west of Ireland, too, is full of wild rumor and legendry, and a fantastic painter named Ardois-Bonnot hangs a blasphemous Dream Landscape in the Paris spring salon of 1926. And so numerous are the recorded troubles in insane asylums that only a miracle can have stopped the medical fraternity from noting strange parallelisms and drawing mystified conclusions. A weird bunch of cuttings, all told; and I can at this date scarcely envisage the callous rationalism with which I set them aside. But I was then convinced that young Wilcox had known of the older matters mentioned by the professor. PART II. THE TALE OF INSPECTOR LEGRASSE The older matters which had made the sculptor\\'s dream and bas-relief so significant to my uncle formed the subject of the second half of his long manuscript. Once before, it appears, Professor Angell had seen the hellish outlines of the nameless monstrosity, puzzled over the unknown hieroglyphics, and heard the ominous syllables which can be rendered only as \"Cthulhu\"; and all this in so stirring and horrible a connection that it is small wonder he pursued young Wilcox with queries and demands for data. This earlier experience had come in 1908, seventeen years before, when the American Archaeological Society held its annual meeting in St. Louis. Professor Angell, as befitted one of his authority and attainments, had had a prominent part in all the deliberations; and was one of the first to be approached by the several outsiders who took advantage of the convocation to offer questions for correct answering and problems for expert solution. The chief of these outsiders, and in a short time the focus of interest for the entire meeting, was a commonplace-looking middle-aged man who had traveled all the way from New Orleans for certain special information unobtainable from any local source. His name was John Raymond Legrasse, and he was by profession an Inspector of Police. With him he bore the subject of his visit, a grotesque, repulsive, and apparently very ancient stone statuette whose origin he was at a loss to determine. It must not be fancied that Inspector Legrasse had the least interest in archaeology. On the contrary, his wish for enlightenment was prompted by purely professional considerations. The statuette, idol, fetish, or whatever it was, had been captured some months before in the wooded swamps south of New Orleans during a raid on a supposed voodoo meeting; and so singular and hideous were the rites connected with it, that the police could not but realize that they had stumbled on a dark cult totally unknown to them, and infinitely more diabolic than even the blackest of the African voodoo circles. Of its origin, apart from the erratic and unbelievable tales extorted from the captured members, absolutely nothing was to be discovered; hence the anxiety of the police for any antiquarian lore which might help them to place the frightful symbol, and through it track down the cult to its fountain-head. Inspector Legrasse was scarcely prepared for the sensation which his offering created. One sight of the thing had been enough to throw the assembled men of science into a state of tense excitement, and they lost no time in crowding around him to gaze at the diminutive figure whose utter strangeness and air of genuinely abysmal antiquity hinted so potently at unopened and archaic vistas. No recognized school of sculpture had animated this terrible object, yet centuries and even thousands of years seemed recorded in its dim and greenish surface of unplaceable stone. The figure, which was finally passed slowly from man to man for close and careful study, was between seven and eight inches in height, and of exquisitely artistic workmanship. It represented a monster of vaguely anthropoid outline, but with an octopus-like head whose face was a mass of feelers, a scaly, rubbery-looking body, prodigious claws on hind and fore feet, and long, narrow wings behind. This thing, which seemed instinct with a fearsome and unnatural malignancy, was of a somewhat bloated corpulence, and squatted evilly on a rectangular block or pedestal covered with undecipherable characters. The tips of the wings touched the back edge of the block, the seat occupied the center, whilst the long, curved claws of the doubled-up, crouching hind legs gripped the front edge and extended a quarter of the way clown toward the bottom of the pedestal. The cephalopod head was bent forward, so that the ends of the facial feelers brushed the backs of huge fore paws which clasped the croucher\\'s elevated knees. The aspect of the whole was abnormally life-like, and the more subtly fearful because its source was so totally unknown. Its vast, awesome, and incalculable age was unmistakable; yet not one link did it show with any known type of art belonging to civilization\\'s youth—or indeed to any other time. Totally separate and apart, its very material was a mystery; for the soapy, greenish-black stone with its golden or iridescent flecks and striations resembled nothing familiar to geology or mineralogy. The characters along the base were equally baffling; and no member present, despite a representation of half the world\\'s expert learning in this field, could form the least notion of even their remotest linguistic kinship. They, like the subject and material, belonged to something horribly remote and distinct from mankind as we know it. something frightfully suggestive of old and unhallowed cycles of life in which our world and our conceptions have no part. And yet, as the members severally shook their heads and confessed defeat at the Inspector\\'s problem, there was one man in that gathering who suspected a touch of bizarre familiarity in the monstrous shape and writing, and who presently told with some diffidence of the odd trifle he knew. This person was the late William Channing Webb, Professor of Anthropology in Princeton University, and an explorer of no slight note. Professor Webb had been engaged, forty-eight years before, in a tour of Greenland and Iceland in search of some Runic inscriptions which he failed to unearth; and whilst high up on the West Greenland coast had encountered a singular tribe or cult of degenerate Esquimaux whose religion, a curious form of devil-worship, chilled him with its deliberate bloodthirstiness and repulsiveness. It was a faith of which other Esquimaux knew little, and which they mentioned only with shudders, saying that it had come down from horribly ancient aeons before ever the world was made. Besides nameless rites and human sacrifices there were certain queer hereditary rituals addressed to a supreme elder devil or tornasuk; and of this Professor Webb had taken a careful phonetic copy from an aged angekok or wizard-priest, expressing the sounds in Roman letters as best he knew how. But just now of prime significance was the fetish which this cult had cherished, and around which they danced when the aurora leaped high over the ice cliffs. It was, the professor stated, a very crude bas-relief of stone, comprising a hideous picture and some cryptic writing. And so far as he could tell, it was a rough parallel in all essential features of the bestial thing now lying before the meeting. This data, received with suspense and astonishment by the assembled members, proved doubly exciting to Inspector Legrasse; and he began at once to ply his informant with questions. Having noted and copied an oral ritual among the swamp cult-worshipers his men had arrested, he besought the professor to remember as best he might the syllables taken down amongst the diabolist Esquimaux. There then followed an exhaustive comparison of details, and a moment of really awed silence when both detective and scientist agreed on the virtual identity of the phrase common to two hellish rituals so many worlds of distance apart. What, in substance, both the Esquimaux wizards and the Louisiana swamp-priests had chanted to their kindred idols was something very like this: the word-divisions being guessed at from traditional breaks in the phrase as chanted aloud: \"Ph\\'nglui mglw\\'nafh Cthulhu R\\'lyeh wgah\\'nagl fhtagn.\" Legrasse had one point in advance of Professor Webb, for several among his mongrel prisoners had repeated to him what older celebrants had told them the words meant. This text, as given, ran something like this: \"In his house at R\\'lyeh dead Cthulhu waits dreaming.\" And now, in response to a general and urgent demand, Inspector Legrasse related as fully as possible his experience with the swamp worshipers; telling a story to which I could see my uncle attached profound significance. It savored of the wildest dreams of myth-maker and theosophist, and disclosed an astonishing degree of cosmic imagination among such half-castes and pariahs as might be least expected to possess it. On November 1st, 1907, there had come to the New Orleans police a frantic summons from the swamp and lagoon country to the south. The squatters there, mostly primitive but good-natured descendants of Lafitte\\'s men, were in the grip of stark terror from an unknown thing which had stolen upon them in the night. It was voodoo, apparently, but voodoo of a more terrible sort than they had ever known; and some of their women and children had disappeared since the malevolent tom-tom had begun its incessant beating far within the black haunted woods where no dweller ventured. There were insane shouts and harrowing screams, soul-chilling chants and dancing devil-flames; and, the frightened messenger added, the people could stand it no more. So a body of twenty police, filling two carriages and an automobile, had set out in the late afternoon with the shivering squatter as a guide. At the end of the passable road they alighted, and for miles splashed on in silence through the terrible cypress woods where day never came. Ugly roots and malignant hanging nooses of Spanish moss beset them, and now and then a pile of dank stones or fragment of a rotting wall intensified by its hint of morbid habitation a depression which every malformed tree and every fungous islet combined to create. At length the squatter settlement, a miserable huddle of huts, hove in sight; and hysterical dwellers ran out to cluster around the group of bobbing lanterns. The muffled beat of tom-toms was now faintly audible far, far ahead; and a curdling shriek came at infrequent intervals when the wind shifted. A reddish glare, too, seemed to filter through pale undergrowth beyond the endless avenues of forest night. Reluctant even to be left alone again, each one of the cowed squatters refused point-blank to advance another inch toward the scene of unholy worship, so Inspector Legrasse and his nineteen colleagues plunged on unguided into black arcades of horror that none of them had ever trod before. The region now entered by the police was one of traditionally evil repute, substantially unknown and untraversed by white men. There were legends of a hidden lake unglimpsed by mortal sight, in which dwelt a huge, formless white polypous thing with luminous eyes; and squatters whispered that bat-winged devils flew up out of caverns in inner earth to worship it at midnight. They said it had been there before d\\'Iberville, before La Salle, before the Indians, and before even the wholesome beasts and birds of the woods. It was nightmare itself, and to see it was to die. But it made men dream, and so they knew enough to keep away. The present voodoo orgy was, indeed, on the merest fringe of this abhorred area, but that location was bad enough; hence perhaps the very place of the worship had terrified the squatters more than the shocking sounds and incidents. Only poetry or madness could do justice to the noises heard by Legrasse\\'s men as they ploughed on through the black morass toward the red glare and muffled tom-toms. There are vocal qualities peculiar to men, and vocal qualities peculiar to beasts; and it is terrible to hear the one when the source should yield the other. Animal fury and orgiastic license here whipped themselves to daemoniac heights by howls and squawking ecstasies that tore and reverberated through those nighted woods like pestilential tempests from the gulfs of hell. Now and then the less organized ululation would cease, and from what seemed a well-drilled chorus of hoarse voices would rise in singsong chant that hideous phrase or ritual: \"Ph\\'nglui mglw\\'nafh Cthulhu R\\'lyeh wgah\\'nagl fhtagn.\" Then the men, having reached a spot where the trees were thinner, came suddenly in sight of the spectacle itself. Four of them reeled, one fainted, and two were shaken into a frantic cry which the mad cacophony of the orgy fortunately deadened. Legrasse dashed swamp water on the face of the fainting man, and all stood trembling and nearly hypnotized with horror. In a natural glade of the swamp stood a grassy island of perhaps an acre\\'s extent, clear of trees and tolerably dry. On this now leaped and twisted a more indescribable horde of human abnormality than any but a Sime or an Angarola could paint. Void of clothing, this hybrid spawn were braying, bellowing, and writhing about a monstrous ring-shaped bonfire; in the center of which, revealed by occasional rifts in the curtain of flame, stood a great granite monolith some eight feet in height; on top of which, incongruous in its diminutiveness, rested the noxious carven statuette. From a wide circle of ten scaffolds set up at regular intervals with the flame-girt monolith as a center hung, head downward, the oddly marred bodies of the helpless squatters who had disappeared. It was inside this circle that the ring of worshipers jumped and roared, the general direction of the mass motion being from left to right in endless Bacchanal between the ring of bodies and the ring of fire. It may have been only imagination and it may have been only echoes which induced one of the men, an excitable Spaniard, to fancy he heard antiphonal responses to the ritual from some far and unillumined spot deeper within the wood of ancient legendry and horror. This man, Joseph D. Galvez, I later met and questioned; and he proved distractingly imaginative. He indeed went so far as to hint of the faint beating of great wings, and of a glimpse of shining eyes and a mountainous white bulk beyond the remotest trees but I suppose he had been hearing too much native superstition. Actually, the horrified pause of the men was of comparatively brief duration. Duty came first; and although there must have been nearly a hundred mongrel celebrants in the throng, the police relied on their firearms and plunged determinedly into the nauseous rout. For five minutes the resultant din and chaos were beyond description. Wild blows were struck, shots were fired, and escapes were made; but in the end Legrasse was able to count some fortyseven sullen prisoners, whom he forced to dress in haste and fall into line between two rows of policemen. Five of the worshipers lay dead, and two severely wounded ones were carried away on improvised stretchers by their fellow-prisoners. The image on the monolith, of course, was carefully removed and carried back by Legrasse. Examined at headquarters after a trip of intense strain and weariness, the prisoners all proved to be men of a very low, mixed-blooded, and mentally aberrant type. Most were seamen, and a sprinkling of Negroes and mulattoes, largely West Indians or Brava Portuguese from the Cape Verde Islands, gave a colouring of voodooism to the heterogeneous cult. But before many questions were asked, it became manifest that something far deeper and older than Negro fetishism was involved. Degraded and ignorant as they were, the creatures held with surprising consistency to the central idea of their loathsome faith. They worshipped, so they said, the Great Old Ones who lived ages before there were any men, and who came to the young world out of the sky. Those Old Ones were gone now, inside the earth and under the sea; but their dead bodies had told their secrets in dreams to the first men, who formed a cult which had never died. This was that cult, and the prisoners said it had always existed and always would exist, hidden in distant wastes and dark places all over the world until the time when the great priest Cthulhu, from his dark house in the mighty city of R\\'lyeh under the waters, should rise and bring the earth again beneath his sway. Some day he would call, when the stars were ready, and the secret cult would always be waiting to liberate him. Meanwhile no more must be told. There was a secret which even torture could not extract. Mankind was not absolutely alone among the conscious things of earth, for shapes came out of the dark to visit the faithful few. But these were not the Great Old Ones. No man had ever seen the Old Ones. The carven idol was great Cthulhu, but none might say whether or not the others were precisely like him. No one could read the old writing now, but things were told by word of mouth. The chanted ritual was not the secret—that was never spoken aloud, only whispered. The chant meant only this: \"In his house at R\\'lyeh dead Cthulhu waits dreaming.\" Only two of the prisoners were found sane enough to be hanged, and the rest were committed to various institutions. All denied a part in the ritual murders, and averred that the killing had been done by Black Winged Ones which had come to them from their immemorial meeting-place in the haunted wood. But of those mysterious allies no coherent account could ever be gained. What the police did extract, came mainly from the immensely aged mestizo named Castro, who claimed to have sailed to strange ports and talked with undying leaders of the cult in the mountains of China. Old Castro remembered bits of hideous legend that paled the speculations of theosophists and made man and the world seem recent and transient indeed. There had been aeons when other Things ruled on the earth, and They had had great cities. Remains of Them, he said the deathless Chinamen had told him, were still be found as Cyclopean stones on islands in the Pacific. They all died vast epochs of time before men came, but there were arts which could revive Them when the stars had come round again to the right positions in the cycle of eternity. They had, indeed, come themselves from the stars, and brought Their images with Them. These Great Old Ones, Castro continued, were not composed altogether of flesh and blood. They had shape—for did not this star-fashioned image prove it?—but that shape was not made of matter. When the stars were right, They could plunge from world to world through the sky; but when the stars were wrong, They could not live. But although They no longer lived, They would never really die. They all lay in stone houses in Their great city of R\\'lyeh, preserved by the spells of mighty Cthulhu for a glorious surrection when the stars and the earth might once more be ready for Them. But at that time some force from outside must serve to liberate Their bodies. The spells that preserved them intact likewise prevented Them from making an initial move, and They could only lie awake in the dark and think whilst uncounted millions of years rolled by. They knew all that was occurring in the universe, for Their mode of speech was transmitted thought. Even now They talked in Their tombs. When, after infinities of chaos, the first men came, the Great Old Ones spoke to the sensitive among them by moulding their dreams; for only thus could Their language reach the fleshly minds of mammals. Then, whispered Castro, those first men formed the cult around tall idols which the Great Ones showed them; idols brought in dim eras from dark stars. That cult would never die till the stars came right again, and the secret priests would take great Cthulhu from His tomb to revive His subjects and resume His rule of earth. The time would be easy to know, for then mankind would have become as the Great Old Ones; free and wild and beyond good and evil, with laws and morals thrown aside and all men shouting and killing and levelling in joy. Then the liberated Old Ones would teach them new ways to shout and kill and revel and enjoy themselves, and all the earth would flame with a holocaust of ecstasy and freedom. Meanwhile the cult, by appropriate rites, must keep alive the memory of those ancient ways and shadow forth the prophecy of their return. In the elder time chosen men had talked with the entombed Old Ones in dreams, but then something happened. The great stone city R\\'lyeh, with its monoliths and sepulchers, had sunk beneath the waves; and the deep waters, full of the one primal mystery through which not even thought can pass, had cut off the spectral intercourse. But memory never died, and the high-priests said that the city would rise again when the stars were right. Then came out of the earth the black spirits of earth, mouldy and shadowy, and full of dim rumors picked up in caverns beneath forgotten sea-bottoms. But of them old Castro dared not speak much. He cut himself off hurriedly, and no amount of persuasion or subtlety could elicit more in this direction. The size of the Old Ones, too, he curiously declined to mention. Of the cult, he said that he thought the center lay amid the pathless desert of Arabia, where Irem, the City of Pillars, dreams hidden and untouched. It was not allied to the European witch-cult, and was virtually unknown beyond its members. No book had ever really hinted of it, though the deathless Chinamen said that there were double meanings in the Necronomicon of the mad Arab Abdul Alhazred which the initiated might read as they chose, especially the much-discussed couplet: That is not dead which can eternal lie, And with strange aeons even death may die. Legrasse, deeply impressed and not a little bewildered, had inquired in vain concerning the historic affiliations of the cult. Castro, apparently, had told the truth when he said that it was wholly secret. The authorities at Tulane University could shed no light upon either cult or image, and now the detective had come to the highest authorities in the country and met with no more than the Greenland tale of Professor Webb. The feverish interest aroused at the meeting by Legrasse\\'s tale, corroborated as it was by the statuette, is echoed in the subsequent correspondence of those who attended; although scant mention occurs in the formal publications of the society. Caution is the first care of those accustomed to face occasional charlatanry and imposture. Legrasse for some time lent the image to Professor Webb, but at the latter\\'s death it was returned to him and remains in his possession, where I viewed it not long ago. It is truly a terrible thing, and unmistakably akin to the dream-sculpture of young Wilcox. That my uncle was excited by the tale of the sculptor I did not wonder, for what thoughts must arise upon hearing, after a knowledge of what Legrasse had learned of the cult, of a sensitive young man who had dreamed not only the figure and exact hieroglyphics of the swamp-found image and the Greenland devil tablet, but had come in his dreams upon at least three of the precise words of the formula uttered alike by Esquimaux diabolists and mongrel Louisianans?. Professor Angell\\'s instant start on an investigation of the utmost thoroughness was eminently natural; though privately I suspected young Wilcox of having heard of the cult in some indirect way, and of having invented a series of dreams to heighten and continue the mystery at my uncle\\'s expense. The dream-narratives and cuttings collected by the professor were, of course, strong corroboration; but the rationalism of my mind and the extravagance of the whole subject led me to adopt what I thought the most sensible conclusions. So, after thoroughly studying the manuscript again and correlating the theosophical and anthropological notes with the cult narrative of Legrasse, I made a trip to Providence to see the sculptor and give him the rebuke I thought proper for so boldly imposing upon a learned and aged man. Wilcox still lived alone in the Fleur-de-Lys Building in Thomas Street, a hideous Victorian imitation of seventeenth century Breton Architecture which flaunts its stuccoed front amidst the lovely colonial houses on the ancient hill, and under the very shadow of the finest Georgian steeple in America, I found him at work in his rooms, and at once conceded from the specimens scattered about that his genius is indeed profound and authentic. He will, I believe, some time be heard from as one of the great decadents; for he has crystallized in clay and will one day mirror in marble those nightmares and fantasies which Arthur Machen evokes in prose, and Clark Ashton Smith makes visible in verse and in painting. Dark, frail, and somewhat unkempt in aspect, he turned languidly at my knock and asked me my business without rising. Then I told him who I was, he displayed some interest; for my uncle had excited his curiosity in probing his strange dreams, yet had never explained the reason for the study. I did not enlarge his knowledge in this regard, but sought with some subtlety to draw him out. In a short time I became convinced of his absolute sincerity, for he spoke of the dreams in a manner none could mistake. They and their subconscious residuum had influenced his art profoundly, and he showed me a morbid statue whose contours almost made me shake with the potency of its black suggestion. He could not recall having seen the original of this thing except in his own dream bas-relief, but the outlines had formed themselves insensibly under his hands. It was, no doubt, the giant shape he had raved of in delirium. That he really knew nothing of the hidden cult, save from what my uncle\\'s relentless catechism had let fall, he soon made clear; and again I strove to think of some way in which he could possibly have received the weird impressions. He talked of his dreams in a strangely poetic fashion; making me see with terrible vividness the damp Cyclopean city of slimy green stone—whose geometry, he oddly said, was all wrong—and hear with frightened expectancy the ceaseless, half-mental calling from underground: \"Cthulhu fhtagn\", \"Cthulhu fhtagn.\" These words had formed part of that dread ritual which told of dead Cthulhu\\'s dream-vigil in his stone vault at R\\'lyeh, and I felt deeply moved despite my rational beliefs. Wilcox, I was sure, had heard of the cult in some casual way, and had soon forgotten it amidst the mass of his equally weird reading and imagining. Later, by virtue of its sheer impressiveness, it had found subconscious expression in dreams, in the bas-relief, and in the terrible statue I now beheld; so that his imposture upon my uncle had been a very innocent one. The youth was of a type, at once slightly affected and slightly illmannered, which I could never like, but I was willing enough now to admit both his genius and his honesty. I took leave of him amicably, and wish him all the success his talent promises. The matter of the cult still remained to fascinate me, and at times I had visions of personal fame from researches into its origin and connections. I visited New Orleans, talked with Legrasse and others of that old-time raiding-party, saw the frightful image, and even questioned such of the mongrel prisoners as still survived. Old Castro, unfortunately, had been dead for some years. What I now heard so graphically at first-hand, though it was really no more than a detailed confirmation of what my uncle had written, excited me afresh; for I felt sure that I was on the track of a very real, very secret, and very ancient religion whose discovery would make me an anthropologist of note. My attitude was still one of absolute materialism, as l wish it still were, and I discounted with almost inexplicable perversity the coincidence of the dream notes and odd cuttings collected by Professor Angell. One thing I began to suspect, and which I now fear I know, is that my uncle\\'s death was far from natural. He fell on a narrow hill street leading up from an ancient waterfront swarming with foreign mongrels, after a careless push from a Negro sailor. I did not forget the mixed blood and marine pursuits of the cult-members in Louisiana, and would not be surprised to learn of secret methods and rites and beliefs. Legrasse and his men, it is true, have been let alone; but in Norway a certain seaman who saw things is dead. Might not the deeper inquiries of my uncle after encountering the sculptor\\'s data have come to sinister ears?. I think Professor Angell died because he knew too much, or because he was likely to learn too much. Whether I shall go as he did remains to be seen, for I have learned much now. PART III. THE MADNESS FROM THE SEA If heaven ever wishes to grant me a boon, it will be a total effacing of the results of a mere chance which fixed my eye on a certain stray piece of shelfpaper. It was nothing on which I would naturally have stumbled in the course of my daily round, for it was an old number of an Australian journal, the Sydney Bulletin for April 18, 1925. It had escaped even the cutting bureau which had at the time of its issuance been avidly collecting material for my uncle\\'s research. I had largely given over my inquiries into what Professor Angell called the \"Cthulhu Cult\", and was visiting a learned friend in Paterson, New Jersey; the curator of a local museum and a mineralogist of note. Examining one day the reserve specimens roughly set on the storage shelves in a rear room of the museum, my eye was caught by an odd picture in one of the old papers spread beneath the stones. It was the Sydney Bulletin I have mentioned, for my friend had wide affiliations in all conceivable foreign parts; and the picture was a half-tone cut of a hideous stone image almost identical with that which Legrasse had found in the swamp. Eagerly clearing the sheet of its precious contents, I scanned the item in detail; and was disappointed to find it of only moderate length. What it suggested, however, was of portentous significance to my flagging quest; and I carefully tore it out for immediate action. It read as follows: MYSTERY DERELICT FOUND AT SEA Vigilant Arrives With Helpless Armed New Zealand Yacht in Tow. One Survivor and Dead Man Found Aboard. Tale of Desperate Battle and Deaths at Sea. Rescued Seaman Refuses Particulars of Strange Experience. Odd Idol Found in His Possession. Inquiry to Follow. The Morrison Co.\\'s freighter Vigilant, bound from Valparaiso, arrived this morning at its wharf in Darling Harbor, having in tow the battled and disabled but heavily armed steam yacht Alert of Dunedin, N.Z., which was sighted April 12th in S. Latitude 34°21\\', W. Longitude 152°17\\', with one living and one dead man aboard. The Vigilant left Valparaiso March 25th, and on April 2nd was driven considerably south of her course by exceptionally heavy storms and monster waves. On April 12th the derelict was sighted; and though apparently deserted, was found upon boarding to contain one survivor in a half-delirious condition and one man who had evidently been dead for more than a week. The living man was clutching a horrible stone idol of unknown origin, about foot in height, regarding whose nature authorities at Sydney University, the Royal Society, and the Museum in College Street all profess complete bafflement, and which the survivor says he found in the cabin of the yacht, in a small carved shrine of common pattern. This man, after recovering his senses, told an exceedingly strange story of piracy and slaughter. He is Gustaf Johansen, a Norwegian of some intelligence, and had been second mate of the two-masted schooner Emma of Auckland, which sailed for Callao February 20th with a complement of eleven men. The Emma, he says, was delayed and thrown widely south of her course by the great storm of March 1st, and on March 22nd, in S. Latitude 49°51\\' W. Longitude 128°34\\', encountered the Alert, manned by a queer and evil-looking crew of Kanakas and half-castes. Being ordered peremptorily to turn back, Capt. Collins refused; whereupon the strange crew began to fire savagely and without warning upon the schooner with a peculiarly heavy battery of brass cannon forming part of the yacht\\'s equipment. The Emma\\'s men showed fight, says the survivor, and though the schooner began to sink from shots beneath the water-line they managed to heave alongside their enemy and board her, grappling with the savage crew on the yacht\\'s deck, and being forced to kill them all, the number being slightly superior, because of their particularly abhorrent and desperate though rather clumsy mode of fighting. Three of the Emma\\'s men, including Capt. Collins and First Mate Green, were killed; and the remaining eight under Second Mate Johansen proceeded to navigate the captured yacht, going ahead in their original direction to see if any reason for their ordering back had existed. The next day, it appears, they raised and landed on a small island, although none is known to exist in that part of the ocean; and six of the men somehow died ashore, though Johansen is queerly reticent about this part of his story, and speaks only of their falling into a rock chasm. Later, it seems, he and one companion boarded the yacht and tried to manage her, but were beaten about by the storm of April 2nd, From that time till his rescue on the 12th the man remembers little, and he does not even recall when William Briden, his companion, died. Briden\\'s death reveals no apparent cause, and was probably due to excitement or exposure. Cable advices from Dunedin report that the Alert was well known there as an island trader, and bore an evil reputation along the waterfront, It was owned by a curious group of half-castes whose frequent meetings and night trips to the woods attracted no little curiosity; and it had set sail in great haste just after the storm and earth tremors of March 1st. Our Auckland correspondent gives the Emma and her crew an excellent reputation, and Johansen is described as a sober and worthy man. The admiralty will institute an inquiry on the whole matter beginning tomorrow, at which every effort will be made to induce Johansen to speak more freely than he has done hitherto. This was all, together with the picture of the hellish image; but what a train of ideas it started in my mind! Here were new treasuries of data on the Cthulhu Cult, and evidence that it had strange interests at sea as well as on land. What motive prompted the hybrid crew to order back the Emma as they sailed about with their hideous idol? What was the unknown island on which six of the Emma\\'s crew had died, and about which the mate Johansen was so secretive? What had the vice-admiralty\\'s investigation brought out, and what was known of the noxious cult in Dunedin? And most marvelous of all, what deep and more than natural linkage of dates was this which gave a malign and now undeniable significance to the various turns of events so carefully noted by my uncle? March 1st—or February 28th according to the International Date Line—the earthquake and storm had come. From Dunedin the Alert and her noisome crew had darted eagerly forth as if imperiously summoned, and on the other side of the earth poets and artists had begun to dream of a strange, dank Cyclopean city whilst a young sculptor had moulded in his sleep the form of the dreaded Cthulhu. March 23rd the crew of the Emma landed on an unknown island and left six men dead; and on that date the dreams of sensitive men assumed a heightened vividness and darkened with dread of a giant monster\\'s malign pursuit, whilst an architect had gone mad and a sculptor had lapsed suddenly into delirium! And what of this storm of April 2nd—the date on which all dreams of the dank city ceased, and Wilcox emerged unharmed from the bondage of strange fever? What of all this—and of those hints of old Castro about the sunken, star-born Old Ones and their coming reign; their faithful cult and their mastery of dreams? Was I tottering on the brink of cosmic horrors beyond man\\'s power to bear? If so, they must be horrors of the mind alone, for in some way the second of April had put a stop to whatever monstrous menace had begun its siege of mankind\\'s soul. That evening, after a day of hurried cabling and arranging, I bade my host adieu and took a train for San Francisco. In less than a month I was in Dunedin; where, however, I found that little was known of the strange cultmembers who had lingered in the old sea-taverns. Waterfront scum was far too common for special mention; though there was vague talk about one inland trip these mongrels had made, during which faint drumming and red flame were noted on the distant hills. In Auckland I learned that Johansen had returned with yellow hair turned white after a perfunctory and inconclusive questioning at Sydney, and had thereafter sold his cottage in West Street and sailed with his wife to his old home in Oslo. Of his stirring experience he would tell his friends no more than he had told the admiralty officials, and all they could do was to give me his Oslo address. After that I went to Sydney and talked profitlessly with seamen and members of the vice-admiralty court. I saw the Alert, now sold and in commercial use, at Circular Quay in Sydney Cove, but gained nothing from its non-committal bulk. The crouching image with its cuttlefish head, dragon body, scaly wings, and hieroglyphed pedestal, was preserved in the Museum at Hyde Park; and I studied it long and well, finding it a thing of balefully exquisite workmanship, and with the same utter mystery, terrible antiquity, and unearthly strangeness of material which I had noted in Legrasse\\'s smaller specimen. Geologists, the curator told me, had found it a monstrous puzzle; for they vowed that the world held no rock like it. Then I thought with a shudder of what Old Castro had told Legrasse about the Old Ones; \"They had come from the stars, and had brought Their images with Them.\" Shaken with such a mental revolution as I had never before known, I now resolved to visit Mate Johansen in Oslo. Sailing for London, I re-embarked at once for the Norwegian capital; and one autumn day landed at the trim wharves in the shadow of the Egeberg. Johansen\\'s address, I discovered, lay in the Old Town of King Harold Haardrada, which kept alive the name of Oslo during all the centuries that the greater city masqueraded as \"Christiana.\" I made the brief trip by taxicab, and knocked with palpitant heart at the door of a neat and ancient building with plastered front. A sad-faced woman in black answered my summons, and I was stung th disappointment when she told me in halting English that Gustaf Johansen was no more. He had not long survived his return, said his wife, for the doings sea in 1925 had broken him. He had told her no more than he told the public, but had left a long manuscript—of \"technical matters\" as he said— written in English, evidently in order to guard her from the peril of casual perusal. During a walk rough a narrow lane near the Gothenburg dock, a bundle of papers falling from an attic window had knocked him down. Two Lascar sailors at once helped him to his feet, but before the ambulance could reach him he was dead. Physicians found no adequate cause the end, and laid it to heart trouble and a weakened constitution. I now felt gnawing at my vitals that dark terror which will never leave me till I, too, am at rest; \"accidentally\" or otherwise. Persuading the widow that my connection with her husband\\'s \"technical matters\" was sufficient to entitle me to his manuscript, I bore the document away and began to read it on the London boat. It was a simple, rambling thing—a naive sailor\\'s effort at a post- facto diary— and strove to recall day by day that last awful voyage. I cannot attempt to transcribe it verbatim in all its cloudiness and redundancy, but I will tell its gist enough to show why the sound the water against the vessel\\'s sides became so unendurable to me that I stopped my ears with cotton. Johansen, thank God, did not know quite all, even though he saw the city and the Thing, but I shall never sleep calmly again when I think of the horrors that lurk ceaselessly behind life in time and in space, and of those unhallowed blasphemies from elder stars which dream beneath the sea, known and favored by a nightmare cult ready and eager to loose them upon the world whenever another earthquake shall heave their monstrous stone city again to the sun and air. Johansen\\'s voyage had begun just as he told it to the vice-admiralty. The Emma, in ballast, had cleared Auckland on February 20th, and had felt the full force of that earthquake-born tempest which must have heaved up from the sea-bottom the horrors that filled men\\'s dreams. Once more under control, the ship was making good progress when held up by the Alert on March 22nd, and I could feel the mate\\'s regret as he wrote of her bombardment and sinking. Of the swarthy cult-fiends on the Alert he speaks with significant horror. There was some peculiarly abominable quality about them which made their destruction seem almost a duty, and Johansen shows ingenuous wonder at the charge of ruthlessness brought against his party during the proceedings of the court of inquiry. Then, driven ahead by curiosity in their captured yacht under Johansen\\'s command, the men sight a great stone pillar sticking out of the sea, and in S. Latitude 47°9\\', W. Longitude l23°43\\', come upon a coastline of mingled mud, ooze, and weedy Cyclopean masonry which can be nothing less than the tangible substance of earth\\'s supreme terror—the nightmare corpsecity of R\\'lyeh, that was built in measureless aeons behind history by the vast, loathsome shapes that seeped down from the dark stars. There lay great Cthulhu and his hordes, hidden in green slimy vaults and sending out at last, after cycles incalculable, the thoughts that spread fear to the dreams of the sensitive and called imperiously to the faithful to come on a pilgrimage of liberation and restoration. All this Johansen did not suspect, but God knows he soon saw enough! I suppose that only a single mountain-top, the hideous monolith-crowned citadel whereon great Cthulhu was buried, actually emerged from the waters. When I think of the extent of all that may be brooding down there I almost wish to kill myself forthwith. Johansen and his men were awed by the cosmic majesty of this dripping Babylon of elder daemons, and must have guessed without guidance that it was nothing of this or of any sane planet. Awe at the unbelievable size of the greenish stone blocks, at the dizzying height of the great carven monolith, and at the stupefying identity of the colossal statues and bas-reliefs with the queer image found in the shrine on the Alert, is poignantly visible in every line of the mates frightened description. Without knowing what futurism is like, Johansen achieved something very close to it when he spoke of the city; for instead of describing any definite structure or building, he dwells only on broad impressions of vast angles and stone surfaces—surfaces too great to belong to anything right or proper for this earth, and impious with horrible images and hieroglyphs. I mention his talk about angles because it suggests something Wilcox had told me of his awful dreams. He said that the geometry of the dream-place he saw was abnormal, non-Euclidean, and loathsomely redolent of spheres and dimensions apart from ours. Now an unlettered seaman felt the same thing whilst gazing at the terrible reality. Johansen and his men landed at a sloping mud-bank on this monstrous Acropolis, and clambered slipperily up over titan oozy blocks which could have been no mortal staircase. The very sun of heaven seemed distorted when viewed through the polarizing miasma welling out from this sea-soaked perversion, and twisted menace and suspense lurked leeringly in those crazily elusive angles of carven rock where a second glance showed concavity after the first showed convexity. Something very like fright had come over all the explorers before anything more definite than rock and ooze and weed was seen. Each would have fled had he not feared the scorn of the others, and it was only half-heartedly that they searched—vainly, as it proved—for some portable souvenir to bear away. It was Rodriguez the Portuguese who climbed up the foot of the monolith and shouted of what he had found. The rest followed him, and looked curiously at the immense carved door with the now familiar squid-dragon bas-relief. It was, Johansen said, like a great barn-door; and they all felt that it was a door because of the ornate lintel, threshold, and jambs around it, though they could not decide whether it lay flat like a trap-door or slantwise like an outside cellar-door. As Wilcox would have said, the geometry of the place was all wrong. One could not be sure that the sea and the ground were horizontal, hence the relative position of everything else seemed phantasmally variable. Briden pushed at the stone in several places without result. Then Donovan felt over it delicately around the edge, pressing each point separately as he went. He climbed interminably along the grotesque stone moulding—that is, one would call it climbing if the thing was not after all horizontal —and the men wondered how any door in the universe could be so vast. Then, very softly and slowly, the acre-great lintel began to give inward at the top; and they saw that it was balanced Donovan slid or somehow propelled himself down or along the jamb and rejoined his fellows, and everyone watched the queer recession of the monstrously carven portal. In this phantasy of prismatic distortion it moved anomalously in a diagonal way, so that all the rules of matter and perspective seemed upset. The aperture was black with a darkness almost material. That tenebrousness was indeed a positive quality; for it obscured such parts of the inner walls as ought to have been revealed, and actually burst forth like smoke from its aeonlong imprisonment, visibly darkening the sun as it slunk away into the shrunken and gibbous sky on flapping membraneous wings. The odor rising from the newly opened depths was intolerable, and at length the quick-eared Hawkins thought he heard a nasty, slopping sound down there. Everyone listened, and everyone was listening still when It lumbered slobberingly into sight and gropingly squeezed Its gelatinous green immensity through the black doorway into the tainted outside air of that poison city of madness. Poor Johansen\\'s handwriting almost gave out when he wrote of this. Of the six men who never reached the ship, he thinks two perished of pure fright in that accursed instant. The Thing cannot be described—there is no language for such abysms of shrieking and immemorial lunacy, such eldritch contradictions of all matter, force, and cosmic order. A mountain walked or stumbled. God! What wonder that across the earth a great architect went mad, and poor Wilcox raved with fever in that telepathic instant? The Thing of the idols, the green, sticky spawn of the stars, had awaked to claim his own. The stars were right again, and what an age-old cult had failed to do by design, a band of innocent sailors had done by accident. After vigintillions of years great Cthulhu was loose again, and ravening for delight. Three men were swept up by the flabby claws before anybody turned. God rest them, if there be any rest in the universe. They were Donovan, Guerrera, and Angstrom. Parker slipped as the other three were plunging frenziedly over endless vistas of green-crusted rock to the boat, and Johansen swears he was swallowed up by an angle of masonry which shouldn\\'t have been there; an angle which was acute, but behaved as if it were obtuse. So only Briden and Johansen reached the boat, and pulled desperately for the Alert as the mountainous monstrosity flopped down the slimy stones and hesitated, floundering at the edge of the water. Steam had not been suffered to go down entirely, despite the departure of all hands for the shore; and it was the work of only a few moments of feverish rushing up and down between wheel and engines to get the Alert under way. Slowly, amidst the distorted horrors of that indescribable scene, she began to churn the lethal waters; whilst on the masonry of that charnel shore that was not of earth the titan Thing from the stars slavered and gibbered like Polypheme cursing the fleeing ship of Odysseus. Then, bolder than the storied Cyclops, great Cthulhu slid greasily into the water and began to pursue with vast wave-raising strokes of cosmic potency. Briden looked back and went mad, laughing shrilly as he kept on laughing at intervals till death found him one night in the cabin whilst Johansen was wandering deliriously. But Johansen had not given out yet. Knowing that the Thing could surely overtake the Alert until steam was fully up, he resolved on a desperate chance; and, setting the engine for full speed, ran lightning-like on deck and reversed the wheel. There was a mighty eddying and foaming in the noisome brine, and as the steam mounted higher and higher the brave Norwegian drove his vessel head on against the pursuing jelly which rose above the unclean froth like the stern of a daemon galleon. The awful squid-head with writhing feelers came nearly up to the bowsprit of the sturdy yacht, but Johansen drove on relentlessly. There was a bursting as of an exploding bladder, a slushy nastiness as of a cloven sunfish, a stench as of a thousand opened graves, and a sound that the chronicler could not put on paper. For an instant the ship was befouled by an acrid and blinding green cloud, and then there was only a venomous seething astern; where—God in heaven!—the scattered plasticity of that nameless sky-spawn was nebulously recombining in its hateful original form, whilst its distance widened every second as the Alert gained impetus from its mounting steam. That was all. After that Johansen only brooded over the idol in the cabin and attended to a few matters of food for himself and the laughing maniac by his side. He did not try to navigate after the first bold flight, for the reaction had taken something out of his soul. Then came the storm of April 2nd, and a gathering of the clouds about his consciousness. There is a sense of spectral whirling through liquid gulfs of infinity, of dizzying rides through reeling universes on a comets tail, and of hysterical plunges from the pit to the moon and from the moon back again to the pit, all livened by a cachinnating chorus of the distorted, hilarious elder gods and the green, bat-winged mocking imps of Tartarus. Out of that dream came rescue—the Vigilant, the vice- admiralty court, the streets of Dunedin, and the long voyage back home to the old house by the Egeberg. He could not tell—they would think him mad. He would write of what he knew before death came, but his wife must not guess. Death would be a boon if only it could blot out the memories. That was the document I read, and now I have placed it in the tin box beside the bas-relief and the papers of Professor Angell. With it shall go this record of mine—this test of my own sanity, wherein is pieced together that which I hope may never be pieced together again. I have looked upon all that the universe has to hold of horror, and even the skies of spring and the flowers of summer must ever afterward be poison to me. But I do not think my life will be long. As my uncle went, as poor Johansen went, so I shall go. I know too much, and the cult still lives. Cthulhu still lives, too, I suppose, again in that chasm of stone which has shielded him since the sun was young. His accursed city is sunken once more, for the Vigilant sailed over the spot after the April storm; but his ministers on earth still bellow and prance and slay around idol-capped monoliths in lonely places. He must have been trapped by the sinking whilst within his black abyss, or else the world would by now be screaming with fright and frenzy. Who knows the end? What has risen may sink, and what has sunk may rise. Loathsomeness waits and dreams in the deep, and decay spreads over the tottering cities of men. A time will come—but I must not and cannot think! Let me pray that, if I do not survive this manuscript, my executors may put caution before audacity and see that it meets no other eye. THE END Liked This Book? For More FREE e-Books visit Freeditorial.com'"
            ],
            "application/vnd.google.colaboratory.intrinsic+json": {
              "type": "string"
            }
          },
          "metadata": {},
          "execution_count": 18
        }
      ]
    },
    {
      "cell_type": "code",
      "metadata": {
        "id": "_KlsYd7_uOez",
        "colab": {
          "base_uri": "https://localhost:8080/"
        },
        "outputId": "e56413cd-76d0-43ed-e013-422977b98612"
      },
      "source": [
        "# Transformar el corpus a tokens\n",
        "tokens=text_to_word_sequence(corpus)\n",
        "# Vistazo general de los primeros tokens\n",
        "tokens[:20]"
      ],
      "execution_count": 19,
      "outputs": [
        {
          "output_type": "execute_result",
          "data": {
            "text/plain": [
              "['the',\n",
              " 'call',\n",
              " 'of',\n",
              " 'cthulhu',\n",
              " 'by',\n",
              " 'h',\n",
              " 'p',\n",
              " 'lovecraft',\n",
              " 'the',\n",
              " 'call',\n",
              " 'of',\n",
              " 'cthulhu',\n",
              " 'of',\n",
              " 'such',\n",
              " 'great',\n",
              " 'powers',\n",
              " 'or',\n",
              " 'beings',\n",
              " 'there',\n",
              " 'may']"
            ]
          },
          "metadata": {},
          "execution_count": 19
        }
      ]
    },
    {
      "cell_type": "code",
      "metadata": {
        "id": "GlqpZSJOJ1xQ",
        "colab": {
          "base_uri": "https://localhost:8080/"
        },
        "outputId": "abad2d05-760c-4022-b83c-f3edc75823fb"
      },
      "source": [
        "print(\"Cantidad de tokens en el corpus:\", len(tokens))"
      ],
      "execution_count": 20,
      "outputs": [
        {
          "output_type": "stream",
          "name": "stdout",
          "text": [
            "Cantidad de tokens en el corpus: 11933\n"
          ]
        }
      ]
    },
    {
      "cell_type": "code",
      "metadata": {
        "id": "RhQevOynuYk2"
      },
      "source": [
        "# Código para hacer el desfazaje de las palabras\n",
        "# según el train_len\n",
        "text_sequences = []\n",
        "for i in range(train_len, len(tokens)):\n",
        "  seq = tokens[i-train_len:i]\n",
        "  text_sequences.append(seq)"
      ],
      "execution_count": 21,
      "outputs": []
    },
    {
      "cell_type": "code",
      "metadata": {
        "id": "FU3FuqHSuhzq",
        "colab": {
          "base_uri": "https://localhost:8080/"
        },
        "outputId": "b9a042ae-4791-4d67-b5ab-7ab999b9aba2"
      },
      "source": [
        "# Demos un vistazo a nuestros vectores para entrenar el modelo\n",
        "text_sequences[:20]"
      ],
      "execution_count": 22,
      "outputs": [
        {
          "output_type": "execute_result",
          "data": {
            "text/plain": [
              "[['the', 'call', 'of', 'cthulhu'],\n",
              " ['call', 'of', 'cthulhu', 'by'],\n",
              " ['of', 'cthulhu', 'by', 'h'],\n",
              " ['cthulhu', 'by', 'h', 'p'],\n",
              " ['by', 'h', 'p', 'lovecraft'],\n",
              " ['h', 'p', 'lovecraft', 'the'],\n",
              " ['p', 'lovecraft', 'the', 'call'],\n",
              " ['lovecraft', 'the', 'call', 'of'],\n",
              " ['the', 'call', 'of', 'cthulhu'],\n",
              " ['call', 'of', 'cthulhu', 'of'],\n",
              " ['of', 'cthulhu', 'of', 'such'],\n",
              " ['cthulhu', 'of', 'such', 'great'],\n",
              " ['of', 'such', 'great', 'powers'],\n",
              " ['such', 'great', 'powers', 'or'],\n",
              " ['great', 'powers', 'or', 'beings'],\n",
              " ['powers', 'or', 'beings', 'there'],\n",
              " ['or', 'beings', 'there', 'may'],\n",
              " ['beings', 'there', 'may', 'be'],\n",
              " ['there', 'may', 'be', 'conceivably'],\n",
              " ['may', 'be', 'conceivably', 'a']]"
            ]
          },
          "metadata": {},
          "execution_count": 22
        }
      ]
    },
    {
      "cell_type": "code",
      "metadata": {
        "id": "064N2jtLvHRg",
        "colab": {
          "base_uri": "https://localhost:8080/"
        },
        "outputId": "a19d216d-5738-47ee-f4da-0440176392f3"
      },
      "source": [
        "# Proceso de tokenizacion\n",
        "tok = Tokenizer() \n",
        "tok.fit_on_texts(text_sequences) \n",
        "\n",
        "# Convertimos las palabras a números\n",
        "# entran palabras -> salen números\n",
        "sequences = tok.texts_to_sequences(text_sequences)\n",
        "\n",
        "# Damos un vistazo\n",
        "sequences[:20]"
      ],
      "execution_count": 23,
      "outputs": [
        {
          "output_type": "execute_result",
          "data": {
            "text/plain": [
              "[[1, 452, 2, 57],\n",
              " [452, 2, 57, 21],\n",
              " [2, 57, 21, 685],\n",
              " [57, 21, 685, 686],\n",
              " [21, 685, 686, 1200],\n",
              " [685, 686, 1200, 1],\n",
              " [686, 1200, 1, 452],\n",
              " [1200, 1, 452, 2],\n",
              " [1, 452, 2, 57],\n",
              " [452, 2, 57, 2],\n",
              " [2, 57, 2, 132],\n",
              " [57, 2, 132, 43],\n",
              " [2, 132, 43, 1201],\n",
              " [132, 43, 1201, 31],\n",
              " [43, 1201, 31, 687],\n",
              " [1201, 31, 687, 40],\n",
              " [31, 687, 40, 133],\n",
              " [687, 40, 133, 29],\n",
              " [40, 133, 29, 1202],\n",
              " [133, 29, 1202, 4]]"
            ]
          },
          "metadata": {},
          "execution_count": 23
        }
      ]
    },
    {
      "cell_type": "code",
      "metadata": {
        "id": "vwsvmvDKKXSP",
        "colab": {
          "base_uri": "https://localhost:8080/"
        },
        "outputId": "144c1049-68a8-492f-a598-d1152e4820d0"
      },
      "source": [
        "print(\"Cantidad de rows del dataset:\", len(sequences))"
      ],
      "execution_count": 24,
      "outputs": [
        {
          "output_type": "stream",
          "name": "stdout",
          "text": [
            "Cantidad de rows del dataset: 11929\n"
          ]
        }
      ]
    },
    {
      "cell_type": "markdown",
      "metadata": {
        "id": "QMVP4bj0vL2e"
      },
      "source": [
        "### 3 - Input y target"
      ]
    },
    {
      "cell_type": "code",
      "metadata": {
        "id": "mx2xwdz3KloJ",
        "colab": {
          "base_uri": "https://localhost:8080/"
        },
        "outputId": "07032dd5-c211-46a3-d5f0-237480c81043"
      },
      "source": [
        "# Con numpy es muy fácil realizar el slicing de vectores\n",
        "ex = np.array([[1,2,3,4],[5,6,7,8]])\n",
        "ex"
      ],
      "execution_count": 25,
      "outputs": [
        {
          "output_type": "execute_result",
          "data": {
            "text/plain": [
              "array([[1, 2, 3, 4],\n",
              "       [5, 6, 7, 8]])"
            ]
          },
          "metadata": {},
          "execution_count": 25
        }
      ]
    },
    {
      "cell_type": "code",
      "metadata": {
        "id": "BEod7qghvTVt",
        "colab": {
          "base_uri": "https://localhost:8080/"
        },
        "outputId": "2e5ccd23-e72c-4ace-b19e-cc6cb4160be8"
      },
      "source": [
        "# Con numpy es muy fácil realizar el slicing de vectores\n",
        "print(\"Dimension:\", ex.shape)\n",
        "print(\"Todos los elementos:\", ex)\n",
        "print(\"Todos los elementos menos el último:\", ex[:, :-1])"
      ],
      "execution_count": 26,
      "outputs": [
        {
          "output_type": "stream",
          "name": "stdout",
          "text": [
            "Dimension: (2, 4)\n",
            "Todos los elementos: [[1 2 3 4]\n",
            " [5 6 7 8]]\n",
            "Todos los elementos menos el último: [[1 2 3]\n",
            " [5 6 7]]\n"
          ]
        }
      ]
    },
    {
      "cell_type": "code",
      "metadata": {
        "id": "i95xWqtCvp8T",
        "colab": {
          "base_uri": "https://localhost:8080/"
        },
        "outputId": "214eb560-c3ce-4492-d4de-4e189b02baf8"
      },
      "source": [
        "input = ex[:,:-1] # todos los rows, menos la ultima col\n",
        "target = ex[:, -1] # última col de cada row\n",
        "\n",
        "print(\"Input:\", input)\n",
        "print(\"Target:\", target)"
      ],
      "execution_count": 27,
      "outputs": [
        {
          "output_type": "stream",
          "name": "stdout",
          "text": [
            "Input: [[1 2 3]\n",
            " [5 6 7]]\n",
            "Target: [4 8]\n"
          ]
        }
      ]
    },
    {
      "cell_type": "code",
      "metadata": {
        "id": "e1vJTG65v4Qn",
        "colab": {
          "base_uri": "https://localhost:8080/"
        },
        "outputId": "7d32df8d-613c-48ed-a782-cdcbcb49a6fd"
      },
      "source": [
        "arr_sequences = np.array(sequences)\n",
        "x_data = arr_sequences[:,:-1]\n",
        "y_data_int = arr_sequences[:,-1] # aún falta el oneHotEncoder\n",
        "\n",
        "print(x_data.shape)\n",
        "print(y_data_int.shape)"
      ],
      "execution_count": 28,
      "outputs": [
        {
          "output_type": "stream",
          "name": "stdout",
          "text": [
            "(11929, 3)\n",
            "(11929,)\n"
          ]
        }
      ]
    },
    {
      "cell_type": "code",
      "metadata": {
        "id": "ln6kVWVlwBBs",
        "colab": {
          "base_uri": "https://localhost:8080/"
        },
        "outputId": "b0f156c0-72d9-47bb-852a-b17cfc9f5df9"
      },
      "source": [
        "# Palabras del vocabulario\n",
        "tok.index_word"
      ],
      "execution_count": 29,
      "outputs": [
        {
          "output_type": "execute_result",
          "data": {
            "text/plain": [
              "{1: 'the',\n",
              " 2: 'of',\n",
              " 3: 'and',\n",
              " 4: 'a',\n",
              " 5: 'in',\n",
              " 6: 'to',\n",
              " 7: 'was',\n",
              " 8: 'had',\n",
              " 9: 'that',\n",
              " 10: 'i',\n",
              " 11: 'it',\n",
              " 12: 'he',\n",
              " 13: 'his',\n",
              " 14: 'which',\n",
              " 15: 'with',\n",
              " 16: 'from',\n",
              " 17: 'for',\n",
              " 18: 'on',\n",
              " 19: 'at',\n",
              " 20: 'as',\n",
              " 21: 'by',\n",
              " 22: 'but',\n",
              " 23: 'not',\n",
              " 24: 'this',\n",
              " 25: 'my',\n",
              " 26: 'were',\n",
              " 27: 'all',\n",
              " 28: 'an',\n",
              " 29: 'be',\n",
              " 30: 'they',\n",
              " 31: 'or',\n",
              " 32: 'have',\n",
              " 33: 'its',\n",
              " 34: 'some',\n",
              " 35: 'could',\n",
              " 36: 'one',\n",
              " 37: 'no',\n",
              " 38: 'cult',\n",
              " 39: 'their',\n",
              " 40: 'there',\n",
              " 41: 'what',\n",
              " 42: 'men',\n",
              " 43: 'great',\n",
              " 44: 'so',\n",
              " 45: 'them',\n",
              " 46: 'old',\n",
              " 47: 'been',\n",
              " 48: 'only',\n",
              " 49: 'when',\n",
              " 50: 'professor',\n",
              " 51: 'him',\n",
              " 52: 'is',\n",
              " 53: 'would',\n",
              " 54: 'now',\n",
              " 55: 'more',\n",
              " 56: 'dreams',\n",
              " 57: 'cthulhu',\n",
              " 58: 'after',\n",
              " 59: 'then',\n",
              " 60: 'out',\n",
              " 61: 'johansen',\n",
              " 62: 'before',\n",
              " 63: 'me',\n",
              " 64: 'uncle',\n",
              " 65: 'found',\n",
              " 66: 'thing',\n",
              " 67: 'who',\n",
              " 68: 'man',\n",
              " 69: 'than',\n",
              " 70: 'told',\n",
              " 71: 'time',\n",
              " 72: 'very',\n",
              " 73: 'legrasse',\n",
              " 74: 'strange',\n",
              " 75: 'like',\n",
              " 76: 'wilcox',\n",
              " 77: 'dream',\n",
              " 78: 'into',\n",
              " 79: 'came',\n",
              " 80: 'must',\n",
              " 81: 'stone',\n",
              " 82: 'earth',\n",
              " 83: 'up',\n",
              " 84: 'never',\n",
              " 85: 'said',\n",
              " 86: 'come',\n",
              " 87: 'any',\n",
              " 88: 'about',\n",
              " 89: 'even',\n",
              " 90: 'made',\n",
              " 91: 'those',\n",
              " 92: 'young',\n",
              " 93: 'city',\n",
              " 94: 'ones',\n",
              " 95: 'stars',\n",
              " 96: 'dead',\n",
              " 97: 'known',\n",
              " 98: 'over',\n",
              " 99: 'though',\n",
              " 100: 'first',\n",
              " 101: 'upon',\n",
              " 102: 'again',\n",
              " 103: 'dark',\n",
              " 104: 'if',\n",
              " 105: 'angell',\n",
              " 106: 'much',\n",
              " 107: 'did',\n",
              " 108: 'sea',\n",
              " 109: 'part',\n",
              " 110: 'world',\n",
              " 111: 'black',\n",
              " 112: 'far',\n",
              " 113: 'will',\n",
              " 114: 'new',\n",
              " 115: 'too',\n",
              " 116: 'two',\n",
              " 117: 'whilst',\n",
              " 118: 'seemed',\n",
              " 119: 'bas',\n",
              " 120: 'half',\n",
              " 121: 'march',\n",
              " 122: 'through',\n",
              " 123: 'april',\n",
              " 124: 'down',\n",
              " 125: 'alert',\n",
              " 126: 'think',\n",
              " 127: 'notes',\n",
              " 128: 'other',\n",
              " 129: 'relief',\n",
              " 130: 'manuscript',\n",
              " 131: 'something',\n",
              " 132: 'such',\n",
              " 133: 'may',\n",
              " 134: 'long',\n",
              " 135: 'day',\n",
              " 136: 'death',\n",
              " 137: 'began',\n",
              " 138: 'ancient',\n",
              " 139: 'felt',\n",
              " 140: 'indeed',\n",
              " 141: 'these',\n",
              " 142: 'night',\n",
              " 143: 'terrible',\n",
              " 144: \"r'lyeh\",\n",
              " 145: 'once',\n",
              " 146: 'image',\n",
              " 147: 'still',\n",
              " 148: 'her',\n",
              " 149: 'shall',\n",
              " 150: 'hideous',\n",
              " 151: 'knew',\n",
              " 152: 'having',\n",
              " 153: 'way',\n",
              " 154: 'enough',\n",
              " 155: 'green',\n",
              " 156: 'almost',\n",
              " 157: 'whose',\n",
              " 158: 'ever',\n",
              " 159: 'where',\n",
              " 160: 'unknown',\n",
              " 161: 'castro',\n",
              " 162: 'most',\n",
              " 163: 'island',\n",
              " 164: 'queer',\n",
              " 165: 'saw',\n",
              " 166: 'died',\n",
              " 167: 'years',\n",
              " 168: 'sculptor',\n",
              " 169: 'head',\n",
              " 170: 'inspector',\n",
              " 171: 'tale',\n",
              " 172: 'during',\n",
              " 173: 'went',\n",
              " 174: 'heard',\n",
              " 175: 'police',\n",
              " 176: 'back',\n",
              " 177: 'swamp',\n",
              " 178: 'under',\n",
              " 179: 'crew',\n",
              " 180: 'alone',\n",
              " 181: 'horror',\n",
              " 182: 'little',\n",
              " 183: 'mad',\n",
              " 184: 'formed',\n",
              " 185: 'street',\n",
              " 186: 'end',\n",
              " 187: 'material',\n",
              " 188: 'cuttings',\n",
              " 189: 'cyclopean',\n",
              " 190: 'second',\n",
              " 191: 'secret',\n",
              " 192: 'can',\n",
              " 193: 'without',\n",
              " 194: 'see',\n",
              " 195: 'has',\n",
              " 196: 'idol',\n",
              " 197: 'nothing',\n",
              " 198: 'might',\n",
              " 199: 'around',\n",
              " 200: 'prisoners',\n",
              " 201: 'right',\n",
              " 202: 'thought',\n",
              " 203: 'yacht',\n",
              " 204: 'storm',\n",
              " 205: 'door',\n",
              " 206: 'since',\n",
              " 207: 'mind',\n",
              " 208: 'go',\n",
              " 209: 'cosmic',\n",
              " 210: 'form',\n",
              " 211: 'interest',\n",
              " 212: 'papers',\n",
              " 213: 'set',\n",
              " 214: 'do',\n",
              " 215: 'writing',\n",
              " 216: 'hieroglyphics',\n",
              " 217: 'body',\n",
              " 218: 'wings',\n",
              " 219: 'whole',\n",
              " 220: 'rest',\n",
              " 221: 'hidden',\n",
              " 222: 'excited',\n",
              " 223: 'bore',\n",
              " 224: 'himself',\n",
              " 225: 'showed',\n",
              " 226: 'place',\n",
              " 227: 'learned',\n",
              " 228: 'things',\n",
              " 229: 'every',\n",
              " 230: 'well',\n",
              " 231: 'here',\n",
              " 232: 'really',\n",
              " 233: 'know',\n",
              " 234: 'being',\n",
              " 235: 'toward',\n",
              " 236: 'full',\n",
              " 237: 'seen',\n",
              " 238: 'meeting',\n",
              " 239: 'members',\n",
              " 240: 'sight',\n",
              " 241: 'because',\n",
              " 242: 'vast',\n",
              " 243: 'monstrous',\n",
              " 244: 'webb',\n",
              " 245: 'ritual',\n",
              " 246: 'beyond',\n",
              " 247: 'monolith',\n",
              " 248: 'lay',\n",
              " 249: 'beneath',\n",
              " 250: 'talked',\n",
              " 251: 'sydney',\n",
              " 252: 'dunedin',\n",
              " 253: 'emma',\n",
              " 254: 'period',\n",
              " 255: 'memory',\n",
              " 256: 'called',\n",
              " 257: 'human',\n",
              " 258: 'together',\n",
              " 259: 'knowledge',\n",
              " 260: 'our',\n",
              " 261: 'age',\n",
              " 262: 'many',\n",
              " 263: 'suddenly',\n",
              " 264: 'home',\n",
              " 265: 'wonder',\n",
              " 266: \"uncle's\",\n",
              " 267: 'later',\n",
              " 268: 'society',\n",
              " 269: 'till',\n",
              " 270: 'ring',\n",
              " 271: 'six',\n",
              " 272: 'origin',\n",
              " 273: 'although',\n",
              " 274: 'are',\n",
              " 275: 'figure',\n",
              " 276: 'orleans',\n",
              " 277: 'building',\n",
              " 278: 'odd',\n",
              " 279: 'spoke',\n",
              " 280: \"wilcox's\",\n",
              " 281: 'older',\n",
              " 282: 'sky',\n",
              " 283: 'fhtagn',\n",
              " 284: 'questions',\n",
              " 285: 'always',\n",
              " 286: 'several',\n",
              " 287: 'delirium',\n",
              " 288: 'apparently',\n",
              " 289: 'nameless',\n",
              " 290: 'three',\n",
              " 291: 'certain',\n",
              " 292: 'scattered',\n",
              " 293: 'least',\n",
              " 294: 'original',\n",
              " 295: 'between',\n",
              " 296: 'data',\n",
              " 297: 'subject',\n",
              " 298: 'date',\n",
              " 299: 'south',\n",
              " 300: 'white',\n",
              " 301: 'matters',\n",
              " 302: 'voodoo',\n",
              " 303: 'yet',\n",
              " 304: 'mystery',\n",
              " 305: 'esquimaux',\n",
              " 306: 'elder',\n",
              " 307: 'among',\n",
              " 308: 'squatters',\n",
              " 309: 'woods',\n",
              " 310: 'left',\n",
              " 311: 'away',\n",
              " 312: 'water',\n",
              " 313: 'carven',\n",
              " 314: 'course',\n",
              " 315: 'read',\n",
              " 316: 'sailed',\n",
              " 317: 'brought',\n",
              " 318: 'matter',\n",
              " 319: 'vigilant',\n",
              " 320: 'steam',\n",
              " 321: 'mate',\n",
              " 322: 'rock',\n",
              " 323: 'admiralty',\n",
              " 324: 'horrors',\n",
              " 325: 'visit',\n",
              " 326: 'clay',\n",
              " 327: 'we',\n",
              " 328: 'should',\n",
              " 329: 'voyage',\n",
              " 330: 'each',\n",
              " 331: 'own',\n",
              " 332: 'direction',\n",
              " 333: 'frightful',\n",
              " 334: 'dread',\n",
              " 335: 'case',\n",
              " 336: 'university',\n",
              " 337: 'providence',\n",
              " 338: 'boat',\n",
              " 339: 'looking',\n",
              " 340: 'cut',\n",
              " 341: 'waterfront',\n",
              " 342: 'find',\n",
              " 343: 'visible',\n",
              " 344: 'resolved',\n",
              " 345: 'less',\n",
              " 346: 'however',\n",
              " 347: 'wild',\n",
              " 348: 'despite',\n",
              " 349: 'failed',\n",
              " 350: 'monster',\n",
              " 351: 'imagination',\n",
              " 352: 'behind',\n",
              " 353: 's',\n",
              " 354: 'same',\n",
              " 355: 'w',\n",
              " 356: 'source',\n",
              " 357: 'mental',\n",
              " 358: 'group',\n",
              " 359: '1925',\n",
              " 360: '1st',\n",
              " 361: 'name',\n",
              " 362: 'slightly',\n",
              " 363: 'sculpture',\n",
              " 364: 'small',\n",
              " 365: 'ran',\n",
              " 366: 'asked',\n",
              " 367: 'anything',\n",
              " 368: 'recall',\n",
              " 369: 'last',\n",
              " 370: 'cities',\n",
              " 371: 'earthquake',\n",
              " 372: 'point',\n",
              " 373: 'sound',\n",
              " 374: 'letters',\n",
              " 375: 'frantic',\n",
              " 376: 'both',\n",
              " 377: 'repeated',\n",
              " 378: 'became',\n",
              " 379: 'convinced',\n",
              " 380: 'sounds',\n",
              " 381: 'continued',\n",
              " 382: 'fever',\n",
              " 383: 'taken',\n",
              " 384: 'kept',\n",
              " 385: 'high',\n",
              " 386: 'words',\n",
              " 387: 'visions',\n",
              " 388: 'gave',\n",
              " 389: 'nearly',\n",
              " 390: 'preserved',\n",
              " 391: 'cases',\n",
              " 392: 'mentioned',\n",
              " 393: 'february',\n",
              " 394: 'note',\n",
              " 395: 'number',\n",
              " 396: 'few',\n",
              " 397: 'given',\n",
              " 398: 'west',\n",
              " 399: 'experience',\n",
              " 400: 'held',\n",
              " 401: 'aged',\n",
              " 402: 'statuette',\n",
              " 403: 'wish',\n",
              " 404: 'captured',\n",
              " 405: 'rites',\n",
              " 406: 'apart',\n",
              " 407: 'eight',\n",
              " 408: 'height',\n",
              " 409: 'edge',\n",
              " 410: 'center',\n",
              " 411: 'life',\n",
              " 412: 'along',\n",
              " 413: 'greenland',\n",
              " 414: 'devil',\n",
              " 415: 'worship',\n",
              " 416: 'aeons',\n",
              " 417: 'significance',\n",
              " 418: 'picture',\n",
              " 419: 'noted',\n",
              " 420: 'worshipers',\n",
              " 421: 'idols',\n",
              " 422: 'mongrel',\n",
              " 423: 'house',\n",
              " 424: 'tom',\n",
              " 425: 'begun',\n",
              " 426: 'stones',\n",
              " 427: 'none',\n",
              " 428: 'evil',\n",
              " 429: 'die',\n",
              " 430: 'themselves',\n",
              " 431: 'rise',\n",
              " 432: 'natural',\n",
              " 433: 'flame',\n",
              " 434: 'bodies',\n",
              " 435: 'trip',\n",
              " 436: 'waters',\n",
              " 437: 'universe',\n",
              " 438: 'sensitive',\n",
              " 439: 'mention',\n",
              " 440: 'instant',\n",
              " 441: 'museum',\n",
              " 442: 'survivor',\n",
              " 443: 'auckland',\n",
              " 444: 'landed',\n",
              " 445: 'briden',\n",
              " 446: 'vice',\n",
              " 447: 'oslo',\n",
              " 448: \"johansen's\",\n",
              " 449: 'god',\n",
              " 450: 'sun',\n",
              " 451: 'ship',\n",
              " 452: 'call',\n",
              " 453: 'perhaps',\n",
              " 454: 'shapes',\n",
              " 455: 'live',\n",
              " 456: 'meant',\n",
              " 457: 'piecing',\n",
              " 458: 'vistas',\n",
              " 459: 'reality',\n",
              " 460: 'guessed',\n",
              " 461: 'hinted',\n",
              " 462: 'blood',\n",
              " 463: 'glimpse',\n",
              " 464: 'else',\n",
              " 465: 'keep',\n",
              " 466: 'widely',\n",
              " 467: 'cause',\n",
              " 468: 'falling',\n",
              " 469: 'negro',\n",
              " 470: 'short',\n",
              " 471: 'heart',\n",
              " 472: 'hill',\n",
              " 473: 'reason',\n",
              " 474: 'moved',\n",
              " 475: 'quarters',\n",
              " 476: 'exceedingly',\n",
              " 477: 'eyes',\n",
              " 478: 'personal',\n",
              " 479: 'carried',\n",
              " 480: 'apparent',\n",
              " 481: \"man's\",\n",
              " 482: 'rough',\n",
              " 483: 'five',\n",
              " 484: 'often',\n",
              " 485: 'cryptic',\n",
              " 486: 'bulk',\n",
              " 487: 'hint',\n",
              " 488: 'remotest',\n",
              " 489: 'affiliations',\n",
              " 490: 'above',\n",
              " 491: 'clear',\n",
              " 492: 'sort',\n",
              " 493: 'fancy',\n",
              " 494: 'somewhat',\n",
              " 495: 'dragon',\n",
              " 496: 'grotesque',\n",
              " 497: 'scaly',\n",
              " 498: 'general',\n",
              " 499: 'vague',\n",
              " 500: 'aside',\n",
              " 501: 'document',\n",
              " 502: 'characters',\n",
              " 503: 'word',\n",
              " 504: 'work',\n",
              " 505: 'st',\n",
              " 506: 'brief',\n",
              " 507: 'largely',\n",
              " 508: 'spring',\n",
              " 509: 'appears',\n",
              " 510: 'aspect',\n",
              " 511: 'singular',\n",
              " 512: 'family',\n",
              " 513: 'design',\n",
              " 514: 'living',\n",
              " 515: 'youth',\n",
              " 516: 'genius',\n",
              " 517: 'art',\n",
              " 518: 'record',\n",
              " 519: 'rambling',\n",
              " 520: 'affected',\n",
              " 521: 'titan',\n",
              " 522: 'blocks',\n",
              " 523: 'monoliths',\n",
              " 524: 'dripping',\n",
              " 525: 'ooze',\n",
              " 526: 'voice',\n",
              " 527: 'questioned',\n",
              " 528: 'silence',\n",
              " 529: 'ignorant',\n",
              " 530: 'nocturnal',\n",
              " 531: '23',\n",
              " 532: 'inquiries',\n",
              " 533: 'revealed',\n",
              " 534: 'artists',\n",
              " 535: 'close',\n",
              " 536: 'whom',\n",
              " 537: 'dreamed',\n",
              " 538: 'touched',\n",
              " 539: 'fully',\n",
              " 540: 'described',\n",
              " 541: 'object',\n",
              " 542: 'occasional',\n",
              " 543: 'monstrosity',\n",
              " 544: 'oddly',\n",
              " 545: 'returned',\n",
              " 546: 'dreaming',\n",
              " 547: 'thoughts',\n",
              " 548: 'various',\n",
              " 549: 'seems',\n",
              " 550: 'received',\n",
              " 551: 'responses',\n",
              " 552: 'correspondence',\n",
              " 553: 'significant',\n",
              " 554: 'impressions',\n",
              " 555: 'description',\n",
              " 556: 'loose',\n",
              " 557: 'suspected',\n",
              " 558: 'corroboration',\n",
              " 559: 'somehow',\n",
              " 560: \"sculptor's\",\n",
              " 561: 'fear',\n",
              " 562: 'architect',\n",
              " 563: 'insane',\n",
              " 564: 'investigation',\n",
              " 565: 'reach',\n",
              " 566: 'london',\n",
              " 567: 'leaped',\n",
              " 568: 'speak',\n",
              " 569: 'weird',\n",
              " 570: 'hellish',\n",
              " 571: 'horrible',\n",
              " 572: 'took',\n",
              " 573: 'stumbled',\n",
              " 574: 'totally',\n",
              " 575: 'hence',\n",
              " 576: 'air',\n",
              " 577: 'dim',\n",
              " 578: 'greenish',\n",
              " 579: 'slowly',\n",
              " 580: 'face',\n",
              " 581: 'mass',\n",
              " 582: 'feelers',\n",
              " 583: 'claws',\n",
              " 584: 'feet',\n",
              " 585: 'narrow',\n",
              " 586: 'pedestal',\n",
              " 587: 'front',\n",
              " 588: 'type',\n",
              " 589: 'mankind',\n",
              " 590: 'shape',\n",
              " 591: 'just',\n",
              " 592: 'tell',\n",
              " 593: 'proved',\n",
              " 594: 'phrase',\n",
              " 595: 'common',\n",
              " 596: 'priests',\n",
              " 597: 'chanted',\n",
              " 598: 'waits',\n",
              " 599: 'story',\n",
              " 600: 'castes',\n",
              " 601: 'good',\n",
              " 602: 'within',\n",
              " 603: 'soul',\n",
              " 604: 'frightened',\n",
              " 605: 'dank',\n",
              " 606: 'length',\n",
              " 607: 'ahead',\n",
              " 608: 'intervals',\n",
              " 609: 'endless',\n",
              " 610: 'whispered',\n",
              " 611: 'winged',\n",
              " 612: 'nightmare',\n",
              " 613: 'madness',\n",
              " 614: \"legrasse's\",\n",
              " 615: 'reached',\n",
              " 616: 'spot',\n",
              " 617: 'trees',\n",
              " 618: 'stood',\n",
              " 619: 'spawn',\n",
              " 620: 'top',\n",
              " 621: 'deeper',\n",
              " 622: 'suppose',\n",
              " 623: 'actually',\n",
              " 624: 'line',\n",
              " 625: 'carefully',\n",
              " 626: 'lived',\n",
              " 627: 'places',\n",
              " 628: 'mighty',\n",
              " 629: 'ready',\n",
              " 630: 'faithful',\n",
              " 631: 'whether',\n",
              " 632: 'others',\n",
              " 633: 'done',\n",
              " 634: 'gained',\n",
              " 635: 'remains',\n",
              " 636: 'images',\n",
              " 637: 'force',\n",
              " 638: 'outside',\n",
              " 639: 'making',\n",
              " 640: 'kill',\n",
              " 641: 'shadow',\n",
              " 642: 'forth',\n",
              " 643: 'deep',\n",
              " 644: 'authorities',\n",
              " 645: 'give',\n",
              " 646: 'amidst',\n",
              " 647: 'turned',\n",
              " 648: 'curiosity',\n",
              " 649: 'let',\n",
              " 650: 'soon',\n",
              " 651: 'slimy',\n",
              " 652: 'geometry',\n",
              " 653: 'sure',\n",
              " 654: 'seaman',\n",
              " 655: 'heaven',\n",
              " 656: 'eye',\n",
              " 657: 'desperate',\n",
              " 658: 'inquiry',\n",
              " 659: '12th',\n",
              " 660: 'latitude',\n",
              " 661: 'longitude',\n",
              " 662: '2nd',\n",
              " 663: 'says',\n",
              " 664: 'cabin',\n",
              " 665: 'norwegian',\n",
              " 666: 'schooner',\n",
              " 667: \"emma's\",\n",
              " 668: 'order',\n",
              " 669: 'put',\n",
              " 670: 'wife',\n",
              " 671: 'court',\n",
              " 672: 'awful',\n",
              " 673: 'cannot',\n",
              " 674: 'against',\n",
              " 675: 'masonry',\n",
              " 676: 'angles',\n",
              " 677: 'distorted',\n",
              " 678: 'fright',\n",
              " 679: 'looked',\n",
              " 680: 'donovan',\n",
              " 681: 'everyone',\n",
              " 682: 'poor',\n",
              " 683: 'laughing',\n",
              " 684: 'books',\n",
              " 685: 'h',\n",
              " 686: 'p',\n",
              " 687: 'beings',\n",
              " 688: 'survival',\n",
              " 689: 'remote',\n",
              " 690: 'consciousness',\n",
              " 691: 'manifested',\n",
              " 692: 'forms',\n",
              " 693: 'poetry',\n",
              " 694: 'legend',\n",
              " 695: 'caught',\n",
              " 696: 'gods',\n",
              " 697: '—',\n",
              " 698: 'contents',\n",
              " 699: 'infinity',\n",
              " 700: 'hitherto',\n",
              " 701: 'position',\n",
              " 702: 'either',\n",
              " 703: 'light',\n",
              " 704: 'peace',\n",
              " 705: 'theosophists',\n",
              " 706: 'awesome',\n",
              " 707: 'cycle',\n",
              " 708: 'wherein',\n",
              " 709: 'transient',\n",
              " 710: 'incidents',\n",
              " 711: 'single',\n",
              " 712: 'glimpses',\n",
              " 713: 'truth',\n",
              " 714: 'item',\n",
              " 715: 'hope',\n",
              " 716: 'certainly',\n",
              " 717: 'link',\n",
              " 718: 'regarding',\n",
              " 719: '1926',\n",
              " 720: 'rhode',\n",
              " 721: 'authority',\n",
              " 722: 'inscriptions',\n",
              " 723: 'frequently',\n",
              " 724: 'heads',\n",
              " 725: 'prominent',\n",
              " 726: 'intensified',\n",
              " 727: 'stricken',\n",
              " 728: 'physicians',\n",
              " 729: 'disorder',\n",
              " 730: 'obscure',\n",
              " 731: 'induced',\n",
              " 732: 'responsible',\n",
              " 733: 'latterly',\n",
              " 734: 'am',\n",
              " 735: 'expected',\n",
              " 736: 'thoroughness',\n",
              " 737: 'entire',\n",
              " 738: 'american',\n",
              " 739: 'archaeological',\n",
              " 740: 'box',\n",
              " 741: 'locked',\n",
              " 742: 'key',\n",
              " 743: 'succeeded',\n",
              " 744: 'greater',\n",
              " 745: 'latter',\n",
              " 746: 'become',\n",
              " 747: 'search',\n",
              " 748: 'inch',\n",
              " 749: 'inches',\n",
              " 750: 'area',\n",
              " 751: 'modern',\n",
              " 752: 'designs',\n",
              " 753: 'suggestion',\n",
              " 754: 'futurism',\n",
              " 755: 'kind',\n",
              " 756: 'particular',\n",
              " 757: 'pictorial',\n",
              " 758: 'idea',\n",
              " 759: 'nature',\n",
              " 760: 'symbol',\n",
              " 761: 'say',\n",
              " 762: 'octopus',\n",
              " 763: 'outline',\n",
              " 764: 'press',\n",
              " 765: \"angell's\",\n",
              " 766: 'recent',\n",
              " 767: 'hand',\n",
              " 768: 'headed',\n",
              " 769: 'reading',\n",
              " 770: 'thomas',\n",
              " 771: 'r',\n",
              " 772: 'narrative',\n",
              " 773: 'john',\n",
              " 774: 'la',\n",
              " 775: '1908',\n",
              " 776: 'accounts',\n",
              " 777: 'persons',\n",
              " 778: 'theosophical',\n",
              " 779: 'lost',\n",
              " 780: 'societies',\n",
              " 781: 'cults',\n",
              " 782: 'references',\n",
              " 783: 'anthropological',\n",
              " 784: 'golden',\n",
              " 785: 'witch',\n",
              " 786: 'mania',\n",
              " 787: 'damp',\n",
              " 788: 'recognized',\n",
              " 789: 'excellent',\n",
              " 790: 'studying',\n",
              " 791: 'school',\n",
              " 792: 'lys',\n",
              " 793: 'near',\n",
              " 794: 'eccentricity',\n",
              " 795: 'commercial',\n",
              " 796: 'merely',\n",
              " 797: 'esthetes',\n",
              " 798: 'quite',\n",
              " 799: \"professor's\",\n",
              " 800: 'manner',\n",
              " 801: 'suggested',\n",
              " 802: 'tablet',\n",
              " 803: 'kinship',\n",
              " 804: 'impressed',\n",
              " 805: 'make',\n",
              " 806: 'verbatim',\n",
              " 807: 'poetic',\n",
              " 808: 'highly',\n",
              " 809: 'brooding',\n",
              " 810: 'babylon',\n",
              " 811: 'slight',\n",
              " 812: 'flung',\n",
              " 813: 'sinister',\n",
              " 814: 'covered',\n",
              " 815: 'walls',\n",
              " 816: 'pillars',\n",
              " 817: 'sensation',\n",
              " 818: 'attempted',\n",
              " 819: 'jumble',\n",
              " 820: 'scientific',\n",
              " 821: 'studied',\n",
              " 822: 'intensity',\n",
              " 823: 'chilled',\n",
              " 824: 'stolen',\n",
              " 825: 'visitor',\n",
              " 826: 'especially',\n",
              " 827: 'tried',\n",
              " 828: 'promises',\n",
              " 829: 'lore',\n",
              " 830: 'demands',\n",
              " 831: 'future',\n",
              " 832: 'reports',\n",
              " 833: 'regular',\n",
              " 834: 'daily',\n",
              " 835: 'related',\n",
              " 836: 'intelligence',\n",
              " 837: 'shouting',\n",
              " 838: 'sense',\n",
              " 839: 'save',\n",
              " 840: 'rendered',\n",
              " 841: 'appear',\n",
              " 842: 'forward',\n",
              " 843: 'calling',\n",
              " 844: 'dr',\n",
              " 845: 'tobey',\n",
              " 846: 'charge',\n",
              " 847: 'doctor',\n",
              " 848: 'gigantic',\n",
              " 849: 'miles',\n",
              " 850: 'walked',\n",
              " 851: 'lumbered',\n",
              " 852: 'identical',\n",
              " 853: 'sought',\n",
              " 854: 'added',\n",
              " 855: 'condition',\n",
              " 856: 'otherwise',\n",
              " 857: 'suggest',\n",
              " 858: 'true',\n",
              " 859: 'rather',\n",
              " 860: '2',\n",
              " 861: 'ceased',\n",
              " 862: 'completely',\n",
              " 863: 'happened',\n",
              " 864: '22',\n",
              " 865: 'week',\n",
              " 866: 'thoroughly',\n",
              " 867: 'forming',\n",
              " 868: 'account',\n",
              " 869: 'question',\n",
              " 870: 'amongst',\n",
              " 871: 'friends',\n",
              " 872: 'dates',\n",
              " 873: 'people',\n",
              " 874: 'traditional',\n",
              " 875: 'result',\n",
              " 876: 'formless',\n",
              " 877: 'four',\n",
              " 878: 'abnormal',\n",
              " 879: 'poets',\n",
              " 880: 'panic',\n",
              " 881: 'broken',\n",
              " 882: 'able',\n",
              " 883: 'leading',\n",
              " 884: 'why',\n",
              " 885: 'feel',\n",
              " 886: 'imposing',\n",
              " 887: 'scientist',\n",
              " 888: 'bizarre',\n",
              " 889: 'reported',\n",
              " 890: 'confessed',\n",
              " 891: 'acute',\n",
              " 892: 'describes',\n",
              " 893: 'sad',\n",
              " 894: 'months',\n",
              " 895: 'incessant',\n",
              " 896: 'escaped',\n",
              " 897: 'hell',\n",
              " 898: 'instead',\n",
              " 899: 'wondered',\n",
              " 900: 'questioning',\n",
              " 901: 'puzzled',\n",
              " 902: 'cutting',\n",
              " 903: 'bureau',\n",
              " 904: 'window',\n",
              " 905: 'shocking',\n",
              " 906: 'cry',\n",
              " 907: 'likewise',\n",
              " 908: 'paper',\n",
              " 909: 'america',\n",
              " 910: 'theosophist',\n",
              " 911: 'glorious',\n",
              " 912: 'arrives',\n",
              " 913: 'native',\n",
              " 914: 'legendry',\n",
              " 915: 'named',\n",
              " 916: 'recorded',\n",
              " 917: 'stopped',\n",
              " 918: 'conclusions',\n",
              " 919: 'scarcely',\n",
              " 920: 'rationalism',\n",
              " 921: 'outlines',\n",
              " 922: 'syllables',\n",
              " 923: 'stirring',\n",
              " 924: 'connection',\n",
              " 925: 'outsiders',\n",
              " 926: 'expert',\n",
              " 927: 'special',\n",
              " 928: 'local',\n",
              " 929: 'prompted',\n",
              " 930: 'fetish',\n",
              " 931: 'whatever',\n",
              " 932: 'unbelievable',\n",
              " 933: 'absolutely',\n",
              " 934: 'discovered',\n",
              " 935: 'track',\n",
              " 936: 'assembled',\n",
              " 937: 'excitement',\n",
              " 938: 'utter',\n",
              " 939: 'strangeness',\n",
              " 940: 'antiquity',\n",
              " 941: 'centuries',\n",
              " 942: 'careful',\n",
              " 943: 'study',\n",
              " 944: 'workmanship',\n",
              " 945: 'hind',\n",
              " 946: 'fore',\n",
              " 947: 'block',\n",
              " 948: 'crouching',\n",
              " 949: 'bottom',\n",
              " 950: 'huge',\n",
              " 951: 'incalculable',\n",
              " 952: 'show',\n",
              " 953: 'familiar',\n",
              " 954: 'equally',\n",
              " 955: 'present',\n",
              " 956: 'horribly',\n",
              " 957: 'unhallowed',\n",
              " 958: 'cycles',\n",
              " 959: 'gathering',\n",
              " 960: 'late',\n",
              " 961: 'william',\n",
              " 962: 'encountered',\n",
              " 963: 'religion',\n",
              " 964: 'curious',\n",
              " 965: 'faith',\n",
              " 966: 'rituals',\n",
              " 967: 'supreme',\n",
              " 968: 'priest',\n",
              " 969: 'best',\n",
              " 970: 'how',\n",
              " 971: 'suspense',\n",
              " 972: 'followed',\n",
              " 973: 'awed',\n",
              " 974: 'detective',\n",
              " 975: 'identity',\n",
              " 976: 'distance',\n",
              " 977: 'substance',\n",
              " 978: 'louisiana',\n",
              " 979: 'aloud',\n",
              " 980: \"ph'nglui\",\n",
              " 981: \"mglw'nafh\",\n",
              " 982: \"wgah'nagl\",\n",
              " 983: 'advance',\n",
              " 984: 'celebrants',\n",
              " 985: 'profound',\n",
              " 986: 'summons',\n",
              " 987: 'country',\n",
              " 988: 'terror',\n",
              " 989: 'disappeared',\n",
              " 990: 'beating',\n",
              " 991: 'haunted',\n",
              " 992: 'squatter',\n",
              " 993: 'morbid',\n",
              " 994: 'hysterical',\n",
              " 995: 'muffled',\n",
              " 996: 'toms',\n",
              " 997: 'glare',\n",
              " 998: 'refused',\n",
              " 999: 'another',\n",
              " 1000: 'scene',\n",
              " ...}"
            ]
          },
          "metadata": {},
          "execution_count": 29
        }
      ]
    },
    {
      "cell_type": "code",
      "metadata": {
        "id": "gJgVhq1zwEpf"
      },
      "source": [
        "# Cantidad de palabras en el vocabulario\n",
        "vocab_size = len(tok.word_counts)"
      ],
      "execution_count": 30,
      "outputs": []
    },
    {
      "cell_type": "code",
      "metadata": {
        "id": "wKV85M2uwKJ9"
      },
      "source": [
        "# Transformar los datos a oneHotEncoding\n",
        "#y_data = to_categorical(y_data_int, num_classes=vocab_size)"
      ],
      "execution_count": 31,
      "outputs": []
    },
    {
      "cell_type": "code",
      "metadata": {
        "id": "qWjNrNx9wM1b",
        "colab": {
          "base_uri": "https://localhost:8080/"
        },
        "outputId": "5fc39f46-cc74-4932-fccd-d854fb2edba0"
      },
      "source": [
        "# En el caso anterior explota porque y_data_int comienza en \"1\" en vez de \"0\"\n",
        "# valor minimo:\n",
        "min(y_data_int)"
      ],
      "execution_count": 32,
      "outputs": [
        {
          "output_type": "execute_result",
          "data": {
            "text/plain": [
              "1"
            ]
          },
          "metadata": {},
          "execution_count": 32
        }
      ]
    },
    {
      "cell_type": "code",
      "metadata": {
        "id": "gIg2e2WCwXbG",
        "colab": {
          "base_uri": "https://localhost:8080/"
        },
        "outputId": "02da4b12-b52b-455e-8a8d-26d60d9f5ffb"
      },
      "source": [
        "y_data_int_offset = y_data_int - 1\n",
        "y_data = to_categorical(y_data_int_offset, num_classes=vocab_size) \n",
        "y_data.shape"
      ],
      "execution_count": 33,
      "outputs": [
        {
          "output_type": "execute_result",
          "data": {
            "text/plain": [
              "(11929, 3178)"
            ]
          },
          "metadata": {},
          "execution_count": 33
        }
      ]
    },
    {
      "cell_type": "markdown",
      "metadata": {
        "id": "GmJWNyxQwfCE"
      },
      "source": [
        "### 4 - Entrenar el modelo"
      ]
    },
    {
      "cell_type": "code",
      "metadata": {
        "id": "0cOmNZT_weK2",
        "colab": {
          "base_uri": "https://localhost:8080/"
        },
        "outputId": "5ed0b6f1-a93f-4073-9bb9-5adbdb6984d9"
      },
      "source": [
        "# largo de la secuencia de entrada\n",
        "input_seq_len = x_data.shape[1] \n",
        "input_seq_len"
      ],
      "execution_count": 34,
      "outputs": [
        {
          "output_type": "execute_result",
          "data": {
            "text/plain": [
              "3"
            ]
          },
          "metadata": {},
          "execution_count": 34
        }
      ]
    },
    {
      "cell_type": "code",
      "metadata": {
        "id": "qtwITjgnwlgp",
        "colab": {
          "base_uri": "https://localhost:8080/"
        },
        "outputId": "d9c3d2e7-0b7d-47b8-ab95-2e401d7af3ec"
      },
      "source": [
        "# Largo del vector de salida --> vocab_size\n",
        "output_size = vocab_size\n",
        "output_size"
      ],
      "execution_count": 35,
      "outputs": [
        {
          "output_type": "execute_result",
          "data": {
            "text/plain": [
              "3178"
            ]
          },
          "metadata": {},
          "execution_count": 35
        }
      ]
    },
    {
      "cell_type": "code",
      "metadata": {
        "id": "jzTZRXrrwrvi",
        "colab": {
          "base_uri": "https://localhost:8080/"
        },
        "outputId": "63a5b64d-e224-4128-afc0-94b387a431c5"
      },
      "source": [
        "model = Sequential()\n",
        "\n",
        "# Embedding:\n",
        "# input_seq_len = 3 --> ingreso 3 palabras\n",
        "# input_dim = vocab_size --> 1628 palabras distintas\n",
        "# output_dim = 5 --> crear embeddings de tamaño 3 (tamaño variable y ajustable)\n",
        "model.add(Embedding(input_dim=vocab_size+1, output_dim=5, input_length=input_seq_len))\n",
        "\n",
        "#model.add(LSTM(64, return_sequences=True))\n",
        "#model.add(Dropout(0.2))\n",
        "model.add(LSTM(64)) # La última capa LSTM no lleva return_sequences\n",
        "model.add(Dense(32, activation='relu'))\n",
        "\n",
        "# Predicción de clasificación con softmax\n",
        "# La salida vuelve al espacio de 1628 palabras posibles\n",
        "model.add(Dense(vocab_size, activation='softmax'))\n",
        "\n",
        "# Clasificación multiple categórica --> loss = categorical_crossentropy\n",
        "model.compile(loss='categorical_crossentropy', optimizer='adam', metrics=['accuracy'])\n",
        "\n",
        "model.summary()"
      ],
      "execution_count": 65,
      "outputs": [
        {
          "output_type": "stream",
          "name": "stdout",
          "text": [
            "Model: \"sequential_5\"\n",
            "_________________________________________________________________\n",
            " Layer (type)                Output Shape              Param #   \n",
            "=================================================================\n",
            " embedding_5 (Embedding)     (None, 3, 5)              15895     \n",
            "                                                                 \n",
            " lstm_6 (LSTM)               (None, 64)                17920     \n",
            "                                                                 \n",
            " dense_10 (Dense)            (None, 32)                2080      \n",
            "                                                                 \n",
            " dense_11 (Dense)            (None, 3178)              104874    \n",
            "                                                                 \n",
            "=================================================================\n",
            "Total params: 140,769\n",
            "Trainable params: 140,769\n",
            "Non-trainable params: 0\n",
            "_________________________________________________________________\n"
          ]
        }
      ]
    },
    {
      "cell_type": "code",
      "source": [
        "hist = model.fit(x_data, y_data, epochs=50, validation_split=0.2)"
      ],
      "metadata": {
        "colab": {
          "base_uri": "https://localhost:8080/"
        },
        "id": "4Lq_ipwTBxxY",
        "outputId": "a0d29c02-235b-45d9-e003-e1a1513c3ca0"
      },
      "execution_count": 90,
      "outputs": [
        {
          "output_type": "stream",
          "name": "stdout",
          "text": [
            "Epoch 1/50\n",
            "299/299 [==============================] - 3s 9ms/step - loss: 0.2464 - accuracy: 0.9291 - val_loss: 0.2604 - val_accuracy: 0.9258\n",
            "Epoch 2/50\n",
            "299/299 [==============================] - 2s 7ms/step - loss: 0.2387 - accuracy: 0.9331 - val_loss: 0.2896 - val_accuracy: 0.9166\n",
            "Epoch 3/50\n",
            "299/299 [==============================] - 2s 7ms/step - loss: 0.2106 - accuracy: 0.9406 - val_loss: 0.3264 - val_accuracy: 0.9086\n",
            "Epoch 4/50\n",
            "299/299 [==============================] - 2s 6ms/step - loss: 0.2162 - accuracy: 0.9382 - val_loss: 0.3736 - val_accuracy: 0.8961\n",
            "Epoch 5/50\n",
            "299/299 [==============================] - 2s 6ms/step - loss: 0.2113 - accuracy: 0.9379 - val_loss: 0.3753 - val_accuracy: 0.8940\n",
            "Epoch 6/50\n",
            "299/299 [==============================] - 2s 7ms/step - loss: 0.2027 - accuracy: 0.9427 - val_loss: 0.4511 - val_accuracy: 0.8768\n",
            "Epoch 7/50\n",
            "299/299 [==============================] - 2s 7ms/step - loss: 0.2116 - accuracy: 0.9405 - val_loss: 0.4401 - val_accuracy: 0.8709\n",
            "Epoch 8/50\n",
            "299/299 [==============================] - 2s 7ms/step - loss: 0.2305 - accuracy: 0.9334 - val_loss: 0.5143 - val_accuracy: 0.8474\n",
            "Epoch 9/50\n",
            "299/299 [==============================] - 2s 6ms/step - loss: 0.2616 - accuracy: 0.9233 - val_loss: 0.6465 - val_accuracy: 0.8273\n",
            "Epoch 10/50\n",
            "299/299 [==============================] - 2s 6ms/step - loss: 0.2623 - accuracy: 0.9246 - val_loss: 0.6756 - val_accuracy: 0.8202\n",
            "Epoch 11/50\n",
            "299/299 [==============================] - 2s 7ms/step - loss: 0.2412 - accuracy: 0.9287 - val_loss: 0.7091 - val_accuracy: 0.8097\n",
            "Epoch 12/50\n",
            "299/299 [==============================] - 2s 7ms/step - loss: 0.2176 - accuracy: 0.9384 - val_loss: 0.7557 - val_accuracy: 0.7930\n",
            "Epoch 13/50\n",
            "299/299 [==============================] - 2s 7ms/step - loss: 0.2034 - accuracy: 0.9414 - val_loss: 0.7500 - val_accuracy: 0.7984\n",
            "Epoch 14/50\n",
            "299/299 [==============================] - 2s 7ms/step - loss: 0.2060 - accuracy: 0.9419 - val_loss: 0.8033 - val_accuracy: 0.7883\n",
            "Epoch 15/50\n",
            "299/299 [==============================] - 2s 7ms/step - loss: 0.1935 - accuracy: 0.9463 - val_loss: 0.8665 - val_accuracy: 0.7699\n",
            "Epoch 16/50\n",
            "299/299 [==============================] - 2s 7ms/step - loss: 0.1958 - accuracy: 0.9459 - val_loss: 0.9421 - val_accuracy: 0.7582\n",
            "Epoch 17/50\n",
            "299/299 [==============================] - 2s 7ms/step - loss: 0.2190 - accuracy: 0.9371 - val_loss: 1.0490 - val_accuracy: 0.7502\n",
            "Epoch 18/50\n",
            "299/299 [==============================] - 2s 6ms/step - loss: 0.2248 - accuracy: 0.9338 - val_loss: 1.0530 - val_accuracy: 0.7376\n",
            "Epoch 19/50\n",
            "299/299 [==============================] - 2s 6ms/step - loss: 0.2136 - accuracy: 0.9400 - val_loss: 1.0636 - val_accuracy: 0.7431\n",
            "Epoch 20/50\n",
            "299/299 [==============================] - 2s 6ms/step - loss: 0.2025 - accuracy: 0.9436 - val_loss: 1.1311 - val_accuracy: 0.7288\n",
            "Epoch 21/50\n",
            "299/299 [==============================] - 2s 6ms/step - loss: 0.2011 - accuracy: 0.9402 - val_loss: 1.1551 - val_accuracy: 0.7154\n",
            "Epoch 22/50\n",
            "299/299 [==============================] - 2s 7ms/step - loss: 0.1931 - accuracy: 0.9439 - val_loss: 1.2642 - val_accuracy: 0.7049\n",
            "Epoch 23/50\n",
            "299/299 [==============================] - 2s 7ms/step - loss: 0.1956 - accuracy: 0.9438 - val_loss: 1.2506 - val_accuracy: 0.7091\n",
            "Epoch 24/50\n",
            "299/299 [==============================] - 2s 6ms/step - loss: 0.1899 - accuracy: 0.9460 - val_loss: 1.3114 - val_accuracy: 0.6907\n",
            "Epoch 25/50\n",
            "299/299 [==============================] - 2s 7ms/step - loss: 0.1947 - accuracy: 0.9467 - val_loss: 1.3961 - val_accuracy: 0.6894\n",
            "Epoch 26/50\n",
            "299/299 [==============================] - 2s 7ms/step - loss: 0.2053 - accuracy: 0.9397 - val_loss: 1.4306 - val_accuracy: 0.6647\n",
            "Epoch 27/50\n",
            "299/299 [==============================] - 2s 7ms/step - loss: 0.2289 - accuracy: 0.9347 - val_loss: 1.5987 - val_accuracy: 0.6538\n",
            "Epoch 28/50\n",
            "299/299 [==============================] - 2s 7ms/step - loss: 0.2146 - accuracy: 0.9374 - val_loss: 1.5865 - val_accuracy: 0.6542\n",
            "Epoch 29/50\n",
            "299/299 [==============================] - 2s 7ms/step - loss: 0.2157 - accuracy: 0.9394 - val_loss: 1.6900 - val_accuracy: 0.6379\n",
            "Epoch 30/50\n",
            "299/299 [==============================] - 2s 7ms/step - loss: 0.2113 - accuracy: 0.9370 - val_loss: 1.6593 - val_accuracy: 0.6379\n",
            "Epoch 31/50\n",
            "299/299 [==============================] - 2s 7ms/step - loss: 0.1836 - accuracy: 0.9460 - val_loss: 1.7667 - val_accuracy: 0.6220\n",
            "Epoch 32/50\n",
            "299/299 [==============================] - 2s 7ms/step - loss: 0.1727 - accuracy: 0.9510 - val_loss: 1.7624 - val_accuracy: 0.6358\n",
            "Epoch 33/50\n",
            "299/299 [==============================] - 2s 7ms/step - loss: 0.1725 - accuracy: 0.9504 - val_loss: 1.8913 - val_accuracy: 0.6203\n",
            "Epoch 34/50\n",
            "299/299 [==============================] - 2s 7ms/step - loss: 0.2122 - accuracy: 0.9393 - val_loss: 2.0883 - val_accuracy: 0.6094\n",
            "Epoch 35/50\n",
            "299/299 [==============================] - 2s 7ms/step - loss: 0.2308 - accuracy: 0.9301 - val_loss: 2.1254 - val_accuracy: 0.5981\n",
            "Epoch 36/50\n",
            "299/299 [==============================] - 2s 6ms/step - loss: 0.2162 - accuracy: 0.9386 - val_loss: 2.1127 - val_accuracy: 0.5989\n",
            "Epoch 37/50\n",
            "299/299 [==============================] - 2s 7ms/step - loss: 0.2087 - accuracy: 0.9385 - val_loss: 2.2368 - val_accuracy: 0.5859\n",
            "Epoch 38/50\n",
            "299/299 [==============================] - 2s 7ms/step - loss: 0.1947 - accuracy: 0.9412 - val_loss: 2.2793 - val_accuracy: 0.5792\n",
            "Epoch 39/50\n",
            "299/299 [==============================] - 2s 7ms/step - loss: 0.1768 - accuracy: 0.9470 - val_loss: 2.2400 - val_accuracy: 0.5788\n",
            "Epoch 40/50\n",
            "299/299 [==============================] - 2s 7ms/step - loss: 0.1739 - accuracy: 0.9496 - val_loss: 2.2855 - val_accuracy: 0.5763\n",
            "Epoch 41/50\n",
            "299/299 [==============================] - 2s 7ms/step - loss: 0.1707 - accuracy: 0.9505 - val_loss: 2.3567 - val_accuracy: 0.5662\n",
            "Epoch 42/50\n",
            "299/299 [==============================] - 2s 7ms/step - loss: 0.1805 - accuracy: 0.9472 - val_loss: 2.4065 - val_accuracy: 0.5679\n",
            "Epoch 43/50\n",
            "299/299 [==============================] - 2s 8ms/step - loss: 0.1785 - accuracy: 0.9452 - val_loss: 2.5242 - val_accuracy: 0.5612\n",
            "Epoch 44/50\n",
            "299/299 [==============================] - 2s 7ms/step - loss: 0.1768 - accuracy: 0.9485 - val_loss: 2.6213 - val_accuracy: 0.5486\n",
            "Epoch 45/50\n",
            "299/299 [==============================] - 2s 7ms/step - loss: 0.1972 - accuracy: 0.9403 - val_loss: 2.8676 - val_accuracy: 0.5218\n",
            "Epoch 46/50\n",
            "299/299 [==============================] - 2s 6ms/step - loss: 0.2116 - accuracy: 0.9392 - val_loss: 2.9091 - val_accuracy: 0.5373\n",
            "Epoch 47/50\n",
            "299/299 [==============================] - 2s 7ms/step - loss: 0.2284 - accuracy: 0.9332 - val_loss: 2.9562 - val_accuracy: 0.5172\n",
            "Epoch 48/50\n",
            "299/299 [==============================] - 2s 7ms/step - loss: 0.2036 - accuracy: 0.9383 - val_loss: 2.9955 - val_accuracy: 0.5138\n",
            "Epoch 49/50\n",
            "299/299 [==============================] - 2s 7ms/step - loss: 0.1887 - accuracy: 0.9451 - val_loss: 3.0027 - val_accuracy: 0.5105\n",
            "Epoch 50/50\n",
            "299/299 [==============================] - 2s 7ms/step - loss: 0.1720 - accuracy: 0.9501 - val_loss: 3.0653 - val_accuracy: 0.5134\n"
          ]
        }
      ]
    },
    {
      "cell_type": "code",
      "metadata": {
        "id": "q_orBXOrCsNn"
      },
      "source": [
        "import matplotlib.pyplot as plt\n",
        "import seaborn as sns\n",
        "\n",
        "# Entrenamiento\n",
        "epoch_count = range(1, len(hist.history['accuracy']) + 1)\n",
        "sns.lineplot(x=epoch_count,  y=hist.history['accuracy'], label='train')\n",
        "sns.lineplot(x=epoch_count,  y=hist.history['val_accuracy'], label='valid')\n",
        "plt.show()"
      ],
      "execution_count": null,
      "outputs": []
    },
    {
      "cell_type": "markdown",
      "metadata": {
        "id": "KN6Fg_BsxJe6"
      },
      "source": [
        "### 5 - Predicción de próxima palabra"
      ]
    },
    {
      "cell_type": "code",
      "metadata": {
        "id": "iy_AXWQWzeeE"
      },
      "source": [
        "# Keras pad_sequences\n",
        "# https://www.tensorflow.org/api_docs/python/tf/keras/preprocessing/sequence/pad_sequences\n",
        "# Si la secuencia de entrada supera al input_seq_len (3) se trunca\n",
        "# Si la secuencia es más corta se agregna ceros al comienzo"
      ],
      "execution_count": null,
      "outputs": []
    },
    {
      "cell_type": "code",
      "metadata": {
        "id": "IBvKHFPmzpy2",
        "colab": {
          "base_uri": "https://localhost:8080/"
        },
        "outputId": "efcd72d5-430c-4f26-ccad-6ca19326b992"
      },
      "source": [
        "# Se utilizará gradio para ensayar el modelo\n",
        "# Herramienta poderosa para crear interfaces rápidas para ensayar modelos\n",
        "# https://gradio.app/\n",
        "import sys\n",
        "!{sys.executable} -m pip install gradio --quiet"
      ],
      "execution_count": 43,
      "outputs": [
        {
          "output_type": "stream",
          "name": "stdout",
          "text": [
            "\u001b[K     |████████████████████████████████| 5.6 MB 26.4 MB/s \n",
            "\u001b[K     |████████████████████████████████| 2.3 MB 61.7 MB/s \n",
            "\u001b[K     |████████████████████████████████| 84 kB 3.6 MB/s \n",
            "\u001b[K     |████████████████████████████████| 84 kB 3.4 MB/s \n",
            "\u001b[K     |████████████████████████████████| 141 kB 76.8 MB/s \n",
            "\u001b[K     |████████████████████████████████| 275 kB 75.2 MB/s \n",
            "\u001b[K     |████████████████████████████████| 54 kB 2.2 MB/s \n",
            "\u001b[K     |████████████████████████████████| 54 kB 2.1 MB/s \n",
            "\u001b[K     |████████████████████████████████| 212 kB 62.0 MB/s \n",
            "\u001b[K     |████████████████████████████████| 57 kB 4.1 MB/s \n",
            "\u001b[K     |████████████████████████████████| 63 kB 2.0 MB/s \n",
            "\u001b[K     |████████████████████████████████| 80 kB 5.4 MB/s \n",
            "\u001b[K     |████████████████████████████████| 68 kB 6.3 MB/s \n",
            "\u001b[K     |████████████████████████████████| 43 kB 1.9 MB/s \n",
            "\u001b[K     |████████████████████████████████| 856 kB 60.4 MB/s \n",
            "\u001b[K     |████████████████████████████████| 62 kB 672 kB/s \n",
            "\u001b[K     |████████████████████████████████| 4.1 MB 57.6 MB/s \n",
            "\u001b[?25h  Building wheel for ffmpy (setup.py) ... \u001b[?25l\u001b[?25hdone\n",
            "  Building wheel for python-multipart (setup.py) ... \u001b[?25l\u001b[?25hdone\n"
          ]
        }
      ]
    },
    {
      "cell_type": "markdown",
      "metadata": {
        "id": "mCeMWWupxN1-"
      },
      "source": [
        "### 6 - Generación de secuencias nuevas"
      ]
    },
    {
      "cell_type": "code",
      "metadata": {
        "id": "bwbS_pfhxvB3"
      },
      "source": [
        "def generate_seq(model, tokenizer, seed_text, max_length, n_words):\n",
        "    \"\"\"\n",
        "        Exec model sequence prediction\n",
        "\n",
        "        Args:\n",
        "            model (keras): modelo entrenado\n",
        "            tokenizer (keras tokenizer): tonenizer utilizado en el preprocesamiento\n",
        "            seed_text (string): texto de entrada (input_seq)\n",
        "            max_length (int): máxima longitud de la sequencia de entrada\n",
        "            n_words (int): números de palabras a agregar a la sequencia de entrada\n",
        "        returns:\n",
        "            output_text (string): sentencia con las \"n_words\" agregadas\n",
        "    \"\"\"\n",
        "    output_text = seed_text\n",
        "\t# generate a fixed number of words\n",
        "    for _ in range(n_words):\n",
        "\t\t# Encodeamos\n",
        "        encoded = tokenizer.texts_to_sequences([output_text])[0]\n",
        "\t\t# Si tienen distinto largo\n",
        "        encoded = pad_sequences([encoded], maxlen=max_length, padding='pre')\n",
        "\t\t\n",
        "\t\t# Predicción softmax\n",
        "        y_hat = model.predict(encoded).argmax(axis=-1)\n",
        "\t\t# Vamos concatenando las predicciones\n",
        "        out_word = ''\n",
        "\n",
        "        # Debemos buscar en el vocabulario la palabra\n",
        "        # que corresopnde al indice (y_hat) predicho por le modelo\n",
        "        for word, index in tokenizer.word_index.items():\n",
        "            if index == y_hat:\n",
        "                out_word = word\n",
        "                break\n",
        "\n",
        "\t\t# Agrego las palabras a la frase predicha\n",
        "        output_text += ' ' + out_word\n",
        "    return output_text"
      ],
      "execution_count": 86,
      "outputs": []
    },
    {
      "cell_type": "code",
      "source": [
        "input_text='the sea is'\n",
        "\n",
        "generate_seq(model, tok, input_text, max_length=3, n_words=8)"
      ],
      "metadata": {
        "colab": {
          "base_uri": "https://localhost:8080/",
          "height": 36
        },
        "id": "QdHy7hVzI9d8",
        "outputId": "a7d7c12b-3639-4665-844d-1be128487bb9"
      },
      "execution_count": 87,
      "outputs": [
        {
          "output_type": "execute_result",
          "data": {
            "text/plain": [
              "\"the sea is legrasse's fore architectural when he found had questions\""
            ],
            "application/vnd.google.colaboratory.intrinsic+json": {
              "type": "string"
            }
          },
          "metadata": {},
          "execution_count": 87
        }
      ]
    },
    {
      "cell_type": "markdown",
      "metadata": {
        "id": "T2SHmXbgxQH9"
      },
      "source": [
        "###Conclusiones\n",
        "El modelo entrenado tuvo un muy mail desempeño en el entrenamiento además de overfitting. Cuestiones que podrían mejorarse:\n",
        "- Agregar más capas o neuronaes\n",
        "- Agregar BRNN\n",
        "\n",
        "Para casos donde los epochs son menores, tenemos mas información, ya que no existió un sobre ajuste, y para \"the sea is\" con 750 epochs tenemos que resulta \"the sea is i door    \", a diferencia que con 50 epochs que obtenemos \"the sea is legrasse's fore architectural when he found had questions  \", ambos con n_words = 8. Apesar de obtener accuracy mas alto para 750 epochs, el sobreajuste es demasiado alto:\n",
        "\n",
        "750 EPOCHS:\n",
        "\n",
        "![descarga (2).png](data:image/png;base64,iVBORw0KGgoAAAANSUhEUgAAAXQAAAD4CAYAAAD8Zh1EAAAABHNCSVQICAgIfAhkiAAAAAlwSFlzAAALEgAACxIB0t1+/AAAADh0RVh0U29mdHdhcmUAbWF0cGxvdGxpYiB2ZXJzaW9uMy4yLjIsIGh0dHA6Ly9tYXRwbG90bGliLm9yZy+WH4yJAAAgAElEQVR4nO3deXxU5aHG8d872RMSyMqSEAOyBhCIAUEQRVEBFetG1XpbbRVbu9hVqW291durVltuq7W1al1a96UqKq4oKhWQRdYQ9iULISRkI/sk7/1jhphAgACTnMnM8/188mHmnJOZZzLwcHLmPe8x1lpERKT7czkdQEREfEOFLiISIFToIiIBQoUuIhIgVOgiIgEi1KknTkpKshkZGU49vYhIt7Ry5coSa21ye+scK/SMjAxWrFjh1NOLiHRLxphdR1qnQy4iIgFChS4iEiBU6CIiAcKxY+jtaWxsJD8/n7q6OqejdKrIyEjS0tIICwtzOoqIBBC/KvT8/HxiY2PJyMjAGON0nE5hraW0tJT8/HwGDBjgdBwRCSB+dcilrq6OxMTEgC1zAGMMiYmJAf9biIh0Pb8qdCCgy/ygYHiNItL1/K7QRUS6u63FVXyUu7fddZ05ZbkKvZXy8nL++te/Hvf3zZw5k/Ly8k5IJCL+zN3UTFOzbbn97LJdbN93gGnzPuXbT62grrGJhz/eytxX17K7tIb91Q1c9cgSlm0v7ZQ8fvWhqNMOFvott9zSZrnb7SY09Mg/qgULFnR2NBHpQp9vK2HbvmquOyMdgLmvriM6IoTJg5J4Zukufn7hUFbtKuM3b2wgLjKUt354Fg+8v4k31xS2eZy73tzA81/kAfDC8jxiI0KpczdR527ulNwq9Fbmzp3Ltm3bGDNmDGFhYURGRhIfH09ubi6bN2/ma1/7Gnl5edTV1XHrrbcyZ84c4KtpDA4cOMCMGTOYPHkyn3/+OampqbzxxhtERUU5/MpE5FDWWmoamggPdREW4qK2oYmSA/W4XIZrH1sGwOi0nlTVuXlxhaeUn/zPTgBy9lSyt7IegMo6N1Me+LjNY2ckRpNfVttS5ucOS+Gj3GKq6t18e9IAzh7S7lQsJ81vC/2uNzeQU1jp08fM7BfHf18y4ojr77vvPtavX8/q1atZtGgRF110EevXr28ZXvjEE0+QkJBAbW0t48aN44orriAxMbHNY2zZsoXnn3+exx57jNmzZ/Pqq69y3XXX+fR1iMjRNTVbmpot4aGeo8rV9W6eW7abDzfu5ckbxvG/b2/k2WW7ARiQFMPvrziNrz+6BGtpU7az/vKfwx57bHovvtztOcT6P5eOIDo8lJ+9vAaAB648jc+2lHB+Zm8iQl28sDyPQSk9uGPmcBZvKaGwvJYrTk/rtNftt4XuD8aPH99mrPiDDz7Ia6+9BkBeXh5btmw5rNAHDBjAmDFjADj99NPZuXNnl+UVCXbNzZaXVuTx90+3U13v5sazBnDPgtw227zwRV5LmQPsKKlm9t+XtNz/ZPM+AC7PSmX+6kLczZZzhiazaJNn+S3nDOKmf3omFrxwRB8Se0SQW1TJ1KEpnDkoiauy+7c81gUj+rTcnjw4yfcv+BB+W+hH25PuKjExMS23Fy1axIcffsiSJUuIjo7mnHPOaXcseURERMvtkJAQamtruySrSCBqcDdTWddITmEl/1yyi79+I4v3c4o4Y0AicVGhPP7ZDt7bUMQFmb156vOdlBxoaPP9rcv86nH9eX11AXe/lQPA49/MJuuUeG54ajlr8sq58vQ05kwZyAX/9ykA82aPYd7sMeyvbqBXVBh/WriFwSk9mHhqImPTe3HTWQNJiYsE4FcXZXbRT+To/LbQnRAbG0tVVVW76yoqKoiPjyc6Oprc3FyWLl3axelEAlu9u4k1eRWcmhzD+sJKymsa+HRzCa+uyqd/QhR5+2u55dlVfLhxL6ckRhMW4mJr8QEA1uZXtHmsqLAQvj6uPzERIUwf0ZeEHuGk9orix9OGMOHehQAM7xdHQkw4j/3X6azNr2DcgAR6RoVx7+WjaD2yMCEmHICfnj+kZdlrt0zq5J/GiVGht5KYmMikSZMYOXIkUVFR9O7du2Xd9OnTeeSRRxg+fDhDhw5lwoQJDiYV6b7e21DE22v38OuLh5MSG8mBejcvr8jjrjdzjvg9efs9v+l+uNEztntXaQ3R4SHMnTGMpB4R/PzlNYxMjeMf3xpHU7OlT1wkLtfhJ/D16RnJPZeNwmJJ7eUZrJASF8m0zMiWba4Zn+7Ll9ulTGcOcj+a7Oxse+gFLjZu3Mjw4cMdydPVgum1SmBrarZ8vq2EyYOSWs6CXrhxL6EhLqYMTuLfqwq4951cZo3uxx0zhzHoV++0fG9KbAQH6t3UNDQd9TmuGZ/O3BnDKKqo42+LtvL66kJ+fsEQfnDuYAB2l9YQGmLo1yvwR5QZY1Zaa7PbW6c9dBHpsNID9eSV1TKmfy8AKmobuebRpeTsqeSR67LYX93I0D6xfOdpz85aZt84dpVWU9PYxBP/2UFjU9vx18VV9W3u9+sZSWFFHZ/dNpV+vaKoqG0kLjKU0BDPaJWeUWH8+uJMQlwuvj7uqz3p9MToznzZ3YYKXUQ67CcvrWHJthI+u+1c1uaXM+dfK1vWffeZVYdtn7PHM/T4ieuzeeijrfxrqefqadeekU6Du5mvjUllQ2EF977j+fDyiRvGkbuniv4JnoI+ePy6taQeEfxx9mifv7ZA4HeFbq0N+MmrnDrMJXI01loamywF5bU8sXgHheW13DL1VLbtqyYhOhx3czOfeof0/e7tnJbb7RmV2pMbJmXw05c847MnDUoiPSGaafM+ZWByDPdcNqpl2zNPTWTJ9lK+NTGDYX3iGNYnrnNfaADzq0KPjIyktLQ0oKfQPTgfemRk5LE3FvGRyrpGiivrGZTSo2VZdb2b+97JZeqwZEoPNPCLV9YCkBgTTmm1Z/jfwtziNo8zol8cw/vG8crKfACuGd+ffj2jWFtQwZj+vTg1uQfffWYlF47ozeVZaS2FHhEawqCUWFbfeT6NTW13aFwuw1M3jO+01x5M/OpDUV2xSMQ3mpttyyiP8poGxv/vQhqamln+q2n89KXVrNpVRvUxPohsT87dFxLqcjH1D4tIiAnnmRvPoGdU27/H+WU19I6LJCzExaaiKkJcps1/JHJyus2HomFhYbqKj0gHWWvZV1XfcnLLQR/l7uX2V9fx9A3jKTlQz7IdpTR4P4y88enlrGk1Znvq0GSW7yzjQL2bGSP78M76IgCW3XEeBeW1/GPxDubNHs0tz6ziquz+RId7KuPDn55NZJir3d+k0+K/+oByaJ9Yn79uOTK/2kMXkY57+OOtPPDeJhbfPpW+PaO4d8FGUuIieGN1IRsKK+nbM5I9FZ7fdl3Gc2GVg1O9Alw3IZ27Z41kR2k1d76xnrnTh1PvbqKqzs3UYSlOvSw5hm6zhy4iR9bUbKlucNPobiYiLKRl5r9vPL6MX84YzuOLd7TZ/mCZA4xNj+fW8wbz2pcFnJbWk0EpPZg4MBGXy3Bqcg+evVEnygUCFbqIH6tpcNNs4UCdm2sfX8r2fdUADOsTS8kBzxjuXaU1fPcZz/DB8BAXxsDPLhjCPQtyCXUZ5kwZyOVZqQxKiWVKJ03bKv5BhS7iR6y1lNc0snFPJTtLa7j3nY1gITU+isLyWkamxrG+oJLcIs+cQy9/dyJXP7qUpmbLP789ngkDEwl1GYyB2MgwJg5MJCMp5hjPKoFChS7SBUoP1LOjpJrsjISWZVuLD1BQXsvEgYm8t6GIL3bs59llu2h1mJsR/eLYUOgp8NumD+XmKadSUFbLRQ9+xhkDExiXkcCW382gqLLusNPeu/OcJHJiVOgiPnag3k2oyxAZFtKy7BuPLyO3qIpFPz+H5NgI7n83l6eXeM6aDHUZ3M2WqLCQNmV+w6QM7pg5nAXr9vDJpn3cOHkgIS5DemI0S+84jyjv47tcwTGHiRybCl3EB6rqGqlrbCY5NoLJv/+I3rGR/P7K07hnwUYeumZsyyGSc/6w6LDvdTdbBibH8MFPzsZay/s5exnWJ5aByZ6x25eOSeXSMaltvicmQv905XD6WyFykqy1XPh/n7K3qp7P555LeU0j5TWNXPvYUmoamji3nRJ3GVjyy/Oob2xmygMf853JAwhxGcAwc1TfLn8NEhhcTgcQ6Q7q3U18vq0E8BR4s/fYSIO7mReW51FYUUdTs+XbTy1v+Z6DU8IePCPzL9eObRllcsOkAfSOiyQ9MZpNv5vOtTreLT6gPXSRDrh3QS5Pfb6Tt380mXfXF/HQR1u5bGwqizYVU1bT2LLdBu+FzX9+wRD+8P5mHrxmLD96/ksSY8I5b1hvLj6tH2vyyhne96sJqCJCQw57PpEToUIXacf6ggqSekSwYtd+knpEsGzHfgCeW7a75QLDr31Z0OZ7pg1P4cONnsmsvj91UMvFF2aN7tdmu9HeucRFfE2FLuK1cU8l1fVuYiJCufihxUSEuqh3e+ZAiYv0/FM5WOa3njeY5NgIYiNDuf3VtSTHRvDof2Vz15sbyEiKCdjZQsW/dajQjTHTgT8DIcDj1tr7DlmfDjwN9PJuM9dau8DHWUU6TW1DEzP+/BkAl4/1jCg5WOYAlXVurjw9jVdW5hMe4uKH5w5quYrOWYOTiQ4PweUy3HXpyK4PL+J1zEI3xoQADwPnA/nAcmPMfGtt6yu6/hp4yVr7N2NMJrAAyOiEvCI+U13v5vK/fs7QPrFMy/zqguD/bnUoZVifWHKLqoiLDOV3XxvJsD6xTBveu6XMof2r6og4oSN76OOBrdba7QDGmBeAS4HWhW6Bg5/y9AQKfRlSxBeq6ho5UO/mg5y99O0ZxU3/9Mz2uWlvFfPXeP7KThmSzKeb93Hz2QMZn5FAVno8H2zcy4QBiUSGhXDjWQOdfAkiR9WRQk8F8lrdzwfOOGSb3wLvG2N+CMQA09p7IGPMHGAOQHq6hmlJ11i2vZTCilp+8fJa3M1Hni76/itPIyMxhshQF9efmUHfnp6zL2dn9++qqCInxVcfil4DPGWt/aMxZiLwL2PMSGttm0t8W2sfBR4Fz3zoPnpukXatL6jgjtfWsbbVBR0ABibFUFXvZp/3ivPXjO9PeU1jS3GPH5Bw2GOJdAcdKfQCoPUuSpp3WWvfAaYDWGuXGGMigSSgGJEuUl7TwPaSajYUVPDm2j184R1q2No3zkjnt7NGEGIMRZV1GEPLnrhId9eRQl8ODDbGDMBT5FcD1x6yzW7gPOApY8xwIBI48iXBRXwkp7CSgckxvLg8j/+ev+Gw9a9/fxKNTc38e1UBXx/XnzGtxoBrQisJNMcsdGut2xjzA+A9PEMSn7DWbjDG3A2ssNbOB34GPGaM+QmeD0ivt05d204CnrupmTdWF1LT2MRvXl9/1G1Hp/XEGMO4DB1GkcDXoWPo3jHlCw5Zdmer2znAJN9GEzncvA82s3zHfpZsLz1s3Wu3nElqfBTJPSLYvPcANQ1uneAjQUVniorfyy+rIb+slg2FlTy4cEubdc/deAbPLtvN18amMjY9vmW5rjYvwUiFLn6pudlSVe8mxGWY/PuPD1t/4Yje/ObiTNLiozlzUJIDCUX8jwpd/E5xZR3j71l42PI/fX0MU4YksyavnLMGJ7U5W1NEVOjiJ2obmvjD+5sY078XP3z+y8PWb/7dDMJDPQU+dVhKV8cT6RZU6OKIwvJaahrcDEqJ5b53cnnkk21t1l80qi9Ltpeyv7qBxbdPbSlzETkyFbp0qQZ3M3sr6/jWk1+wfV81F43qy9vr9rSsv+eyUcREhHDpmFQqahqxWHpFa/IrkY5QoUuny9tfw6rdZVxyWj9ufeFL3llf1LLuYJlfPa4/s8f1J6vVSJWe0WFdnlWkO1OhS6d74L1NzF9TyKaiKhZu/Go2iNumD+X+dzcBcO/lozRmXOQkqdCl0+3aXwPAXxd5jpP/5uJMiivr+N7Zp3LmqUkUV9apzEV8QIUuPrW1+ABp8VGEuAy3PLuKD3L2AjB5UBIF5bXERYVx/ZkZhLg8BT5G19cU8RkVuvjMyl37ueJvS9pdd+clmQzprbM3RTqTCl1O2vw1hby/oYi31u45bN11E9L50XmDSYmNdCCZSHBRocsJK6qoY/PeKn7U6kSg3nERfPKLqUR4x43r2LhI11Ghy3Gx1vLyinxeWpHHil1lh61ffPu5hOmUfBFHqNDluHyQs5fbXl0LQGJMOJn94shKj2dEvzjOz+ytPXIRB6nQ5ai27K2if0I0z3+xm7vezGlZfsaABF68eaKDyUTkUCp0OaL91Q2c/3+fHrb8R+cO4sfThjiQSESORoUuhymqqMNlOGwK25GpcfSOjeQ7Zw3E5dKhFRF/o0KXNv66aCv3v7uJ+FbzqGT2jeOOmcMZNyCeiNAQB9OJyNGo0KXF0u2lLXOrlNU0AvD0t8dz9pBkJ2OJSAep0IPcqt1l3Pj0CpJ6hLOjpBrwjCW/ILMPd16SqSGIIt2ICj1IVde7MQbmvb+Z/dUN7K9uAOD+K09jdnZ/h9OJyIlQoQchd1Mz33riizYnBkWFhfD8nAmaLEukG1OhB5m6xiYuevAztu2rblm2+PappMVHO5hKRHxBB0iDSEVNI7P+srhNmT95/TiVuUiA0B56EKisa6S63s39725i894DgOcQyye/OIeUOM2CKBIoVOgBbsXO/Vz5yFdzlF97Rjr3XDbKwUQi0llU6AFqf3UDWf/zwWHLZ43u50AaEekKKvQAk1tUyYJ1RSxY99XFJv541WiyTonntS8LGJ+R4GA6EelMKvQAUtfYxPQ/fXbY8kvH9CM0xMVPz9eEWiKBTKNcAkS9u6nNlYMOGpAUQ6jO9hQJCtpDDwDWWj7MKeb9nL1kpffiuZsmUNPQREJMuNPRRKQLqdC7uaXbS/nZS2soKK8lqUcEL908kdAQF5FhmhVRJNio0LupBnczJQfqufrRpS3Lbps+VIdXRIKYCr2b+t+3c3h6yS4AfnHhUDISY5g5qo/DqUTESSr0bsZaS2OT5fnleQCcn9mbOVMGappbEVGhdyfFlXVtLgt3+/RhfO+cUx1MJCL+RIXeTfz9k23c+05uy/37Lh/FZVmpDiYSEX+jQu8Gquoa+cvHWwGIjQjl5rMHcvX4dIdTiYi/6VChG2OmA38GQoDHrbX3tbPNbOC3gAXWWGuv9WHOoLW1uIofPb+a2oYmXvnuRLLS43G5jNOxRMQPHbPQjTEhwMPA+UA+sNwYM99am9Nqm8HAL4FJ1toyY0xKZwUONre/uo6cPZXMmz2abM3DIiJH0ZE99PHAVmvtdgBjzAvApUBOq21uAh621pYBWGuLfR002OwqrebsBxYBcNXpaVyeleZsIBHxex0p9FQgr9X9fOCMQ7YZAmCM+Q+ewzK/tda+e+gDGWPmAHMA0tN1DLg9zc2W2X9f0uZ6n9dNOMXBRCLSXfjqQ9FQYDBwDpAGfGqMGWWtLW+9kbX2UeBRgOzsbOuj5w4o20uqW8o8qUcEC392Nj2jwhxOJSLdQUcKvQDo3+p+mndZa/nAMmttI7DDGLMZT8Ev90nKILGjpJpp8z4B4J1bz+KUxGiiwzUQSUQ6piOnFy4HBhtjBhhjwoGrgfmHbPM6nr1zjDFJeA7BbPdhzqDw0EdbWm4P6xOrMheR43LMQrfWuoEfAO8BG4GXrLUbjDF3G2NmeTd7Dyg1xuQAHwO/sNaWdlboQJS3v4a31uzh1OQYXrvlTIzR0EQROT7GWmcOZWdnZ9sVK1Y48tz+xFrLXz7ayh8/2EyIy7D49qn07RnldCwR8VPGmJXW2uz21ul3egdV1TUy+q73afb+nzpjZB+VuYicMBW6gz7KLW4p8398K5vJg5OcDSQi3ZoK3SE7SqpZun0/ABvuupCYCL0VInJy1CIOaGq2TP3DIgBGp/VUmYuIT+iqCA54c01hy+25M4Y7mEREAol2DbvY4i0l/PzlNWSl9+K5myboYs4i4jPaQ+9CZdUN3PyvFcTHhPPk9eNV5iLiUyr0LlJcWceUBz6mprGJx7+ZTc9ozc8iIr6lQu8ir68uoKrOzbzZoxndv5fTcUQkAKnQu8inm0sY2juWy8ZqXnMR6Rwq9E5WVt3As8t2sXhrCWfpxCER6UQa5dKJmpotFz+0mILyWgB+eO5ghxOJSCDTHnonev3LgpYyv25Cuj4IFZFOpT30TuJuauaZZbtIT4jmk1+co+lwRaTTaQ+9E7ibmvnJS2v4cnc5Pzx3kMpcRLqECr0T/PGDzby5ppBzh6VwVXb/Y3+DiIgPqNB9rLrezT8/3wnAPZeNcjaMiAQVFboP1TU2cfebOVQ3NPHq9ybSp2ek05FEJIjoQ1Efmvnnz9heUk1m3ziy0uOdjiMiQUZ76D6yu7SG7SXV9IgIZf4PJumDUBHpcip0H2huttz+6loAXvneREJD9GMVka6n5vGBxxdvZ8n2Ui4Z3Y9hfeKcjiMiQUqF7gML1hUB8JNpOrVfRJyjQj9J6wsqWJ1XzvVnZjAwuYfTcUQkiKnQT9LFDy0GIOsUjWoREWep0E/Cr19f13L73GEpDiYREVGhn7D8shqeWbobgOduOoMeERrSLyLOUqGfoJ+8uBqA+684jTNP1YUrRMR5KvQTsHlvFSt3lXHJ6H7MHqfJt0TEP6jQT8C89zcTGxnGHTOHOR1FRKSFCv04ldc0sDB3L1dkpdG3Z5TTcUREWqjQj0NjUzMXP7SYxibL5VmpTscREWlDhX4cFm3aR36Z5xqhI/rpFH8R8S8q9A6qrGvkpn+uAOCz26ZqNkUR8Tsq9A56bplnzPl1E9LpnxDtcBoRkcOp0Dvoy91lhIe6uPPiEU5HERFplwq9A4oq6vgot5jZ2WmEh+pHJiL+Se10DNZarn/yCxqbLN+cmOF0HBGRI+pQoRtjphtjNhljthpj5h5luyuMMdYYk+27iM4qrKgjt6gKgMEpmh5XRPzXMQvdGBMCPAzMADKBa4wxme1sFwvcCizzdUgnfbm7DICnbhinkS0i4tc6soc+Hthqrd1urW0AXgAubWe7/wF+D9T5MJ/jnlm6i5TYCE3AJSJ+ryOFngrktbqf713WwhiTBfS31r59tAcyxswxxqwwxqzYt2/fcYftausLKli6fT9zpgzUh6Ei4vdOuqWMMS5gHvCzY21rrX3UWpttrc1OTk4+2afudG+t3QPArDH9HE4iInJsHSn0AqD1HLFp3mUHxQIjgUXGmJ3ABGB+d/9gtLC8lsc+287I1DhSYiOdjiMickwdKfTlwGBjzABjTDhwNTD/4EprbYW1Nslam2GtzQCWArOstSs6JXEXWbBuD03NlnmzxzgdRUSkQ45Z6NZaN/AD4D1gI/CStXaDMeZuY8yszg7oBGstr64qIDk2giG9Y52OIyLSIR26EKa1dgGw4JBldx5h23NOPpZzrLXM+ddKNu6pJEIfhIpIN6LGOkR+WS0f5OwF4P4rT3M4jYhIx6nQD7GrtAaAMwYkcOkYXcRCRLoPFfohdpRWA/Dnq8c6nERE5Pio0A+xYO0e+vWMJCU2wukoIiLHRYXeSl1jE1/s3M+lY1NxuTRvi4h0Lyr0Vm7+10qami2npfZ0OoqIyHFTobeydHspAJMGayIuEel+VOhexVV11Lub+dXM4cRFhjkdR0TkuKnQvd5dXwTAxFMTHU4iInJiVOhATYObB97bxLA+sWT2jXM6jojICVGhA59s2kdVnZv/vmSERreISLelQgdW55cTHuLi9FPinY4iInLCVOjA6t3lDO0Tq6sSiUi3FvQNVlHbyMpdZUwapKGKItK9BX2h//PznbibLZeM7ut0FBGRkxL0hf7uhiKyT4lnRD+dHSoi3VtQF/reyjo2FFYydViK01FERE5aUBf6ok3FAJyrQheRABDUhb5wYzF9e0YyrI+uGyoi3V/QFnrpgXo+yi1m5qi+GKOTiUSk+wvaQl++swx3s2XmKI1uEZHAELSFvq6gnFCXYUQ/zd0iIoEhaAt9bX4FQ3rHEhkW4nQUERGfCMpCLz1Qz8pdZYzur7HnIhI4grLQ31hdSE1DE1dl93c6ioiIzwRloW8priI+OoysdM2uKCKBI+gK3d3UzPKdZQxK6eF0FBERnwq6Qv9i5362Fh/gytPTnI4iIuJTQVfoq/PKAbhwRB+Hk4iI+FZQFbq1lrfW7GFYn1h6RYc7HUdExKeCqtALK+rI2VPJbI1uEZEAFFSFvtZ7uCVL1w4VkQAUVIX+yeZ9xISHMLyvZlcUkcATNIVe0+Bmwbo9TMvsTUSoTvcXkcATNIX+ce4+KuvcXDM+3ekoIiKdImgK/bMt+4iLDCVbx89FJEAFTaGvya9gTHo8oSFB85JFJMgERbvVu5vYsreKkZr7XEQCWFAU+uaiA7ibLSNTNV2uiASuDhW6MWa6MWaTMWarMWZuO+t/aozJMcasNcYsNMac4vuoJ25dQQUAI/up0EUkcB2z0I0xIcDDwAwgE7jGGJN5yGZfAtnW2tOAV4D7fR30ZHyyuZg+cZH0T4hyOoqISKfpyB76eGCrtXa7tbYBeAG4tPUG1tqPrbU13rtLAb+ZyrCusYlPN5cwLTMFY4zTcUREOk1HCj0VyGt1P9+77Ei+A7zT3gpjzBxjzApjzIp9+/Z1POVJWLGzjNrGJs4b3rtLnk9ExCk+/VDUGHMdkA080N56a+2j1tpsa212cnKyL5/6iDbuqQRgdFqvLnk+ERGnhHZgmwKg9fSEad5lbRhjpgG/As621tb7Jt7J21hUSXJsBAkxmi5XRAJbR/bQlwODjTEDjDHhwNXA/NYbGGPGAn8HZllri30f88Q0N1s+21LCuAydHSoige+YhW6tdQM/AN4DNgIvWWs3GGPuNsbM8m72ANADeNkYs9oYM/8ID9elFuYWs6+qnotG9XM6iohIp+vIIRestQuABYcsu7PV7Wk+zuUTb68tJDEmnAtH6ANREQl8AXumaHOz5dMtJUwZkqz5W0QkKARs060rqGB/dQNnD+ma0TQiIk4L2EL/96p8wkNdnDNUhS4iwSFgC/3TLSVMGWwdT/0AAAZkSURBVJxEr2gNVxSR4BCQhZ5fVsOOkmqyMxKcjiIi0mUCstCfW7abUJfhktEarigiwSMgC/0/20oZ078Xqb00u6KIBI+AK/TcokrW5JXrw1ARCToBV+h/W7SN6PAQrpvgV9fYEBHpdAFV6Jv3VvHmmkKum3CKRreISNAJqEJ/5JNtxESEcvOUgU5HERHpcgFT6Gvyyvn3qgLOz+xNYo8Ip+OIiHS5gCn0J/+zg1CX4fbpw5yOIiLiiIAo9MVbSnh9dSGzx/Wnd1yk03FERBzR7Qu9vKaBH7+4mtReUdx5cabTcUREHNOh+dD9VWVdI1f87XNKq+v59/fOJDIsxOlIIiKO6bZ76NX1bm54cjnb9lXzyHWnMzZdl5kTkeDWLffQ31hdwLwPNrN7fw3fn3oqF47o43QkERHHdbtCf2ttIbe+sBqAh6/N4qLT+jqcSETEP3S7Qo+LDGNYn1juuXwUWTrMIiLSotsV+pQhyUzRZeVERA7TbT8UFRGRtlToIiIBQoUuIhIgVOgiIgFChS4iEiBU6CIiAUKFLiISIFToIiIBwlhrnXliY/YBu07w25OAEh/G6Qz+ntHf84H/Z/T3fKCMvuBv+U6x1rZ7dqVjhX4yjDErrLXZTuc4Gn/P6O/5wP8z+ns+UEZf8Pd8remQi4hIgFChi4gEiO5a6I86HaAD/D2jv+cD/8/o7/lAGX3B3/O16JbH0EVE5HDddQ9dREQOoUIXEQkQ3arQjTHTjTGbjDFbjTFzHczxhDGm2BizvtWyBGPMB8aYLd4/473LjTHmQW/mtcaYrC7I198Y87ExJscYs8EYc6sfZow0xnxhjFnjzXiXd/kAY8wyb5YXjTHh3uUR3vtbveszOjuj93lDjDFfGmPe8tN8O40x64wxq40xK7zL/OZ99j5vL2PMK8aYXGPMRmPMRH/KaIwZ6v35HfyqNMb82J8ydpi1tlt8ASHANmAgEA6sATIdyjIFyALWt1p2PzDXe3su8Hvv7ZnAO4ABJgDLuiBfXyDLezsW2Axk+llGA/Tw3g4Dlnmf+yXgau/yR4DveW/fAjzivX018GIXvdc/BZ4D3vLe97d8O4GkQ5b5zfvsfd6ngRu9t8OBXv6WsVXWEKAIOMVfMx41v9MBjuMHPRF4r9X9XwK/dDBPxiGFvgno673dF9jkvf134Jr2tuvCrG8A5/trRiAaWAWcgeeMvNBD33PgPWCi93aodzvTybnSgIXAucBb3n/AfpPP+1ztFbrfvM9AT2DHoT8Lf8p4SK4LgP/4c8ajfXWnQy6pQF6r+/neZf6it7V2j/d2EdDbe9vR3N5f/cfi2QP2q4zewxmrgWLgAzy/gZVba93t5GjJ6F1fASR2csQ/AbcBzd77iX6WD8AC7xtjVhpj5niX+dP7PADYBzzpPXT1uDEmxs8ytnY18Lz3tr9mPKLuVOjdhvX8t+34eFBjTA/gVeDH1trK1uv8IaO1tslaOwbPnvB4YJiTeVozxlwMFFtrVzqd5RgmW2uzgBnA940xU1qv9IP3ORTP4cm/WWvHAtV4Dl+08IOMAHg/D5kFvHzoOn/JeCzdqdALgP6t7qd5l/mLvcaYvgDeP4u9yx3JbYwJw1Pmz1pr/+2PGQ+y1pYDH+M5hNHLGBPaTo6WjN71PYHSTow1CZhljNkJvIDnsMuf/SgfANbaAu+fxcBreP5j9Kf3OR/It9Yu895/BU/B+1PGg2YAq6y1e733/THjUXWnQl8ODPaOMgjH86vRfIcztTYf+Jb39rfwHLc+uPyb3k/GJwAVrX6N6xTGGAP8A9horZ3npxmTjTG9vLej8Bzj34in2K88QsaD2a8EPvLuNXUKa+0vrbVp1toMPH/XPrLWfsNf8gEYY2KMMbEHb+M5/rseP3qfrbVFQJ4xZqh30XlAjj9lbOUavjrccjCLv2U8OqcP4h/nBxYz8YzY2Ab8ysEczwN7gEY8eyDfwXO8dCGwBfgQSPBua4CHvZnXAdldkG8ynl8P1wKrvV8z/SzjacCX3ozrgTu9ywcCXwBb8fzqG+FdHum9v9W7fmAXvt/n8NUoF7/J582yxvu14eC/CX96n73POwZY4X2vXwfi/TBjDJ7fqHq2WuZXGTvypVP/RUQCRHc65CIiIkehQhcRCRAqdBGRAKFCFxEJECp0EZEAoUIXEQkQKnQRkQDx/3mujDUYbZGwAAAAAElFTkSuQmCC)\n",
        "\n",
        "\n",
        "50 EPOCHS:\n",
        "\n",
        "![descarga (4).png](data:image/png;base64,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)\n",
        "\n",
        "Es importante otras tecnicas de embedding para texto, vemos que apesar de usar 50 epochs y obtener un buen resutaldo, puede parecer sin sentido por el accuracy de validación, nos dice que el modelo solo predice bien con datos de entrenamiento."
      ]
    }
  ]
}